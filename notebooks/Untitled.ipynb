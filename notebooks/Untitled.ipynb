{
 "cells": [
  {
   "cell_type": "code",
   "execution_count": 2,
   "id": "19ef1c5c-0137-4389-ac21-b79f195b212c",
   "metadata": {
    "scrolled": true
   },
   "outputs": [
    {
     "ename": "KeyError",
     "evalue": "\"['label'] not found in axis\"",
     "output_type": "error",
     "traceback": [
      "\u001b[1;31m---------------------------------------------------------------------------\u001b[0m",
      "\u001b[1;31mKeyError\u001b[0m                                  Traceback (most recent call last)",
      "Cell \u001b[1;32mIn[2], line 9\u001b[0m\n\u001b[0;32m      6\u001b[0m df \u001b[38;5;241m=\u001b[39m pd\u001b[38;5;241m.\u001b[39mread_csv(\u001b[38;5;124m\"\u001b[39m\u001b[38;5;124mC:/Users/sanja/cfDNA-Lung-Cancer-ML/data/processed/merged_labeled_light.csv\u001b[39m\u001b[38;5;124m\"\u001b[39m)\n\u001b[0;32m      8\u001b[0m \u001b[38;5;66;03m# Step 2: Separate features and label\u001b[39;00m\n\u001b[1;32m----> 9\u001b[0m X \u001b[38;5;241m=\u001b[39m \u001b[43mdf\u001b[49m\u001b[38;5;241;43m.\u001b[39;49m\u001b[43mdrop\u001b[49m\u001b[43m(\u001b[49m\u001b[43mcolumns\u001b[49m\u001b[38;5;241;43m=\u001b[39;49m\u001b[43m[\u001b[49m\u001b[38;5;124;43m'\u001b[39;49m\u001b[38;5;124;43mlabel\u001b[39;49m\u001b[38;5;124;43m'\u001b[39;49m\u001b[43m]\u001b[49m\u001b[43m)\u001b[49m  \u001b[38;5;66;03m# All features\u001b[39;00m\n\u001b[0;32m     10\u001b[0m y \u001b[38;5;241m=\u001b[39m df[\u001b[38;5;124m'\u001b[39m\u001b[38;5;124mlabel\u001b[39m\u001b[38;5;124m'\u001b[39m]                 \u001b[38;5;66;03m# Target variable\u001b[39;00m\n\u001b[0;32m     12\u001b[0m \u001b[38;5;66;03m# Step 3: Use ExtraTreesClassifier for feature importance\u001b[39;00m\n",
      "File \u001b[1;32m~\\AppData\\Local\\Programs\\Python\\Python313\\Lib\\site-packages\\pandas\\core\\frame.py:5581\u001b[0m, in \u001b[0;36mDataFrame.drop\u001b[1;34m(self, labels, axis, index, columns, level, inplace, errors)\u001b[0m\n\u001b[0;32m   5433\u001b[0m \u001b[38;5;28;01mdef\u001b[39;00m\u001b[38;5;250m \u001b[39m\u001b[38;5;21mdrop\u001b[39m(\n\u001b[0;32m   5434\u001b[0m     \u001b[38;5;28mself\u001b[39m,\n\u001b[0;32m   5435\u001b[0m     labels: IndexLabel \u001b[38;5;241m|\u001b[39m \u001b[38;5;28;01mNone\u001b[39;00m \u001b[38;5;241m=\u001b[39m \u001b[38;5;28;01mNone\u001b[39;00m,\n\u001b[1;32m   (...)\u001b[0m\n\u001b[0;32m   5442\u001b[0m     errors: IgnoreRaise \u001b[38;5;241m=\u001b[39m \u001b[38;5;124m\"\u001b[39m\u001b[38;5;124mraise\u001b[39m\u001b[38;5;124m\"\u001b[39m,\n\u001b[0;32m   5443\u001b[0m ) \u001b[38;5;241m-\u001b[39m\u001b[38;5;241m>\u001b[39m DataFrame \u001b[38;5;241m|\u001b[39m \u001b[38;5;28;01mNone\u001b[39;00m:\n\u001b[0;32m   5444\u001b[0m \u001b[38;5;250m    \u001b[39m\u001b[38;5;124;03m\"\"\"\u001b[39;00m\n\u001b[0;32m   5445\u001b[0m \u001b[38;5;124;03m    Drop specified labels from rows or columns.\u001b[39;00m\n\u001b[0;32m   5446\u001b[0m \n\u001b[1;32m   (...)\u001b[0m\n\u001b[0;32m   5579\u001b[0m \u001b[38;5;124;03m            weight  1.0     0.8\u001b[39;00m\n\u001b[0;32m   5580\u001b[0m \u001b[38;5;124;03m    \"\"\"\u001b[39;00m\n\u001b[1;32m-> 5581\u001b[0m     \u001b[38;5;28;01mreturn\u001b[39;00m \u001b[38;5;28;43msuper\u001b[39;49m\u001b[43m(\u001b[49m\u001b[43m)\u001b[49m\u001b[38;5;241;43m.\u001b[39;49m\u001b[43mdrop\u001b[49m\u001b[43m(\u001b[49m\n\u001b[0;32m   5582\u001b[0m \u001b[43m        \u001b[49m\u001b[43mlabels\u001b[49m\u001b[38;5;241;43m=\u001b[39;49m\u001b[43mlabels\u001b[49m\u001b[43m,\u001b[49m\n\u001b[0;32m   5583\u001b[0m \u001b[43m        \u001b[49m\u001b[43maxis\u001b[49m\u001b[38;5;241;43m=\u001b[39;49m\u001b[43maxis\u001b[49m\u001b[43m,\u001b[49m\n\u001b[0;32m   5584\u001b[0m \u001b[43m        \u001b[49m\u001b[43mindex\u001b[49m\u001b[38;5;241;43m=\u001b[39;49m\u001b[43mindex\u001b[49m\u001b[43m,\u001b[49m\n\u001b[0;32m   5585\u001b[0m \u001b[43m        \u001b[49m\u001b[43mcolumns\u001b[49m\u001b[38;5;241;43m=\u001b[39;49m\u001b[43mcolumns\u001b[49m\u001b[43m,\u001b[49m\n\u001b[0;32m   5586\u001b[0m \u001b[43m        \u001b[49m\u001b[43mlevel\u001b[49m\u001b[38;5;241;43m=\u001b[39;49m\u001b[43mlevel\u001b[49m\u001b[43m,\u001b[49m\n\u001b[0;32m   5587\u001b[0m \u001b[43m        \u001b[49m\u001b[43minplace\u001b[49m\u001b[38;5;241;43m=\u001b[39;49m\u001b[43minplace\u001b[49m\u001b[43m,\u001b[49m\n\u001b[0;32m   5588\u001b[0m \u001b[43m        \u001b[49m\u001b[43merrors\u001b[49m\u001b[38;5;241;43m=\u001b[39;49m\u001b[43merrors\u001b[49m\u001b[43m,\u001b[49m\n\u001b[0;32m   5589\u001b[0m \u001b[43m    \u001b[49m\u001b[43m)\u001b[49m\n",
      "File \u001b[1;32m~\\AppData\\Local\\Programs\\Python\\Python313\\Lib\\site-packages\\pandas\\core\\generic.py:4788\u001b[0m, in \u001b[0;36mNDFrame.drop\u001b[1;34m(self, labels, axis, index, columns, level, inplace, errors)\u001b[0m\n\u001b[0;32m   4786\u001b[0m \u001b[38;5;28;01mfor\u001b[39;00m axis, labels \u001b[38;5;129;01min\u001b[39;00m axes\u001b[38;5;241m.\u001b[39mitems():\n\u001b[0;32m   4787\u001b[0m     \u001b[38;5;28;01mif\u001b[39;00m labels \u001b[38;5;129;01mis\u001b[39;00m \u001b[38;5;129;01mnot\u001b[39;00m \u001b[38;5;28;01mNone\u001b[39;00m:\n\u001b[1;32m-> 4788\u001b[0m         obj \u001b[38;5;241m=\u001b[39m \u001b[43mobj\u001b[49m\u001b[38;5;241;43m.\u001b[39;49m\u001b[43m_drop_axis\u001b[49m\u001b[43m(\u001b[49m\u001b[43mlabels\u001b[49m\u001b[43m,\u001b[49m\u001b[43m \u001b[49m\u001b[43maxis\u001b[49m\u001b[43m,\u001b[49m\u001b[43m \u001b[49m\u001b[43mlevel\u001b[49m\u001b[38;5;241;43m=\u001b[39;49m\u001b[43mlevel\u001b[49m\u001b[43m,\u001b[49m\u001b[43m \u001b[49m\u001b[43merrors\u001b[49m\u001b[38;5;241;43m=\u001b[39;49m\u001b[43merrors\u001b[49m\u001b[43m)\u001b[49m\n\u001b[0;32m   4790\u001b[0m \u001b[38;5;28;01mif\u001b[39;00m inplace:\n\u001b[0;32m   4791\u001b[0m     \u001b[38;5;28mself\u001b[39m\u001b[38;5;241m.\u001b[39m_update_inplace(obj)\n",
      "File \u001b[1;32m~\\AppData\\Local\\Programs\\Python\\Python313\\Lib\\site-packages\\pandas\\core\\generic.py:4830\u001b[0m, in \u001b[0;36mNDFrame._drop_axis\u001b[1;34m(self, labels, axis, level, errors, only_slice)\u001b[0m\n\u001b[0;32m   4828\u001b[0m         new_axis \u001b[38;5;241m=\u001b[39m axis\u001b[38;5;241m.\u001b[39mdrop(labels, level\u001b[38;5;241m=\u001b[39mlevel, errors\u001b[38;5;241m=\u001b[39merrors)\n\u001b[0;32m   4829\u001b[0m     \u001b[38;5;28;01melse\u001b[39;00m:\n\u001b[1;32m-> 4830\u001b[0m         new_axis \u001b[38;5;241m=\u001b[39m \u001b[43maxis\u001b[49m\u001b[38;5;241;43m.\u001b[39;49m\u001b[43mdrop\u001b[49m\u001b[43m(\u001b[49m\u001b[43mlabels\u001b[49m\u001b[43m,\u001b[49m\u001b[43m \u001b[49m\u001b[43merrors\u001b[49m\u001b[38;5;241;43m=\u001b[39;49m\u001b[43merrors\u001b[49m\u001b[43m)\u001b[49m\n\u001b[0;32m   4831\u001b[0m     indexer \u001b[38;5;241m=\u001b[39m axis\u001b[38;5;241m.\u001b[39mget_indexer(new_axis)\n\u001b[0;32m   4833\u001b[0m \u001b[38;5;66;03m# Case for non-unique axis\u001b[39;00m\n\u001b[0;32m   4834\u001b[0m \u001b[38;5;28;01melse\u001b[39;00m:\n",
      "File \u001b[1;32m~\\AppData\\Local\\Programs\\Python\\Python313\\Lib\\site-packages\\pandas\\core\\indexes\\base.py:7070\u001b[0m, in \u001b[0;36mIndex.drop\u001b[1;34m(self, labels, errors)\u001b[0m\n\u001b[0;32m   7068\u001b[0m \u001b[38;5;28;01mif\u001b[39;00m mask\u001b[38;5;241m.\u001b[39many():\n\u001b[0;32m   7069\u001b[0m     \u001b[38;5;28;01mif\u001b[39;00m errors \u001b[38;5;241m!=\u001b[39m \u001b[38;5;124m\"\u001b[39m\u001b[38;5;124mignore\u001b[39m\u001b[38;5;124m\"\u001b[39m:\n\u001b[1;32m-> 7070\u001b[0m         \u001b[38;5;28;01mraise\u001b[39;00m \u001b[38;5;167;01mKeyError\u001b[39;00m(\u001b[38;5;124mf\u001b[39m\u001b[38;5;124m\"\u001b[39m\u001b[38;5;132;01m{\u001b[39;00mlabels[mask]\u001b[38;5;241m.\u001b[39mtolist()\u001b[38;5;132;01m}\u001b[39;00m\u001b[38;5;124m not found in axis\u001b[39m\u001b[38;5;124m\"\u001b[39m)\n\u001b[0;32m   7071\u001b[0m     indexer \u001b[38;5;241m=\u001b[39m indexer[\u001b[38;5;241m~\u001b[39mmask]\n\u001b[0;32m   7072\u001b[0m \u001b[38;5;28;01mreturn\u001b[39;00m \u001b[38;5;28mself\u001b[39m\u001b[38;5;241m.\u001b[39mdelete(indexer)\n",
      "\u001b[1;31mKeyError\u001b[0m: \"['label'] not found in axis\""
     ]
    }
   ],
   "source": [
    "import pandas as pd\n",
    "from sklearn.ensemble import ExtraTreesClassifier\n",
    "from sklearn.feature_selection import SelectFromModel\n",
    "\n",
    "# Step 1: Load your light dataset\n",
    "df = pd.read_csv(\"C:/Users/sanja/cfDNA-Lung-Cancer-ML/data/processed/merged_labeled_light.csv\")\n",
    "\n",
    "# Step 2: Separate features and label\n",
    "X = df.drop(columns=['label'])  # All features\n",
    "y = df['label']                 # Target variable\n",
    "\n",
    "# Step 3: Use ExtraTreesClassifier for feature importance\n",
    "model = ExtraTreesClassifier(n_estimators=100, random_state=42)\n",
    "model.fit(X, y)\n",
    "\n",
    "# Step 4: Select features based on importance\n",
    "selector = SelectFromModel(model, prefit=True, threshold='median')\n",
    "X_selected = selector.transform(X)\n",
    "\n",
    "# Get selected feature names\n",
    "selected_features = X.columns[selector.get_support()]\n",
    "\n",
    "# Step 5: Save selected features to CSV (for use in Streamlit app)\n",
    "selected_features.to_series().to_csv(\"C:/Users/sanja/cfDNA-Lung-Cancer-ML/data/processed/selected_features_light.csv\", index=False, header=False)\n",
    "\n",
    "print(\" Selected features saved to selected_features_light.csv\")\n"
   ]
  },
  {
   "cell_type": "code",
   "execution_count": 3,
   "id": "83d8798c-6bb4-4c6a-9e59-2f2d03b2a055",
   "metadata": {},
   "outputs": [
    {
     "name": "stdout",
     "output_type": "stream",
     "text": [
      "['Unnamed: 0', 'hsa-let-7a-1', 'hsa-let-7a-2', 'hsa-let-7a-3', 'hsa-let-7b', 'hsa-let-7c', 'hsa-let-7d', 'hsa-let-7e', 'hsa-let-7f-1', 'hsa-let-7f-2', 'hsa-let-7g', 'hsa-let-7i', 'hsa-mir-1-1', 'hsa-mir-1-2', 'hsa-mir-100', 'hsa-mir-101-1', 'hsa-mir-101-2', 'hsa-mir-103-1', 'hsa-mir-103-2', 'hsa-mir-105-1', 'hsa-mir-105-2', 'hsa-mir-106a', 'hsa-mir-106b', 'hsa-mir-107', 'hsa-mir-10a', 'hsa-mir-10b', 'hsa-mir-1178', 'hsa-mir-1179', 'hsa-mir-1180', 'hsa-mir-1181', 'hsa-mir-1182', 'hsa-mir-1185-1', 'hsa-mir-1185-2', 'hsa-mir-1193', 'hsa-mir-1197', 'hsa-mir-1207', 'hsa-mir-122', 'hsa-mir-1224', 'hsa-mir-1225', 'hsa-mir-1226', 'hsa-mir-1227', 'hsa-mir-1228', 'hsa-mir-1229', 'hsa-mir-1231', 'hsa-mir-1234', 'hsa-mir-1236', 'hsa-mir-1237', 'hsa-mir-1238', 'hsa-mir-124-1', 'hsa-mir-124-2', 'hsa-mir-124-3', 'hsa-mir-1243', 'hsa-mir-1244-1', 'hsa-mir-1245', 'hsa-mir-1246', 'hsa-mir-1247', 'hsa-mir-1248', 'hsa-mir-1249', 'hsa-mir-1250', 'hsa-mir-1251', 'hsa-mir-1252', 'hsa-mir-1254', 'hsa-mir-1255a', 'hsa-mir-1256', 'hsa-mir-1257', 'hsa-mir-1258', 'hsa-mir-125a', 'hsa-mir-125b-1', 'hsa-mir-125b-2', 'hsa-mir-126', 'hsa-mir-1260', 'hsa-mir-1260b', 'hsa-mir-1262', 'hsa-mir-1264', 'hsa-mir-1265', 'hsa-mir-1266', 'hsa-mir-1267', 'hsa-mir-1269', 'hsa-mir-127', 'hsa-mir-1270-1', 'hsa-mir-1270-2', 'hsa-mir-1271', 'hsa-mir-1273c', 'hsa-mir-1274b', 'hsa-mir-1275', 'hsa-mir-1276', 'hsa-mir-1277', 'hsa-mir-1278', 'hsa-mir-128-1', 'hsa-mir-128-2', 'hsa-mir-1280', 'hsa-mir-1281', 'hsa-mir-1283-1', 'hsa-mir-1283-2', 'hsa-mir-1284', 'hsa-mir-1285-1', 'hsa-mir-1286', 'hsa-mir-1287', 'hsa-mir-1288', 'hsa-mir-1289-1', 'hsa-mir-1289-2', 'hsa-mir-129-1', 'hsa-mir-129-2', 'hsa-mir-1290', 'hsa-mir-1291', 'hsa-mir-1292', 'hsa-mir-1293', 'hsa-mir-1294', 'hsa-mir-1295', 'hsa-mir-1296', 'hsa-mir-1298', 'hsa-mir-1301', 'hsa-mir-1302-3', 'hsa-mir-1303', 'hsa-mir-1304', 'hsa-mir-1305', 'hsa-mir-1306', 'hsa-mir-1307', 'hsa-mir-130a', 'hsa-mir-130b', 'hsa-mir-132', 'hsa-mir-1322', 'hsa-mir-1323', 'hsa-mir-133a-1', 'hsa-mir-133a-2', 'hsa-mir-133b', 'hsa-mir-134', 'hsa-mir-135a-1', 'hsa-mir-135a-2', 'hsa-mir-135b', 'hsa-mir-136', 'hsa-mir-137', 'hsa-mir-138-1', 'hsa-mir-138-2', 'hsa-mir-139', 'hsa-mir-140', 'hsa-mir-141', 'hsa-mir-142', 'hsa-mir-143', 'hsa-mir-144', 'hsa-mir-145', 'hsa-mir-1468', 'hsa-mir-146a', 'hsa-mir-146b', 'hsa-mir-147', 'hsa-mir-147b', 'hsa-mir-148a', 'hsa-mir-148b', 'hsa-mir-149', 'hsa-mir-150', 'hsa-mir-151', 'hsa-mir-152', 'hsa-mir-153-1', 'hsa-mir-153-2', 'hsa-mir-1537', 'hsa-mir-1538', 'hsa-mir-1539', 'hsa-mir-154', 'hsa-mir-155', 'hsa-mir-15a', 'hsa-mir-15b', 'hsa-mir-16-1', 'hsa-mir-16-2', 'hsa-mir-17', 'hsa-mir-181a-1', 'hsa-mir-181a-2', 'hsa-mir-181b-1', 'hsa-mir-181b-2', 'hsa-mir-181c', 'hsa-mir-181d', 'hsa-mir-182', 'hsa-mir-1825', 'hsa-mir-1827', 'hsa-mir-183', 'hsa-mir-184', 'hsa-mir-185', 'hsa-mir-186', 'hsa-mir-187', 'hsa-mir-188', 'hsa-mir-18a', 'hsa-mir-18b', 'hsa-mir-190', 'hsa-mir-1908', 'hsa-mir-1909', 'hsa-mir-190b', 'hsa-mir-191', 'hsa-mir-1910', 'hsa-mir-1911', 'hsa-mir-1912', 'hsa-mir-1913', 'hsa-mir-1914', 'hsa-mir-1915', 'hsa-mir-192', 'hsa-mir-193a', 'hsa-mir-193b', 'hsa-mir-194-1', 'hsa-mir-194-2', 'hsa-mir-195', 'hsa-mir-196a-1', 'hsa-mir-196a-2', 'hsa-mir-196b', 'hsa-mir-197', 'hsa-mir-1976', 'hsa-mir-198', 'hsa-mir-199a-1', 'hsa-mir-199a-2', 'hsa-mir-199b', 'hsa-mir-19a', 'hsa-mir-19b-1', 'hsa-mir-19b-2', 'hsa-mir-200a', 'hsa-mir-200b', 'hsa-mir-200c', 'hsa-mir-202', 'hsa-mir-203', 'hsa-mir-204', 'hsa-mir-205', 'hsa-mir-206', 'hsa-mir-208a', 'hsa-mir-208b', 'hsa-mir-20a', 'hsa-mir-20b', 'hsa-mir-21', 'hsa-mir-210', 'hsa-mir-211', 'hsa-mir-2110', 'hsa-mir-2113', 'hsa-mir-2114', 'hsa-mir-2115', 'hsa-mir-2116', 'hsa-mir-2117', 'hsa-mir-212', 'hsa-mir-214', 'hsa-mir-215', 'hsa-mir-216a', 'hsa-mir-216b', 'hsa-mir-217', 'hsa-mir-218-1', 'hsa-mir-218-2', 'hsa-mir-219-1', 'hsa-mir-219-2', 'hsa-mir-22', 'hsa-mir-221', 'hsa-mir-222', 'hsa-mir-223', 'hsa-mir-224', 'hsa-mir-2276', 'hsa-mir-2277', 'hsa-mir-2278', 'hsa-mir-2355', 'hsa-mir-23a', 'hsa-mir-23b', 'hsa-mir-23c', 'hsa-mir-24-1', 'hsa-mir-24-2', 'hsa-mir-25', 'hsa-mir-26a-1', 'hsa-mir-26a-2', 'hsa-mir-26b', 'hsa-mir-27a', 'hsa-mir-27b', 'hsa-mir-28', 'hsa-mir-2861', 'hsa-mir-296', 'hsa-mir-298', 'hsa-mir-299', 'hsa-mir-29a', 'hsa-mir-29b-1', 'hsa-mir-29b-2', 'hsa-mir-29c', 'hsa-mir-301a', 'hsa-mir-301b', 'hsa-mir-302a', 'hsa-mir-302b', 'hsa-mir-3065', 'hsa-mir-3074', 'hsa-mir-30a', 'hsa-mir-30b', 'hsa-mir-30c-1', 'hsa-mir-30c-2', 'hsa-mir-30d', 'hsa-mir-30e', 'hsa-mir-31', 'hsa-mir-3115', 'hsa-mir-3116-1', 'hsa-mir-3116-2', 'hsa-mir-3117', 'hsa-mir-3120', 'hsa-mir-3121', 'hsa-mir-3124', 'hsa-mir-3125', 'hsa-mir-3126', 'hsa-mir-3127', 'hsa-mir-3128', 'hsa-mir-3129', 'hsa-mir-3130-1', 'hsa-mir-3130-2', 'hsa-mir-3131', 'hsa-mir-3132', 'hsa-mir-3133', 'hsa-mir-3135', 'hsa-mir-3136', 'hsa-mir-3137', 'hsa-mir-3138', 'hsa-mir-3139', 'hsa-mir-3140', 'hsa-mir-3141', 'hsa-mir-3142', 'hsa-mir-3143', 'hsa-mir-3144', 'hsa-mir-3145', 'hsa-mir-3146', 'hsa-mir-3147', 'hsa-mir-3148', 'hsa-mir-3149', 'hsa-mir-3150', 'hsa-mir-3150b', 'hsa-mir-3151', 'hsa-mir-3152', 'hsa-mir-3153', 'hsa-mir-3154', 'hsa-mir-3155', 'hsa-mir-3157', 'hsa-mir-3158-1', 'hsa-mir-3158-2', 'hsa-mir-3159', 'hsa-mir-3160-1', 'hsa-mir-3161', 'hsa-mir-3162', 'hsa-mir-3163', 'hsa-mir-3164', 'hsa-mir-3165', 'hsa-mir-3166', 'hsa-mir-3167', 'hsa-mir-3168', 'hsa-mir-3170', 'hsa-mir-3171', 'hsa-mir-3173', 'hsa-mir-3174', 'hsa-mir-3175', 'hsa-mir-3176', 'hsa-mir-3177', 'hsa-mir-3178', 'hsa-mir-3179-1', 'hsa-mir-3179-2', 'hsa-mir-3179-3', 'hsa-mir-3180-4', 'hsa-mir-3181', 'hsa-mir-3183', 'hsa-mir-3184', 'hsa-mir-3186', 'hsa-mir-3187', 'hsa-mir-3188', 'hsa-mir-3189', 'hsa-mir-3190', 'hsa-mir-3191', 'hsa-mir-3192', 'hsa-mir-3193', 'hsa-mir-3194', 'hsa-mir-3195', 'hsa-mir-3196', 'hsa-mir-3197', 'hsa-mir-3198', 'hsa-mir-3199-1', 'hsa-mir-3199-2', 'hsa-mir-32', 'hsa-mir-3200', 'hsa-mir-3202-1', 'hsa-mir-3202-2', 'hsa-mir-320a', 'hsa-mir-320b-1', 'hsa-mir-320b-2', 'hsa-mir-320c-1', 'hsa-mir-320c-2', 'hsa-mir-320d-1', 'hsa-mir-320d-2', 'hsa-mir-320e', 'hsa-mir-323', 'hsa-mir-323b', 'hsa-mir-324', 'hsa-mir-326', 'hsa-mir-328', 'hsa-mir-329-1', 'hsa-mir-329-2', 'hsa-mir-330', 'hsa-mir-331', 'hsa-mir-335', 'hsa-mir-337', 'hsa-mir-338', 'hsa-mir-339', 'hsa-mir-33a', 'hsa-mir-33b', 'hsa-mir-340', 'hsa-mir-342', 'hsa-mir-345', 'hsa-mir-346', 'hsa-mir-34a', 'hsa-mir-34b', 'hsa-mir-34c', 'hsa-mir-3605', 'hsa-mir-3606', 'hsa-mir-3607', 'hsa-mir-3609', 'hsa-mir-361', 'hsa-mir-3610', 'hsa-mir-3611', 'hsa-mir-3612', 'hsa-mir-3613', 'hsa-mir-3614', 'hsa-mir-3615', 'hsa-mir-3616', 'hsa-mir-3617', 'hsa-mir-3618', 'hsa-mir-3619', 'hsa-mir-362', 'hsa-mir-3620', 'hsa-mir-3621', 'hsa-mir-3622a', 'hsa-mir-3622b', 'hsa-mir-363', 'hsa-mir-3646', 'hsa-mir-3647', 'hsa-mir-3648', 'hsa-mir-3649', 'hsa-mir-365-1', 'hsa-mir-365-2', 'hsa-mir-3650', 'hsa-mir-3651', 'hsa-mir-3652', 'hsa-mir-3653', 'hsa-mir-3654', 'hsa-mir-3655', 'hsa-mir-3656', 'hsa-mir-3657', 'hsa-mir-3658', 'hsa-mir-3659', 'hsa-mir-3660', 'hsa-mir-3661', 'hsa-mir-3662', 'hsa-mir-3663', 'hsa-mir-3664', 'hsa-mir-3667', 'hsa-mir-3668', 'hsa-mir-3675', 'hsa-mir-3676', 'hsa-mir-3677', 'hsa-mir-3678', 'hsa-mir-3679', 'hsa-mir-3680', 'hsa-mir-3681', 'hsa-mir-3682', 'hsa-mir-3684', 'hsa-mir-3685', 'hsa-mir-3687', 'hsa-mir-3688', 'hsa-mir-3689a', 'hsa-mir-3689b', 'hsa-mir-369', 'hsa-mir-3690', 'hsa-mir-3691', 'hsa-mir-3692', 'hsa-mir-370', 'hsa-mir-371', 'hsa-mir-372', 'hsa-mir-373', 'hsa-mir-374a', 'hsa-mir-374b', 'hsa-mir-374c', 'hsa-mir-375', 'hsa-mir-376a-1', 'hsa-mir-376a-2', 'hsa-mir-376b', 'hsa-mir-376c', 'hsa-mir-377', 'hsa-mir-378', 'hsa-mir-378b', 'hsa-mir-378c', 'hsa-mir-379', 'hsa-mir-380', 'hsa-mir-381', 'hsa-mir-382', 'hsa-mir-383', 'hsa-mir-3907', 'hsa-mir-3909', 'hsa-mir-3910-2', 'hsa-mir-3911', 'hsa-mir-3912', 'hsa-mir-3913-1', 'hsa-mir-3913-2', 'hsa-mir-3914-1', 'hsa-mir-3915', 'hsa-mir-3916', 'hsa-mir-3917', 'hsa-mir-3918', 'hsa-mir-3919', 'hsa-mir-3920', 'hsa-mir-3921', 'hsa-mir-3922', 'hsa-mir-3923', 'hsa-mir-3925', 'hsa-mir-3926-1', 'RBL2_cg00000029', 'VDAC3_cg00000236', 'ACTN1_cg00000289', 'ATP2A1_cg00000292', 'SFRP1_cg00000321', 'NIPA2_cg00000622', 'MAN1B1_cg00000658', 'TSEN34_cg00000714', 'LRRC16A_cg00000721', 'CNBP_cg00000734', 'DDX55_cg00000769', 'FAM81A_cg00000905', 'NPHP4_cg00000957', 'MRPS25_cg00001245', 'MAEL_cg00001349', 'PROX1_cg00001364', 'ELOVL1_cg00001446', 'LILRA6_cg00001510', 'NR5A2_cg00001583', 'CDK10_cg00001687', 'TMEM182_cg00001791', 'ETV6_cg00001793', 'DNAJA2_cg00001854', 'ATOH7_cg00001874', 'LRFN1_cg00002033', 'MRPL12_cg00002116', 'COL6A3_cg00002145', 'C8orf31_cg00002224', 'RTTN_cg00002236', 'CD2BP2_cg00002406', 'SLMAP_cg00002426', 'NOV_cg00002464', 'MXD4_cg00002490', 'MUSTN1_cg00002591', 'TAS1R3_cg00002593', 'ITGAD_cg00002597', 'S100A5_cg00002646', 'SMARCC2_cg00002660', 'C1orf114_cg00002719', 'TMEM49_cg00002749', 'C1orf65_cg00002808', 'DNAH17_cg00002809', 'DAB1_cg00002810', 'SLBP_cg00003091', 'RFX5_cg00003202', 'TNNT2_cg00003287', 'LHX5_cg00003298', 'CASZ1_cg00003345', 'CASZ1_cg00003513', 'C3orf16_cg00003529', 'WFIKKN2_cg00003625', 'MEOX2_cg00003994', 'CKLF_cg00004055', 'TRANK1_cg00004067', 'ZFP36_cg00004072', 'SLC2A9_cg00004082', 'MXRA7_cg00004089', 'LOXL4_cg00004105', 'P2RX6P_cg00004192', 'SFRS7_cg00004207', 'CSMD2_cg00004257', 'EHMT1_cg00004429', 'AGPAT3_cg00004533', 'AGA_cg00004818', 'LDHD_cg00004883', 'C14orf181_cg00004939', 'SH2B3_cg00004979', 'MTMR7_cg00004996', 'MT1F_cg00005010', 'RSPO3_cg00005040', 'ANKRD11_cg00005072', 'TDRD6_cg00005083', 'WWP2_cg00005112', 'OR1F2P_cg00005166', 'SERPINB12_cg00005215', 'DOK7_cg00005297', 'SRCAP_cg00005306', 'FAM180B_cg00005619', 'MTHFD2L_cg00005817', 'HOXD3_cg00005847', 'GPHN_cg00006032', 'HMX2_cg00006081', 'C12orf44_cg00006122', 'TDRD10_cg00006198', 'OTOF_cg00006243', 'NHLH1_cg00006397', 'NUP210L_cg00006626', 'CCDC126_cg00006884', 'MTUS2_cg00007032', 'ZNF362_cg00007036', 'LHX6_cg00007064', 'RRS1_cg00007076', 'PTPRF_cg00007221', 'PACS2_cg00007226', 'ZNF77_cg00007269', 'LRRC16B_cg00007300', 'ZBTB7A_cg00007324', 'CACNA1A_cg00007326', 'C6orf168_cg00007420', 'ZNF358_cg00007466', 'SLC6A5_cg00007644', 'DSTYK_cg00007898', 'PANX1_cg00007981', 'ZNF581_cg00007987', 'FAM163A_cg00008036', 'C14orf181_cg00008188', 'PDE6D_cg00008345', 'TMEM188_cg00008387', 'APAF1_cg00008452', 'GFPT2_cg00008544', 'DIAPH3_cg00008612', 'ROD1_cg00008629', 'FAIM3_cg00008647', 'C3orf39_cg00008665', 'FAM190B_cg00008671', 'IMPA2_cg00008713', 'LRRC4B_cg00008737', 'DMRTB1_cg00008810', 'NRD1_cg00008823', 'OAZ1_cg00008839', 'SYT7_cg00009053', 'RIN2_cg00009196', 'DERA_cg00009214', 'AEBP1_cg00009293', 'PELI2_cg00009364', 'TTC8_cg00009407', 'DDX18_cg00009412', 'CDH8_cg00009553', 'CDK15_cg00009750', 'LOC121952_cg00009871', 'COL4A1_cg00009922', 'MEX3C_cg00009970', 'SH3RF3_cg00010078', 'MFSD3_cg00010266', 'RFX1_cg00010445', 'HECTD3_cg00010654', 'TMEM14C_cg00010659', 'BARHL2_cg00010742', 'KIAA1949_cg00010853', 'SHOX2_cg00010946', 'TIGD2_cg00010992', 'C16orf75_cg00011122', 'WNT6_cg00011225', 'YTHDF3_cg00011247', 'RBL2_cg00011284', 'MLL2_cg00011350', 'RBM47_cg00011460', 'PAX9_cg00011482', 'LCE5A_cg00011513', 'NLRC3_cg00011564', 'PPP5C_cg00011578', 'IGFBP5_cg00011856', 'RNF222_cg00011924', 'H3F3B_cg00012036', 'TINAG_cg00012148', 'ARPC2_cg00012203', 'CABYR_cg00012238', 'FCGR1C_cg00012317', 'ARRDC4_cg00012522', 'GALNT9_cg00012529', 'KCNK17_cg00012638', 'GJB6_cg00012692', 'AVEN_cg00012698', 'SLC9A3R1_cg00012762', 'MUTED_cg00012792', 'FBF1_cg00012920', 'PRKCH_cg00012992', 'OR52B4_cg00013006', 'DCAF4L2_cg00013196', 'ST6GALNAC3_cg00013349', 'TRIM56_cg00013374', 'EPHA10_cg00013409', 'MED13_cg00013410', 'CCDC62_cg00013441', 'STC1_cg00013451', 'DYSF_cg00013475', 'RAB40B_cg00013569', 'DAZAP1_cg00013733', 'ASAP2_cg00013804', 'CACHD1_cg00013899', 'ARHGEF18_cg00013993', 'MAPK1_cg00014104', 'GYPC_cg00014112', 'KIAA1751_cg00014118', 'ESPN_cg00014168', 'OLFM1_cg00014194', 'T-SP1_cg00014260', 'TSSC1_cg00014301', 'PTPRF_cg00014445', 'MARCH5_cg00014638', 'KIF3A_cg00014752', 'PSCA_cg00014754', 'GADD45B_cg00014806', 'DPH2_cg00014900', 'USP14_cg00014996', 'CCNJ_cg00015024', 'THTPA_cg00015121', 'FLJ12825_cg00015319', 'TSPAN18_cg00015343', 'PARP10_cg00015530', 'MYEOV2_cg00015603', 'NRL_cg00015639', 'QRFPR_cg00015770', 'NPM1_cg00016156', 'STK38_cg00016223', 'ARHGAP15_cg00016324', 'DNAH11_cg00016360', 'KIF26A_cg00016406', 'ST8SIA3_cg00016439', 'ZFHX4_cg00016481', 'RAB5C_cg00016498', 'SLFNL1_cg00016593', 'CRAMP1L_cg00016618', 'MUT_cg00016718', 'KIDINS220_cg00016783', 'CAGE1_cg00016802', 'CNTNAP2_cg00016814', 'SLC5A2_cg00016841', 'C19orf69_cg00016892', 'RHOC_cg00016968', 'RER1_cg00016996', 'PGBD1_cg00017002', 'C14orf135_cg00017033', 'THRA_cg00017121', 'WIPF2_cg00017188', 'PLEC1_cg00017203', 'MAST3_cg00017441', 'OSM_cg00017461', 'ABO_cg00017475', 'DPP6_cg00017489', 'PTK2B_cg00017601', 'ZDHHC14_cg00017931', 'GRRP1_cg00017970', 'NKX6-2_cg00018024', 'ESCO1_cg00018044', 'TBR1_cg00018128', 'SH2B2_cg00018181', 'S100A3_cg00018184', 'CEP68_cg00018198', 'IQCE_cg00018539', 'HEXIM2_cg00018557', 'CRYGD_cg00018606', 'CSMD1_cg00018696', 'ZNF664_cg00018739', 'PABPC3_cg00018896', 'UBL3_cg00019093', 'LTBP4_cg00019137', 'SLC9A11_cg00019151', 'SPTBN4_cg00019377', 'PER3_cg00019458', 'RNF111_cg00019463', 'HOPX_cg00019495', 'DLK1_cg00019511', 'ZFP41_cg00019576', 'C12orf34_cg00019678', 'IGF2R_cg00019778', 'RPRD1A_cg00019809', 'MAPK4_cg00019841', 'LOC169834_cg00019877', 'NRCAM_cg00019997', 'CNRIP1_cg00020052', 'LARP6_cg00020175', 'SYT1_cg00020191', 'FAM8A1_cg00020297', 'UNC84A_cg00020340', 'OR6V1_cg00020348', 'TRIM56_cg00020390', 'CRIP3_cg00020419', 'TULP1_cg00020533', 'OCA2_cg00020649', 'FAM38A_cg00020794', 'PLXNC1_cg00020799', 'CBR4_cg00020991', 'RRP1_cg00021028', 'RIN3_cg00021108', 'SPAG7_cg00021128', 'PNMA2_cg00021152', 'PPFIBP1_cg00021166', 'MYBL1_cg00021237', 'FAM189A1_cg00021242', 'FEV_cg00021256', 'KIAA0182_cg00021476', 'TAF15_cg00021527', 'TFAP4_cg00021532', 'UBR1_cg00021783', 'GBF1_cg00021944', 'ZNF613_cg00021945', 'DPYS_cg00021978', 'CAMSAP1_cg00022024', 'PLA2G15_cg00022076', 'DOCK1_cg00022101', 'SFRS6_cg00022138', 'SNN_cg00022235', 'GOLGA3_cg00022259', 'FGF4_cg00022558', 'AKAP8L_cg00022594', 'CDK8_cg00022633', 'ACSL5_cg00022688', 'PDGFRA_cg00022858', 'CCDC88B_cg00022866', 'CRHR1_cg00022871', 'HAPLN4_cg00022911', 'HTR1D_cg00023024', 'ARL6IP5_cg00023132', 'RNF220_cg00023154', 'ZNF226_cg00023168', 'ZNF788_cg00023174', 'LOC401463_cg00023185', 'LRPPRC_cg00023288', 'CARKD_cg00023464', 'NBL1_cg00023492', 'COX5A_cg00023695', 'SH2B2_cg00023808', 'RHOD_cg00023919', 'RASL10B_cg00024382', 'ELOVL5_cg00024396', 'SERINC5_cg00024404', 'NGFR_cg00024472', 'CDR2_cg00024790', 'MECOM_cg00024967', 'ERCC6_cg00025044', 'MAP3K9_cg00025138', 'NUDT17_cg00025211', 'ZEB2_cg00025331', 'SLC20A2_cg00025347', 'PADI3_cg00025357', 'COQ10A_cg00025436', 'ABR_cg00025496', 'S100B_cg00025591', 'ZSCAN18_cg00025715', 'TBC1D16_cg00025795', 'CRHR1_cg00025823', 'C13orf15_cg00025981', 'DIP2C_cg00025991', 'SYNJ1_cg00026030', 'IKZF4_cg00026033', 'DNAH10_cg00026119', 'ALDOA_cg00026230', 'CLNK_cg00026290', 'BAIAP2_cg00026327', 'LOC100132354_cg00026362', 'TEAD3_cg00026374', 'HLA-L_cg00026375', 'ANK3_cg00026412', 'DEF8_cg00026455', 'NR5A2_cg00026457', 'HPCA_cg00026546', 'ZNF710_cg00026553', 'NR2F2_cg00026703', 'FECH_cg00026731', 'C6orf10_cg00026776', 'KCNJ9_cg00026803', 'NCRNA00095_cg00026853', 'NCAPD2_cg00026857', 'DAB1_cg00026909', 'UBTF_cg00026974', 'OSBPL1A_cg00027037', 'TSSC1_cg00027081', 'EPB41L3_cg00027083', 'TAS2R39_cg00027120', 'TGOLN2_cg00027232', 'DCC_cg00027400', 'VHLL_cg00027466', 'PHKG2_cg00027499', 'CD2_cg00027570', 'ITPKB_cg00027637', 'TCF12_cg00027650', 'STAC2_cg00027669', 'KIAA1683_cg00027990', 'THBS1_cg00027995', 'LOXL1_cg00028013', 'TSPYL3_cg00028034', 'ZBTB20_cg00028135', 'GABBR1_cg00028318', 'SORBS2_cg00028336', 'WHSC1_cg00028338', 'MTSS1_cg00028431', 'NCOA7_cg00028455', 'ZNF808_cg00028487', 'GABRA5_cg00028598', 'PTMS_cg00028636', 'ARHGEF4_cg00028678', 'EHMT2_cg00028757', 'GOT2_cg00028829', 'KRT5_cg00028929', 'ZIC4_cg00028935', 'GLTSCR2_cg00028993', 'NOL10_cg00029053', 'HIP1_cg00029161', 'HEXIM1_cg00029233', 'DGKI_cg00029246', 'PROM2_cg00029282', 'CUX2_cg00029284', 'DCTN2_cg00029397', 'KIF13A_cg00029619', 'USF2_cg00029640', 'SLC5A2_cg00029825', 'CCNB1IP1_cg00029826', 'VPS28_cg00029831', 'RNF207_cg00030047', 'HCG4_cg00030176', 'ICA1_cg00030291', 'SLC25A2_cg00030420', 'DLEC1_cg00030422', 'UQCRFS1_cg00030423', 'MEPCE_cg00030432', 'PRKAB2_cg00030476', 'TRIM15_cg00030508', 'ABCC1_cg00030682', 'FAM189A1_cg00030774', 'ZBTB9_cg00030795', 'ARHGEF10_cg00030807', 'RBM8A_cg00030816', 'MFAP2_cg00031063', 'RXRB_cg00031105', 'SERPINB1_cg00031256', 'FRMD1_cg00031346', 'PSAP_cg00031402', 'PNPLA6_cg00031443', 'PRPF38B_cg00031456', 'SLC44A4_cg00031491', 'PRB1_cg00031556', 'ATG4D_cg00031663', 'FAM126A_cg00031708', 'BRCA2_cg00031759', 'ALPK2_cg00031779', 'C7orf44_cg00031967', 'PNPLA6_cg00032036', 'TSPYL5_cg00032205', 'AP2B1_cg00032246', 'LONP1_cg00032366', 'TP53I13_cg00032419', 'ATP5E_cg00032609', 'LRRC47_cg00032643', 'SNX4_cg00032664', 'FGFRL1_cg00032686', 'EVI5L_cg00032701', 'NELL2_cg00032756', 'USP4_cg00032789', 'MARCH1_cg00032805', 'CHCHD3_cg00032852', 'MORN1_cg00032879', 'FOXN2_cg00032884', 'SNX7_cg00033127', 'TGIF1_cg00033220', 'SENP2_cg00033304', 'SETD8_cg00033334', 'UHRF1_cg00033371', 'TCEB1_cg00033457', 'CROT_cg00033490', 'KIAA1539_cg00033533', 'MGRN1_cg00033551', 'SLC35B4_cg00033643', 'EPS8_cg00033668', 'TSNARE1_cg00033806', 'KNDC1_cg00033834', 'ATP11A_cg00033877', 'ARHGEF18_cg00033915', 'CTU2_cg00034003', 'TAF8_cg00034019', 'RALYL_cg00034076', 'HEYL_cg00034101', 'RHOG_cg00034130', 'UGP2_cg00034376', 'FDPS_cg00034416', 'CNIH3_cg00034433', 'ACTA1_cg00034468', 'SAMD1_cg00034555', 'MIR1977_cg00034556', 'TMEM178_cg00034559', 'ZBTB46_cg00034574', 'C16orf81_cg00034611', 'C14orf64_cg00034769', 'PQLC1_cg00034852', 'RUNX3_cg00035000', 'TTYH3_cg00035074', 'CBFA2T3_cg00035197', 'PTPRN2_cg00035220', 'PUM1_cg00035237', 'ARF1_cg00035249', 'C6orf124_cg00035268', 'HOXD8_cg00035316', 'MTG1_cg00035326', 'WDR60_cg00035398', 'UBE2S_cg00035623', 'DEPDC7_cg00035630', 'DAXX_cg00035673', 'ABI2_cg00035812', 'C7orf50_cg00035923', 'PARM1_cg00035945', 'HPCAL4_cg00036110', 'NUP107_cg00036115', 'A2BP1_cg00036119', 'GALP_cg00036137', 'ADCY9_cg00036258', 'KIF26B_cg00036263', 'GRIN2A_cg00036299', 'ARL6IP4_cg00036328', 'ATXN7_cg00036369', 'MOGS_cg00036386', 'Label']\n"
     ]
    }
   ],
   "source": [
    "import pandas as pd\n",
    "\n",
    "df = pd.read_csv(\"C:/Users/sanja/cfDNA-Lung-Cancer-ML/data/processed/merged_labeled_light.csv\")\n",
    "print(df.columns.tolist())\n",
    "\n"
   ]
  },
  {
   "cell_type": "code",
   "execution_count": 4,
   "id": "acd0ef24-1ad3-4baa-bfec-2e3f2116fa1b",
   "metadata": {},
   "outputs": [
    {
     "ename": "KeyError",
     "evalue": "\"['sample_id', 'group'] not found in axis\"",
     "output_type": "error",
     "traceback": [
      "\u001b[1;31m---------------------------------------------------------------------------\u001b[0m",
      "\u001b[1;31mKeyError\u001b[0m                                  Traceback (most recent call last)",
      "Cell \u001b[1;32mIn[4], line 8\u001b[0m\n\u001b[0;32m      5\u001b[0m df \u001b[38;5;241m=\u001b[39m pd\u001b[38;5;241m.\u001b[39mread_csv(\u001b[38;5;124m\"\u001b[39m\u001b[38;5;124mC:/Users/sanja/cfDNA-Lung-Cancer-ML/data/processed/merged_labeled_light.csv\u001b[39m\u001b[38;5;124m\"\u001b[39m)\n\u001b[0;32m      7\u001b[0m \u001b[38;5;66;03m# Drop sample_id and separate features + label\u001b[39;00m\n\u001b[1;32m----> 8\u001b[0m X \u001b[38;5;241m=\u001b[39m \u001b[43mdf\u001b[49m\u001b[38;5;241;43m.\u001b[39;49m\u001b[43mdrop\u001b[49m\u001b[43m(\u001b[49m\u001b[43mcolumns\u001b[49m\u001b[38;5;241;43m=\u001b[39;49m\u001b[43m[\u001b[49m\u001b[38;5;124;43m'\u001b[39;49m\u001b[38;5;124;43msample_id\u001b[39;49m\u001b[38;5;124;43m'\u001b[39;49m\u001b[43m,\u001b[49m\u001b[43m \u001b[49m\u001b[38;5;124;43m'\u001b[39;49m\u001b[38;5;124;43mgroup\u001b[39;49m\u001b[38;5;124;43m'\u001b[39;49m\u001b[43m]\u001b[49m\u001b[43m)\u001b[49m  \u001b[38;5;66;03m# All features\u001b[39;00m\n\u001b[0;32m      9\u001b[0m y \u001b[38;5;241m=\u001b[39m df[\u001b[38;5;124m'\u001b[39m\u001b[38;5;124mgroup\u001b[39m\u001b[38;5;124m'\u001b[39m]                              \u001b[38;5;66;03m# Target label\u001b[39;00m\n\u001b[0;32m     11\u001b[0m \u001b[38;5;66;03m# Feature selection\u001b[39;00m\n",
      "File \u001b[1;32m~\\AppData\\Local\\Programs\\Python\\Python313\\Lib\\site-packages\\pandas\\core\\frame.py:5581\u001b[0m, in \u001b[0;36mDataFrame.drop\u001b[1;34m(self, labels, axis, index, columns, level, inplace, errors)\u001b[0m\n\u001b[0;32m   5433\u001b[0m \u001b[38;5;28;01mdef\u001b[39;00m\u001b[38;5;250m \u001b[39m\u001b[38;5;21mdrop\u001b[39m(\n\u001b[0;32m   5434\u001b[0m     \u001b[38;5;28mself\u001b[39m,\n\u001b[0;32m   5435\u001b[0m     labels: IndexLabel \u001b[38;5;241m|\u001b[39m \u001b[38;5;28;01mNone\u001b[39;00m \u001b[38;5;241m=\u001b[39m \u001b[38;5;28;01mNone\u001b[39;00m,\n\u001b[1;32m   (...)\u001b[0m\n\u001b[0;32m   5442\u001b[0m     errors: IgnoreRaise \u001b[38;5;241m=\u001b[39m \u001b[38;5;124m\"\u001b[39m\u001b[38;5;124mraise\u001b[39m\u001b[38;5;124m\"\u001b[39m,\n\u001b[0;32m   5443\u001b[0m ) \u001b[38;5;241m-\u001b[39m\u001b[38;5;241m>\u001b[39m DataFrame \u001b[38;5;241m|\u001b[39m \u001b[38;5;28;01mNone\u001b[39;00m:\n\u001b[0;32m   5444\u001b[0m \u001b[38;5;250m    \u001b[39m\u001b[38;5;124;03m\"\"\"\u001b[39;00m\n\u001b[0;32m   5445\u001b[0m \u001b[38;5;124;03m    Drop specified labels from rows or columns.\u001b[39;00m\n\u001b[0;32m   5446\u001b[0m \n\u001b[1;32m   (...)\u001b[0m\n\u001b[0;32m   5579\u001b[0m \u001b[38;5;124;03m            weight  1.0     0.8\u001b[39;00m\n\u001b[0;32m   5580\u001b[0m \u001b[38;5;124;03m    \"\"\"\u001b[39;00m\n\u001b[1;32m-> 5581\u001b[0m     \u001b[38;5;28;01mreturn\u001b[39;00m \u001b[38;5;28;43msuper\u001b[39;49m\u001b[43m(\u001b[49m\u001b[43m)\u001b[49m\u001b[38;5;241;43m.\u001b[39;49m\u001b[43mdrop\u001b[49m\u001b[43m(\u001b[49m\n\u001b[0;32m   5582\u001b[0m \u001b[43m        \u001b[49m\u001b[43mlabels\u001b[49m\u001b[38;5;241;43m=\u001b[39;49m\u001b[43mlabels\u001b[49m\u001b[43m,\u001b[49m\n\u001b[0;32m   5583\u001b[0m \u001b[43m        \u001b[49m\u001b[43maxis\u001b[49m\u001b[38;5;241;43m=\u001b[39;49m\u001b[43maxis\u001b[49m\u001b[43m,\u001b[49m\n\u001b[0;32m   5584\u001b[0m \u001b[43m        \u001b[49m\u001b[43mindex\u001b[49m\u001b[38;5;241;43m=\u001b[39;49m\u001b[43mindex\u001b[49m\u001b[43m,\u001b[49m\n\u001b[0;32m   5585\u001b[0m \u001b[43m        \u001b[49m\u001b[43mcolumns\u001b[49m\u001b[38;5;241;43m=\u001b[39;49m\u001b[43mcolumns\u001b[49m\u001b[43m,\u001b[49m\n\u001b[0;32m   5586\u001b[0m \u001b[43m        \u001b[49m\u001b[43mlevel\u001b[49m\u001b[38;5;241;43m=\u001b[39;49m\u001b[43mlevel\u001b[49m\u001b[43m,\u001b[49m\n\u001b[0;32m   5587\u001b[0m \u001b[43m        \u001b[49m\u001b[43minplace\u001b[49m\u001b[38;5;241;43m=\u001b[39;49m\u001b[43minplace\u001b[49m\u001b[43m,\u001b[49m\n\u001b[0;32m   5588\u001b[0m \u001b[43m        \u001b[49m\u001b[43merrors\u001b[49m\u001b[38;5;241;43m=\u001b[39;49m\u001b[43merrors\u001b[49m\u001b[43m,\u001b[49m\n\u001b[0;32m   5589\u001b[0m \u001b[43m    \u001b[49m\u001b[43m)\u001b[49m\n",
      "File \u001b[1;32m~\\AppData\\Local\\Programs\\Python\\Python313\\Lib\\site-packages\\pandas\\core\\generic.py:4788\u001b[0m, in \u001b[0;36mNDFrame.drop\u001b[1;34m(self, labels, axis, index, columns, level, inplace, errors)\u001b[0m\n\u001b[0;32m   4786\u001b[0m \u001b[38;5;28;01mfor\u001b[39;00m axis, labels \u001b[38;5;129;01min\u001b[39;00m axes\u001b[38;5;241m.\u001b[39mitems():\n\u001b[0;32m   4787\u001b[0m     \u001b[38;5;28;01mif\u001b[39;00m labels \u001b[38;5;129;01mis\u001b[39;00m \u001b[38;5;129;01mnot\u001b[39;00m \u001b[38;5;28;01mNone\u001b[39;00m:\n\u001b[1;32m-> 4788\u001b[0m         obj \u001b[38;5;241m=\u001b[39m \u001b[43mobj\u001b[49m\u001b[38;5;241;43m.\u001b[39;49m\u001b[43m_drop_axis\u001b[49m\u001b[43m(\u001b[49m\u001b[43mlabels\u001b[49m\u001b[43m,\u001b[49m\u001b[43m \u001b[49m\u001b[43maxis\u001b[49m\u001b[43m,\u001b[49m\u001b[43m \u001b[49m\u001b[43mlevel\u001b[49m\u001b[38;5;241;43m=\u001b[39;49m\u001b[43mlevel\u001b[49m\u001b[43m,\u001b[49m\u001b[43m \u001b[49m\u001b[43merrors\u001b[49m\u001b[38;5;241;43m=\u001b[39;49m\u001b[43merrors\u001b[49m\u001b[43m)\u001b[49m\n\u001b[0;32m   4790\u001b[0m \u001b[38;5;28;01mif\u001b[39;00m inplace:\n\u001b[0;32m   4791\u001b[0m     \u001b[38;5;28mself\u001b[39m\u001b[38;5;241m.\u001b[39m_update_inplace(obj)\n",
      "File \u001b[1;32m~\\AppData\\Local\\Programs\\Python\\Python313\\Lib\\site-packages\\pandas\\core\\generic.py:4830\u001b[0m, in \u001b[0;36mNDFrame._drop_axis\u001b[1;34m(self, labels, axis, level, errors, only_slice)\u001b[0m\n\u001b[0;32m   4828\u001b[0m         new_axis \u001b[38;5;241m=\u001b[39m axis\u001b[38;5;241m.\u001b[39mdrop(labels, level\u001b[38;5;241m=\u001b[39mlevel, errors\u001b[38;5;241m=\u001b[39merrors)\n\u001b[0;32m   4829\u001b[0m     \u001b[38;5;28;01melse\u001b[39;00m:\n\u001b[1;32m-> 4830\u001b[0m         new_axis \u001b[38;5;241m=\u001b[39m \u001b[43maxis\u001b[49m\u001b[38;5;241;43m.\u001b[39;49m\u001b[43mdrop\u001b[49m\u001b[43m(\u001b[49m\u001b[43mlabels\u001b[49m\u001b[43m,\u001b[49m\u001b[43m \u001b[49m\u001b[43merrors\u001b[49m\u001b[38;5;241;43m=\u001b[39;49m\u001b[43merrors\u001b[49m\u001b[43m)\u001b[49m\n\u001b[0;32m   4831\u001b[0m     indexer \u001b[38;5;241m=\u001b[39m axis\u001b[38;5;241m.\u001b[39mget_indexer(new_axis)\n\u001b[0;32m   4833\u001b[0m \u001b[38;5;66;03m# Case for non-unique axis\u001b[39;00m\n\u001b[0;32m   4834\u001b[0m \u001b[38;5;28;01melse\u001b[39;00m:\n",
      "File \u001b[1;32m~\\AppData\\Local\\Programs\\Python\\Python313\\Lib\\site-packages\\pandas\\core\\indexes\\base.py:7070\u001b[0m, in \u001b[0;36mIndex.drop\u001b[1;34m(self, labels, errors)\u001b[0m\n\u001b[0;32m   7068\u001b[0m \u001b[38;5;28;01mif\u001b[39;00m mask\u001b[38;5;241m.\u001b[39many():\n\u001b[0;32m   7069\u001b[0m     \u001b[38;5;28;01mif\u001b[39;00m errors \u001b[38;5;241m!=\u001b[39m \u001b[38;5;124m\"\u001b[39m\u001b[38;5;124mignore\u001b[39m\u001b[38;5;124m\"\u001b[39m:\n\u001b[1;32m-> 7070\u001b[0m         \u001b[38;5;28;01mraise\u001b[39;00m \u001b[38;5;167;01mKeyError\u001b[39;00m(\u001b[38;5;124mf\u001b[39m\u001b[38;5;124m\"\u001b[39m\u001b[38;5;132;01m{\u001b[39;00mlabels[mask]\u001b[38;5;241m.\u001b[39mtolist()\u001b[38;5;132;01m}\u001b[39;00m\u001b[38;5;124m not found in axis\u001b[39m\u001b[38;5;124m\"\u001b[39m)\n\u001b[0;32m   7071\u001b[0m     indexer \u001b[38;5;241m=\u001b[39m indexer[\u001b[38;5;241m~\u001b[39mmask]\n\u001b[0;32m   7072\u001b[0m \u001b[38;5;28;01mreturn\u001b[39;00m \u001b[38;5;28mself\u001b[39m\u001b[38;5;241m.\u001b[39mdelete(indexer)\n",
      "\u001b[1;31mKeyError\u001b[0m: \"['sample_id', 'group'] not found in axis\""
     ]
    }
   ],
   "source": [
    "import pandas as pd\n",
    "from sklearn.ensemble import ExtraTreesClassifier\n",
    "\n",
    "# Load data\n",
    "df = pd.read_csv(\"C:/Users/sanja/cfDNA-Lung-Cancer-ML/data/processed/merged_labeled_light.csv\")\n",
    "\n",
    "# Drop sample_id and separate features + label\n",
    "X = df.drop(columns=['sample_id', 'group'])  # All features\n",
    "y = df['group']                              # Target label\n",
    "\n",
    "# Feature selection\n",
    "model = ExtraTreesClassifier()\n",
    "model.fit(X, y)\n",
    "\n",
    "# Get feature importance\n",
    "importances = model.feature_importances_\n",
    "feature_names = X.columns\n",
    "\n",
    "# Create dataframe\n",
    "feature_scores = pd.DataFrame({'Feature': feature_names, 'Importance': importances})\n",
    "feature_scores = feature_scores.sort_values(by='Importance', ascending=False)\n",
    "\n",
    "# Show top features\n",
    "print(feature_scores.head(20))\n"
   ]
  },
  {
   "cell_type": "code",
   "execution_count": 5,
   "id": "13d04938-cb66-41ce-aa54-bc31cbf998cb",
   "metadata": {},
   "outputs": [
    {
     "name": "stdout",
     "output_type": "stream",
     "text": [
      "['Unnamed: 0', 'hsa-let-7a-1', 'hsa-let-7a-2', 'hsa-let-7a-3', 'hsa-let-7b', 'hsa-let-7c', 'hsa-let-7d', 'hsa-let-7e', 'hsa-let-7f-1', 'hsa-let-7f-2', 'hsa-let-7g', 'hsa-let-7i', 'hsa-mir-1-1', 'hsa-mir-1-2', 'hsa-mir-100', 'hsa-mir-101-1', 'hsa-mir-101-2', 'hsa-mir-103-1', 'hsa-mir-103-2', 'hsa-mir-105-1', 'hsa-mir-105-2', 'hsa-mir-106a', 'hsa-mir-106b', 'hsa-mir-107', 'hsa-mir-10a', 'hsa-mir-10b', 'hsa-mir-1178', 'hsa-mir-1179', 'hsa-mir-1180', 'hsa-mir-1181', 'hsa-mir-1182', 'hsa-mir-1185-1', 'hsa-mir-1185-2', 'hsa-mir-1193', 'hsa-mir-1197', 'hsa-mir-1207', 'hsa-mir-122', 'hsa-mir-1224', 'hsa-mir-1225', 'hsa-mir-1226', 'hsa-mir-1227', 'hsa-mir-1228', 'hsa-mir-1229', 'hsa-mir-1231', 'hsa-mir-1234', 'hsa-mir-1236', 'hsa-mir-1237', 'hsa-mir-1238', 'hsa-mir-124-1', 'hsa-mir-124-2', 'hsa-mir-124-3', 'hsa-mir-1243', 'hsa-mir-1244-1', 'hsa-mir-1245', 'hsa-mir-1246', 'hsa-mir-1247', 'hsa-mir-1248', 'hsa-mir-1249', 'hsa-mir-1250', 'hsa-mir-1251', 'hsa-mir-1252', 'hsa-mir-1254', 'hsa-mir-1255a', 'hsa-mir-1256', 'hsa-mir-1257', 'hsa-mir-1258', 'hsa-mir-125a', 'hsa-mir-125b-1', 'hsa-mir-125b-2', 'hsa-mir-126', 'hsa-mir-1260', 'hsa-mir-1260b', 'hsa-mir-1262', 'hsa-mir-1264', 'hsa-mir-1265', 'hsa-mir-1266', 'hsa-mir-1267', 'hsa-mir-1269', 'hsa-mir-127', 'hsa-mir-1270-1', 'hsa-mir-1270-2', 'hsa-mir-1271', 'hsa-mir-1273c', 'hsa-mir-1274b', 'hsa-mir-1275', 'hsa-mir-1276', 'hsa-mir-1277', 'hsa-mir-1278', 'hsa-mir-128-1', 'hsa-mir-128-2', 'hsa-mir-1280', 'hsa-mir-1281', 'hsa-mir-1283-1', 'hsa-mir-1283-2', 'hsa-mir-1284', 'hsa-mir-1285-1', 'hsa-mir-1286', 'hsa-mir-1287', 'hsa-mir-1288', 'hsa-mir-1289-1', 'hsa-mir-1289-2', 'hsa-mir-129-1', 'hsa-mir-129-2', 'hsa-mir-1290', 'hsa-mir-1291', 'hsa-mir-1292', 'hsa-mir-1293', 'hsa-mir-1294', 'hsa-mir-1295', 'hsa-mir-1296', 'hsa-mir-1298', 'hsa-mir-1301', 'hsa-mir-1302-3', 'hsa-mir-1303', 'hsa-mir-1304', 'hsa-mir-1305', 'hsa-mir-1306', 'hsa-mir-1307', 'hsa-mir-130a', 'hsa-mir-130b', 'hsa-mir-132', 'hsa-mir-1322', 'hsa-mir-1323', 'hsa-mir-133a-1', 'hsa-mir-133a-2', 'hsa-mir-133b', 'hsa-mir-134', 'hsa-mir-135a-1', 'hsa-mir-135a-2', 'hsa-mir-135b', 'hsa-mir-136', 'hsa-mir-137', 'hsa-mir-138-1', 'hsa-mir-138-2', 'hsa-mir-139', 'hsa-mir-140', 'hsa-mir-141', 'hsa-mir-142', 'hsa-mir-143', 'hsa-mir-144', 'hsa-mir-145', 'hsa-mir-1468', 'hsa-mir-146a', 'hsa-mir-146b', 'hsa-mir-147', 'hsa-mir-147b', 'hsa-mir-148a', 'hsa-mir-148b', 'hsa-mir-149', 'hsa-mir-150', 'hsa-mir-151', 'hsa-mir-152', 'hsa-mir-153-1', 'hsa-mir-153-2', 'hsa-mir-1537', 'hsa-mir-1538', 'hsa-mir-1539', 'hsa-mir-154', 'hsa-mir-155', 'hsa-mir-15a', 'hsa-mir-15b', 'hsa-mir-16-1', 'hsa-mir-16-2', 'hsa-mir-17', 'hsa-mir-181a-1', 'hsa-mir-181a-2', 'hsa-mir-181b-1', 'hsa-mir-181b-2', 'hsa-mir-181c', 'hsa-mir-181d', 'hsa-mir-182', 'hsa-mir-1825', 'hsa-mir-1827', 'hsa-mir-183', 'hsa-mir-184', 'hsa-mir-185', 'hsa-mir-186', 'hsa-mir-187', 'hsa-mir-188', 'hsa-mir-18a', 'hsa-mir-18b', 'hsa-mir-190', 'hsa-mir-1908', 'hsa-mir-1909', 'hsa-mir-190b', 'hsa-mir-191', 'hsa-mir-1910', 'hsa-mir-1911', 'hsa-mir-1912', 'hsa-mir-1913', 'hsa-mir-1914', 'hsa-mir-1915', 'hsa-mir-192', 'hsa-mir-193a', 'hsa-mir-193b', 'hsa-mir-194-1', 'hsa-mir-194-2', 'hsa-mir-195', 'hsa-mir-196a-1', 'hsa-mir-196a-2', 'hsa-mir-196b', 'hsa-mir-197', 'hsa-mir-1976', 'hsa-mir-198', 'hsa-mir-199a-1', 'hsa-mir-199a-2', 'hsa-mir-199b', 'hsa-mir-19a', 'hsa-mir-19b-1', 'hsa-mir-19b-2', 'hsa-mir-200a', 'hsa-mir-200b', 'hsa-mir-200c', 'hsa-mir-202', 'hsa-mir-203', 'hsa-mir-204', 'hsa-mir-205', 'hsa-mir-206', 'hsa-mir-208a', 'hsa-mir-208b', 'hsa-mir-20a', 'hsa-mir-20b', 'hsa-mir-21', 'hsa-mir-210', 'hsa-mir-211', 'hsa-mir-2110', 'hsa-mir-2113', 'hsa-mir-2114', 'hsa-mir-2115', 'hsa-mir-2116', 'hsa-mir-2117', 'hsa-mir-212', 'hsa-mir-214', 'hsa-mir-215', 'hsa-mir-216a', 'hsa-mir-216b', 'hsa-mir-217', 'hsa-mir-218-1', 'hsa-mir-218-2', 'hsa-mir-219-1', 'hsa-mir-219-2', 'hsa-mir-22', 'hsa-mir-221', 'hsa-mir-222', 'hsa-mir-223', 'hsa-mir-224', 'hsa-mir-2276', 'hsa-mir-2277', 'hsa-mir-2278', 'hsa-mir-2355', 'hsa-mir-23a', 'hsa-mir-23b', 'hsa-mir-23c', 'hsa-mir-24-1', 'hsa-mir-24-2', 'hsa-mir-25', 'hsa-mir-26a-1', 'hsa-mir-26a-2', 'hsa-mir-26b', 'hsa-mir-27a', 'hsa-mir-27b', 'hsa-mir-28', 'hsa-mir-2861', 'hsa-mir-296', 'hsa-mir-298', 'hsa-mir-299', 'hsa-mir-29a', 'hsa-mir-29b-1', 'hsa-mir-29b-2', 'hsa-mir-29c', 'hsa-mir-301a', 'hsa-mir-301b', 'hsa-mir-302a', 'hsa-mir-302b', 'hsa-mir-3065', 'hsa-mir-3074', 'hsa-mir-30a', 'hsa-mir-30b', 'hsa-mir-30c-1', 'hsa-mir-30c-2', 'hsa-mir-30d', 'hsa-mir-30e', 'hsa-mir-31', 'hsa-mir-3115', 'hsa-mir-3116-1', 'hsa-mir-3116-2', 'hsa-mir-3117', 'hsa-mir-3120', 'hsa-mir-3121', 'hsa-mir-3124', 'hsa-mir-3125', 'hsa-mir-3126', 'hsa-mir-3127', 'hsa-mir-3128', 'hsa-mir-3129', 'hsa-mir-3130-1', 'hsa-mir-3130-2', 'hsa-mir-3131', 'hsa-mir-3132', 'hsa-mir-3133', 'hsa-mir-3135', 'hsa-mir-3136', 'hsa-mir-3137', 'hsa-mir-3138', 'hsa-mir-3139', 'hsa-mir-3140', 'hsa-mir-3141', 'hsa-mir-3142', 'hsa-mir-3143', 'hsa-mir-3144', 'hsa-mir-3145', 'hsa-mir-3146', 'hsa-mir-3147', 'hsa-mir-3148', 'hsa-mir-3149', 'hsa-mir-3150', 'hsa-mir-3150b', 'hsa-mir-3151', 'hsa-mir-3152', 'hsa-mir-3153', 'hsa-mir-3154', 'hsa-mir-3155', 'hsa-mir-3157', 'hsa-mir-3158-1', 'hsa-mir-3158-2', 'hsa-mir-3159', 'hsa-mir-3160-1', 'hsa-mir-3161', 'hsa-mir-3162', 'hsa-mir-3163', 'hsa-mir-3164', 'hsa-mir-3165', 'hsa-mir-3166', 'hsa-mir-3167', 'hsa-mir-3168', 'hsa-mir-3170', 'hsa-mir-3171', 'hsa-mir-3173', 'hsa-mir-3174', 'hsa-mir-3175', 'hsa-mir-3176', 'hsa-mir-3177', 'hsa-mir-3178', 'hsa-mir-3179-1', 'hsa-mir-3179-2', 'hsa-mir-3179-3', 'hsa-mir-3180-4', 'hsa-mir-3181', 'hsa-mir-3183', 'hsa-mir-3184', 'hsa-mir-3186', 'hsa-mir-3187', 'hsa-mir-3188', 'hsa-mir-3189', 'hsa-mir-3190', 'hsa-mir-3191', 'hsa-mir-3192', 'hsa-mir-3193', 'hsa-mir-3194', 'hsa-mir-3195', 'hsa-mir-3196', 'hsa-mir-3197', 'hsa-mir-3198', 'hsa-mir-3199-1', 'hsa-mir-3199-2', 'hsa-mir-32', 'hsa-mir-3200', 'hsa-mir-3202-1', 'hsa-mir-3202-2', 'hsa-mir-320a', 'hsa-mir-320b-1', 'hsa-mir-320b-2', 'hsa-mir-320c-1', 'hsa-mir-320c-2', 'hsa-mir-320d-1', 'hsa-mir-320d-2', 'hsa-mir-320e', 'hsa-mir-323', 'hsa-mir-323b', 'hsa-mir-324', 'hsa-mir-326', 'hsa-mir-328', 'hsa-mir-329-1', 'hsa-mir-329-2', 'hsa-mir-330', 'hsa-mir-331', 'hsa-mir-335', 'hsa-mir-337', 'hsa-mir-338', 'hsa-mir-339', 'hsa-mir-33a', 'hsa-mir-33b', 'hsa-mir-340', 'hsa-mir-342', 'hsa-mir-345', 'hsa-mir-346', 'hsa-mir-34a', 'hsa-mir-34b', 'hsa-mir-34c', 'hsa-mir-3605', 'hsa-mir-3606', 'hsa-mir-3607', 'hsa-mir-3609', 'hsa-mir-361', 'hsa-mir-3610', 'hsa-mir-3611', 'hsa-mir-3612', 'hsa-mir-3613', 'hsa-mir-3614', 'hsa-mir-3615', 'hsa-mir-3616', 'hsa-mir-3617', 'hsa-mir-3618', 'hsa-mir-3619', 'hsa-mir-362', 'hsa-mir-3620', 'hsa-mir-3621', 'hsa-mir-3622a', 'hsa-mir-3622b', 'hsa-mir-363', 'hsa-mir-3646', 'hsa-mir-3647', 'hsa-mir-3648', 'hsa-mir-3649', 'hsa-mir-365-1', 'hsa-mir-365-2', 'hsa-mir-3650', 'hsa-mir-3651', 'hsa-mir-3652', 'hsa-mir-3653', 'hsa-mir-3654', 'hsa-mir-3655', 'hsa-mir-3656', 'hsa-mir-3657', 'hsa-mir-3658', 'hsa-mir-3659', 'hsa-mir-3660', 'hsa-mir-3661', 'hsa-mir-3662', 'hsa-mir-3663', 'hsa-mir-3664', 'hsa-mir-3667', 'hsa-mir-3668', 'hsa-mir-3675', 'hsa-mir-3676', 'hsa-mir-3677', 'hsa-mir-3678', 'hsa-mir-3679', 'hsa-mir-3680', 'hsa-mir-3681', 'hsa-mir-3682', 'hsa-mir-3684', 'hsa-mir-3685', 'hsa-mir-3687', 'hsa-mir-3688', 'hsa-mir-3689a', 'hsa-mir-3689b', 'hsa-mir-369', 'hsa-mir-3690', 'hsa-mir-3691', 'hsa-mir-3692', 'hsa-mir-370', 'hsa-mir-371', 'hsa-mir-372', 'hsa-mir-373', 'hsa-mir-374a', 'hsa-mir-374b', 'hsa-mir-374c', 'hsa-mir-375', 'hsa-mir-376a-1', 'hsa-mir-376a-2', 'hsa-mir-376b', 'hsa-mir-376c', 'hsa-mir-377', 'hsa-mir-378', 'hsa-mir-378b', 'hsa-mir-378c', 'hsa-mir-379', 'hsa-mir-380', 'hsa-mir-381', 'hsa-mir-382', 'hsa-mir-383', 'hsa-mir-3907', 'hsa-mir-3909', 'hsa-mir-3910-2', 'hsa-mir-3911', 'hsa-mir-3912', 'hsa-mir-3913-1', 'hsa-mir-3913-2', 'hsa-mir-3914-1', 'hsa-mir-3915', 'hsa-mir-3916', 'hsa-mir-3917', 'hsa-mir-3918', 'hsa-mir-3919', 'hsa-mir-3920', 'hsa-mir-3921', 'hsa-mir-3922', 'hsa-mir-3923', 'hsa-mir-3925', 'hsa-mir-3926-1', 'RBL2_cg00000029', 'VDAC3_cg00000236', 'ACTN1_cg00000289', 'ATP2A1_cg00000292', 'SFRP1_cg00000321', 'NIPA2_cg00000622', 'MAN1B1_cg00000658', 'TSEN34_cg00000714', 'LRRC16A_cg00000721', 'CNBP_cg00000734', 'DDX55_cg00000769', 'FAM81A_cg00000905', 'NPHP4_cg00000957', 'MRPS25_cg00001245', 'MAEL_cg00001349', 'PROX1_cg00001364', 'ELOVL1_cg00001446', 'LILRA6_cg00001510', 'NR5A2_cg00001583', 'CDK10_cg00001687', 'TMEM182_cg00001791', 'ETV6_cg00001793', 'DNAJA2_cg00001854', 'ATOH7_cg00001874', 'LRFN1_cg00002033', 'MRPL12_cg00002116', 'COL6A3_cg00002145', 'C8orf31_cg00002224', 'RTTN_cg00002236', 'CD2BP2_cg00002406', 'SLMAP_cg00002426', 'NOV_cg00002464', 'MXD4_cg00002490', 'MUSTN1_cg00002591', 'TAS1R3_cg00002593', 'ITGAD_cg00002597', 'S100A5_cg00002646', 'SMARCC2_cg00002660', 'C1orf114_cg00002719', 'TMEM49_cg00002749', 'C1orf65_cg00002808', 'DNAH17_cg00002809', 'DAB1_cg00002810', 'SLBP_cg00003091', 'RFX5_cg00003202', 'TNNT2_cg00003287', 'LHX5_cg00003298', 'CASZ1_cg00003345', 'CASZ1_cg00003513', 'C3orf16_cg00003529', 'WFIKKN2_cg00003625', 'MEOX2_cg00003994', 'CKLF_cg00004055', 'TRANK1_cg00004067', 'ZFP36_cg00004072', 'SLC2A9_cg00004082', 'MXRA7_cg00004089', 'LOXL4_cg00004105', 'P2RX6P_cg00004192', 'SFRS7_cg00004207', 'CSMD2_cg00004257', 'EHMT1_cg00004429', 'AGPAT3_cg00004533', 'AGA_cg00004818', 'LDHD_cg00004883', 'C14orf181_cg00004939', 'SH2B3_cg00004979', 'MTMR7_cg00004996', 'MT1F_cg00005010', 'RSPO3_cg00005040', 'ANKRD11_cg00005072', 'TDRD6_cg00005083', 'WWP2_cg00005112', 'OR1F2P_cg00005166', 'SERPINB12_cg00005215', 'DOK7_cg00005297', 'SRCAP_cg00005306', 'FAM180B_cg00005619', 'MTHFD2L_cg00005817', 'HOXD3_cg00005847', 'GPHN_cg00006032', 'HMX2_cg00006081', 'C12orf44_cg00006122', 'TDRD10_cg00006198', 'OTOF_cg00006243', 'NHLH1_cg00006397', 'NUP210L_cg00006626', 'CCDC126_cg00006884', 'MTUS2_cg00007032', 'ZNF362_cg00007036', 'LHX6_cg00007064', 'RRS1_cg00007076', 'PTPRF_cg00007221', 'PACS2_cg00007226', 'ZNF77_cg00007269', 'LRRC16B_cg00007300', 'ZBTB7A_cg00007324', 'CACNA1A_cg00007326', 'C6orf168_cg00007420', 'ZNF358_cg00007466', 'SLC6A5_cg00007644', 'DSTYK_cg00007898', 'PANX1_cg00007981', 'ZNF581_cg00007987', 'FAM163A_cg00008036', 'C14orf181_cg00008188', 'PDE6D_cg00008345', 'TMEM188_cg00008387', 'APAF1_cg00008452', 'GFPT2_cg00008544', 'DIAPH3_cg00008612', 'ROD1_cg00008629', 'FAIM3_cg00008647', 'C3orf39_cg00008665', 'FAM190B_cg00008671', 'IMPA2_cg00008713', 'LRRC4B_cg00008737', 'DMRTB1_cg00008810', 'NRD1_cg00008823', 'OAZ1_cg00008839', 'SYT7_cg00009053', 'RIN2_cg00009196', 'DERA_cg00009214', 'AEBP1_cg00009293', 'PELI2_cg00009364', 'TTC8_cg00009407', 'DDX18_cg00009412', 'CDH8_cg00009553', 'CDK15_cg00009750', 'LOC121952_cg00009871', 'COL4A1_cg00009922', 'MEX3C_cg00009970', 'SH3RF3_cg00010078', 'MFSD3_cg00010266', 'RFX1_cg00010445', 'HECTD3_cg00010654', 'TMEM14C_cg00010659', 'BARHL2_cg00010742', 'KIAA1949_cg00010853', 'SHOX2_cg00010946', 'TIGD2_cg00010992', 'C16orf75_cg00011122', 'WNT6_cg00011225', 'YTHDF3_cg00011247', 'RBL2_cg00011284', 'MLL2_cg00011350', 'RBM47_cg00011460', 'PAX9_cg00011482', 'LCE5A_cg00011513', 'NLRC3_cg00011564', 'PPP5C_cg00011578', 'IGFBP5_cg00011856', 'RNF222_cg00011924', 'H3F3B_cg00012036', 'TINAG_cg00012148', 'ARPC2_cg00012203', 'CABYR_cg00012238', 'FCGR1C_cg00012317', 'ARRDC4_cg00012522', 'GALNT9_cg00012529', 'KCNK17_cg00012638', 'GJB6_cg00012692', 'AVEN_cg00012698', 'SLC9A3R1_cg00012762', 'MUTED_cg00012792', 'FBF1_cg00012920', 'PRKCH_cg00012992', 'OR52B4_cg00013006', 'DCAF4L2_cg00013196', 'ST6GALNAC3_cg00013349', 'TRIM56_cg00013374', 'EPHA10_cg00013409', 'MED13_cg00013410', 'CCDC62_cg00013441', 'STC1_cg00013451', 'DYSF_cg00013475', 'RAB40B_cg00013569', 'DAZAP1_cg00013733', 'ASAP2_cg00013804', 'CACHD1_cg00013899', 'ARHGEF18_cg00013993', 'MAPK1_cg00014104', 'GYPC_cg00014112', 'KIAA1751_cg00014118', 'ESPN_cg00014168', 'OLFM1_cg00014194', 'T-SP1_cg00014260', 'TSSC1_cg00014301', 'PTPRF_cg00014445', 'MARCH5_cg00014638', 'KIF3A_cg00014752', 'PSCA_cg00014754', 'GADD45B_cg00014806', 'DPH2_cg00014900', 'USP14_cg00014996', 'CCNJ_cg00015024', 'THTPA_cg00015121', 'FLJ12825_cg00015319', 'TSPAN18_cg00015343', 'PARP10_cg00015530', 'MYEOV2_cg00015603', 'NRL_cg00015639', 'QRFPR_cg00015770', 'NPM1_cg00016156', 'STK38_cg00016223', 'ARHGAP15_cg00016324', 'DNAH11_cg00016360', 'KIF26A_cg00016406', 'ST8SIA3_cg00016439', 'ZFHX4_cg00016481', 'RAB5C_cg00016498', 'SLFNL1_cg00016593', 'CRAMP1L_cg00016618', 'MUT_cg00016718', 'KIDINS220_cg00016783', 'CAGE1_cg00016802', 'CNTNAP2_cg00016814', 'SLC5A2_cg00016841', 'C19orf69_cg00016892', 'RHOC_cg00016968', 'RER1_cg00016996', 'PGBD1_cg00017002', 'C14orf135_cg00017033', 'THRA_cg00017121', 'WIPF2_cg00017188', 'PLEC1_cg00017203', 'MAST3_cg00017441', 'OSM_cg00017461', 'ABO_cg00017475', 'DPP6_cg00017489', 'PTK2B_cg00017601', 'ZDHHC14_cg00017931', 'GRRP1_cg00017970', 'NKX6-2_cg00018024', 'ESCO1_cg00018044', 'TBR1_cg00018128', 'SH2B2_cg00018181', 'S100A3_cg00018184', 'CEP68_cg00018198', 'IQCE_cg00018539', 'HEXIM2_cg00018557', 'CRYGD_cg00018606', 'CSMD1_cg00018696', 'ZNF664_cg00018739', 'PABPC3_cg00018896', 'UBL3_cg00019093', 'LTBP4_cg00019137', 'SLC9A11_cg00019151', 'SPTBN4_cg00019377', 'PER3_cg00019458', 'RNF111_cg00019463', 'HOPX_cg00019495', 'DLK1_cg00019511', 'ZFP41_cg00019576', 'C12orf34_cg00019678', 'IGF2R_cg00019778', 'RPRD1A_cg00019809', 'MAPK4_cg00019841', 'LOC169834_cg00019877', 'NRCAM_cg00019997', 'CNRIP1_cg00020052', 'LARP6_cg00020175', 'SYT1_cg00020191', 'FAM8A1_cg00020297', 'UNC84A_cg00020340', 'OR6V1_cg00020348', 'TRIM56_cg00020390', 'CRIP3_cg00020419', 'TULP1_cg00020533', 'OCA2_cg00020649', 'FAM38A_cg00020794', 'PLXNC1_cg00020799', 'CBR4_cg00020991', 'RRP1_cg00021028', 'RIN3_cg00021108', 'SPAG7_cg00021128', 'PNMA2_cg00021152', 'PPFIBP1_cg00021166', 'MYBL1_cg00021237', 'FAM189A1_cg00021242', 'FEV_cg00021256', 'KIAA0182_cg00021476', 'TAF15_cg00021527', 'TFAP4_cg00021532', 'UBR1_cg00021783', 'GBF1_cg00021944', 'ZNF613_cg00021945', 'DPYS_cg00021978', 'CAMSAP1_cg00022024', 'PLA2G15_cg00022076', 'DOCK1_cg00022101', 'SFRS6_cg00022138', 'SNN_cg00022235', 'GOLGA3_cg00022259', 'FGF4_cg00022558', 'AKAP8L_cg00022594', 'CDK8_cg00022633', 'ACSL5_cg00022688', 'PDGFRA_cg00022858', 'CCDC88B_cg00022866', 'CRHR1_cg00022871', 'HAPLN4_cg00022911', 'HTR1D_cg00023024', 'ARL6IP5_cg00023132', 'RNF220_cg00023154', 'ZNF226_cg00023168', 'ZNF788_cg00023174', 'LOC401463_cg00023185', 'LRPPRC_cg00023288', 'CARKD_cg00023464', 'NBL1_cg00023492', 'COX5A_cg00023695', 'SH2B2_cg00023808', 'RHOD_cg00023919', 'RASL10B_cg00024382', 'ELOVL5_cg00024396', 'SERINC5_cg00024404', 'NGFR_cg00024472', 'CDR2_cg00024790', 'MECOM_cg00024967', 'ERCC6_cg00025044', 'MAP3K9_cg00025138', 'NUDT17_cg00025211', 'ZEB2_cg00025331', 'SLC20A2_cg00025347', 'PADI3_cg00025357', 'COQ10A_cg00025436', 'ABR_cg00025496', 'S100B_cg00025591', 'ZSCAN18_cg00025715', 'TBC1D16_cg00025795', 'CRHR1_cg00025823', 'C13orf15_cg00025981', 'DIP2C_cg00025991', 'SYNJ1_cg00026030', 'IKZF4_cg00026033', 'DNAH10_cg00026119', 'ALDOA_cg00026230', 'CLNK_cg00026290', 'BAIAP2_cg00026327', 'LOC100132354_cg00026362', 'TEAD3_cg00026374', 'HLA-L_cg00026375', 'ANK3_cg00026412', 'DEF8_cg00026455', 'NR5A2_cg00026457', 'HPCA_cg00026546', 'ZNF710_cg00026553', 'NR2F2_cg00026703', 'FECH_cg00026731', 'C6orf10_cg00026776', 'KCNJ9_cg00026803', 'NCRNA00095_cg00026853', 'NCAPD2_cg00026857', 'DAB1_cg00026909', 'UBTF_cg00026974', 'OSBPL1A_cg00027037', 'TSSC1_cg00027081', 'EPB41L3_cg00027083', 'TAS2R39_cg00027120', 'TGOLN2_cg00027232', 'DCC_cg00027400', 'VHLL_cg00027466', 'PHKG2_cg00027499', 'CD2_cg00027570', 'ITPKB_cg00027637', 'TCF12_cg00027650', 'STAC2_cg00027669', 'KIAA1683_cg00027990', 'THBS1_cg00027995', 'LOXL1_cg00028013', 'TSPYL3_cg00028034', 'ZBTB20_cg00028135', 'GABBR1_cg00028318', 'SORBS2_cg00028336', 'WHSC1_cg00028338', 'MTSS1_cg00028431', 'NCOA7_cg00028455', 'ZNF808_cg00028487', 'GABRA5_cg00028598', 'PTMS_cg00028636', 'ARHGEF4_cg00028678', 'EHMT2_cg00028757', 'GOT2_cg00028829', 'KRT5_cg00028929', 'ZIC4_cg00028935', 'GLTSCR2_cg00028993', 'NOL10_cg00029053', 'HIP1_cg00029161', 'HEXIM1_cg00029233', 'DGKI_cg00029246', 'PROM2_cg00029282', 'CUX2_cg00029284', 'DCTN2_cg00029397', 'KIF13A_cg00029619', 'USF2_cg00029640', 'SLC5A2_cg00029825', 'CCNB1IP1_cg00029826', 'VPS28_cg00029831', 'RNF207_cg00030047', 'HCG4_cg00030176', 'ICA1_cg00030291', 'SLC25A2_cg00030420', 'DLEC1_cg00030422', 'UQCRFS1_cg00030423', 'MEPCE_cg00030432', 'PRKAB2_cg00030476', 'TRIM15_cg00030508', 'ABCC1_cg00030682', 'FAM189A1_cg00030774', 'ZBTB9_cg00030795', 'ARHGEF10_cg00030807', 'RBM8A_cg00030816', 'MFAP2_cg00031063', 'RXRB_cg00031105', 'SERPINB1_cg00031256', 'FRMD1_cg00031346', 'PSAP_cg00031402', 'PNPLA6_cg00031443', 'PRPF38B_cg00031456', 'SLC44A4_cg00031491', 'PRB1_cg00031556', 'ATG4D_cg00031663', 'FAM126A_cg00031708', 'BRCA2_cg00031759', 'ALPK2_cg00031779', 'C7orf44_cg00031967', 'PNPLA6_cg00032036', 'TSPYL5_cg00032205', 'AP2B1_cg00032246', 'LONP1_cg00032366', 'TP53I13_cg00032419', 'ATP5E_cg00032609', 'LRRC47_cg00032643', 'SNX4_cg00032664', 'FGFRL1_cg00032686', 'EVI5L_cg00032701', 'NELL2_cg00032756', 'USP4_cg00032789', 'MARCH1_cg00032805', 'CHCHD3_cg00032852', 'MORN1_cg00032879', 'FOXN2_cg00032884', 'SNX7_cg00033127', 'TGIF1_cg00033220', 'SENP2_cg00033304', 'SETD8_cg00033334', 'UHRF1_cg00033371', 'TCEB1_cg00033457', 'CROT_cg00033490', 'KIAA1539_cg00033533', 'MGRN1_cg00033551', 'SLC35B4_cg00033643', 'EPS8_cg00033668', 'TSNARE1_cg00033806', 'KNDC1_cg00033834', 'ATP11A_cg00033877', 'ARHGEF18_cg00033915', 'CTU2_cg00034003', 'TAF8_cg00034019', 'RALYL_cg00034076', 'HEYL_cg00034101', 'RHOG_cg00034130', 'UGP2_cg00034376', 'FDPS_cg00034416', 'CNIH3_cg00034433', 'ACTA1_cg00034468', 'SAMD1_cg00034555', 'MIR1977_cg00034556', 'TMEM178_cg00034559', 'ZBTB46_cg00034574', 'C16orf81_cg00034611', 'C14orf64_cg00034769', 'PQLC1_cg00034852', 'RUNX3_cg00035000', 'TTYH3_cg00035074', 'CBFA2T3_cg00035197', 'PTPRN2_cg00035220', 'PUM1_cg00035237', 'ARF1_cg00035249', 'C6orf124_cg00035268', 'HOXD8_cg00035316', 'MTG1_cg00035326', 'WDR60_cg00035398', 'UBE2S_cg00035623', 'DEPDC7_cg00035630', 'DAXX_cg00035673', 'ABI2_cg00035812', 'C7orf50_cg00035923', 'PARM1_cg00035945', 'HPCAL4_cg00036110', 'NUP107_cg00036115', 'A2BP1_cg00036119', 'GALP_cg00036137', 'ADCY9_cg00036258', 'KIF26B_cg00036263', 'GRIN2A_cg00036299', 'ARL6IP4_cg00036328', 'ATXN7_cg00036369', 'MOGS_cg00036386', 'Label']\n"
     ]
    }
   ],
   "source": [
    "print(df.columns.tolist())\n"
   ]
  },
  {
   "cell_type": "code",
   "execution_count": 6,
   "id": "348cb365-22b0-4714-b566-6bc3944961eb",
   "metadata": {},
   "outputs": [
    {
     "ename": "KeyError",
     "evalue": "\"['Group'] not found in axis\"",
     "output_type": "error",
     "traceback": [
      "\u001b[1;31m---------------------------------------------------------------------------\u001b[0m",
      "\u001b[1;31mKeyError\u001b[0m                                  Traceback (most recent call last)",
      "Cell \u001b[1;32mIn[6], line 8\u001b[0m\n\u001b[0;32m      5\u001b[0m df \u001b[38;5;241m=\u001b[39m pd\u001b[38;5;241m.\u001b[39mread_csv(\u001b[38;5;124m\"\u001b[39m\u001b[38;5;124mC:/Users/sanja/cfDNA-Lung-Cancer-ML/data/processed/merged_labeled_light.csv\u001b[39m\u001b[38;5;124m\"\u001b[39m)\n\u001b[0;32m      7\u001b[0m \u001b[38;5;66;03m# Step 2: Drop 'Unnamed: 0' and separate features + label\u001b[39;00m\n\u001b[1;32m----> 8\u001b[0m X \u001b[38;5;241m=\u001b[39m \u001b[43mdf\u001b[49m\u001b[38;5;241;43m.\u001b[39;49m\u001b[43mdrop\u001b[49m\u001b[43m(\u001b[49m\u001b[43mcolumns\u001b[49m\u001b[38;5;241;43m=\u001b[39;49m\u001b[43m[\u001b[49m\u001b[38;5;124;43m'\u001b[39;49m\u001b[38;5;124;43mUnnamed: 0\u001b[39;49m\u001b[38;5;124;43m'\u001b[39;49m\u001b[43m,\u001b[49m\u001b[43m \u001b[49m\u001b[38;5;124;43m'\u001b[39;49m\u001b[38;5;124;43mGroup\u001b[39;49m\u001b[38;5;124;43m'\u001b[39;49m\u001b[43m]\u001b[49m\u001b[43m)\u001b[49m  \u001b[38;5;66;03m# Features\u001b[39;00m\n\u001b[0;32m      9\u001b[0m y \u001b[38;5;241m=\u001b[39m df[\u001b[38;5;124m'\u001b[39m\u001b[38;5;124mGroup\u001b[39m\u001b[38;5;124m'\u001b[39m]                               \u001b[38;5;66;03m# Target variable\u001b[39;00m\n\u001b[0;32m     11\u001b[0m \u001b[38;5;66;03m# Step 3: Use ExtraTreesClassifier for feature importance\u001b[39;00m\n",
      "File \u001b[1;32m~\\AppData\\Local\\Programs\\Python\\Python313\\Lib\\site-packages\\pandas\\core\\frame.py:5581\u001b[0m, in \u001b[0;36mDataFrame.drop\u001b[1;34m(self, labels, axis, index, columns, level, inplace, errors)\u001b[0m\n\u001b[0;32m   5433\u001b[0m \u001b[38;5;28;01mdef\u001b[39;00m\u001b[38;5;250m \u001b[39m\u001b[38;5;21mdrop\u001b[39m(\n\u001b[0;32m   5434\u001b[0m     \u001b[38;5;28mself\u001b[39m,\n\u001b[0;32m   5435\u001b[0m     labels: IndexLabel \u001b[38;5;241m|\u001b[39m \u001b[38;5;28;01mNone\u001b[39;00m \u001b[38;5;241m=\u001b[39m \u001b[38;5;28;01mNone\u001b[39;00m,\n\u001b[1;32m   (...)\u001b[0m\n\u001b[0;32m   5442\u001b[0m     errors: IgnoreRaise \u001b[38;5;241m=\u001b[39m \u001b[38;5;124m\"\u001b[39m\u001b[38;5;124mraise\u001b[39m\u001b[38;5;124m\"\u001b[39m,\n\u001b[0;32m   5443\u001b[0m ) \u001b[38;5;241m-\u001b[39m\u001b[38;5;241m>\u001b[39m DataFrame \u001b[38;5;241m|\u001b[39m \u001b[38;5;28;01mNone\u001b[39;00m:\n\u001b[0;32m   5444\u001b[0m \u001b[38;5;250m    \u001b[39m\u001b[38;5;124;03m\"\"\"\u001b[39;00m\n\u001b[0;32m   5445\u001b[0m \u001b[38;5;124;03m    Drop specified labels from rows or columns.\u001b[39;00m\n\u001b[0;32m   5446\u001b[0m \n\u001b[1;32m   (...)\u001b[0m\n\u001b[0;32m   5579\u001b[0m \u001b[38;5;124;03m            weight  1.0     0.8\u001b[39;00m\n\u001b[0;32m   5580\u001b[0m \u001b[38;5;124;03m    \"\"\"\u001b[39;00m\n\u001b[1;32m-> 5581\u001b[0m     \u001b[38;5;28;01mreturn\u001b[39;00m \u001b[38;5;28;43msuper\u001b[39;49m\u001b[43m(\u001b[49m\u001b[43m)\u001b[49m\u001b[38;5;241;43m.\u001b[39;49m\u001b[43mdrop\u001b[49m\u001b[43m(\u001b[49m\n\u001b[0;32m   5582\u001b[0m \u001b[43m        \u001b[49m\u001b[43mlabels\u001b[49m\u001b[38;5;241;43m=\u001b[39;49m\u001b[43mlabels\u001b[49m\u001b[43m,\u001b[49m\n\u001b[0;32m   5583\u001b[0m \u001b[43m        \u001b[49m\u001b[43maxis\u001b[49m\u001b[38;5;241;43m=\u001b[39;49m\u001b[43maxis\u001b[49m\u001b[43m,\u001b[49m\n\u001b[0;32m   5584\u001b[0m \u001b[43m        \u001b[49m\u001b[43mindex\u001b[49m\u001b[38;5;241;43m=\u001b[39;49m\u001b[43mindex\u001b[49m\u001b[43m,\u001b[49m\n\u001b[0;32m   5585\u001b[0m \u001b[43m        \u001b[49m\u001b[43mcolumns\u001b[49m\u001b[38;5;241;43m=\u001b[39;49m\u001b[43mcolumns\u001b[49m\u001b[43m,\u001b[49m\n\u001b[0;32m   5586\u001b[0m \u001b[43m        \u001b[49m\u001b[43mlevel\u001b[49m\u001b[38;5;241;43m=\u001b[39;49m\u001b[43mlevel\u001b[49m\u001b[43m,\u001b[49m\n\u001b[0;32m   5587\u001b[0m \u001b[43m        \u001b[49m\u001b[43minplace\u001b[49m\u001b[38;5;241;43m=\u001b[39;49m\u001b[43minplace\u001b[49m\u001b[43m,\u001b[49m\n\u001b[0;32m   5588\u001b[0m \u001b[43m        \u001b[49m\u001b[43merrors\u001b[49m\u001b[38;5;241;43m=\u001b[39;49m\u001b[43merrors\u001b[49m\u001b[43m,\u001b[49m\n\u001b[0;32m   5589\u001b[0m \u001b[43m    \u001b[49m\u001b[43m)\u001b[49m\n",
      "File \u001b[1;32m~\\AppData\\Local\\Programs\\Python\\Python313\\Lib\\site-packages\\pandas\\core\\generic.py:4788\u001b[0m, in \u001b[0;36mNDFrame.drop\u001b[1;34m(self, labels, axis, index, columns, level, inplace, errors)\u001b[0m\n\u001b[0;32m   4786\u001b[0m \u001b[38;5;28;01mfor\u001b[39;00m axis, labels \u001b[38;5;129;01min\u001b[39;00m axes\u001b[38;5;241m.\u001b[39mitems():\n\u001b[0;32m   4787\u001b[0m     \u001b[38;5;28;01mif\u001b[39;00m labels \u001b[38;5;129;01mis\u001b[39;00m \u001b[38;5;129;01mnot\u001b[39;00m \u001b[38;5;28;01mNone\u001b[39;00m:\n\u001b[1;32m-> 4788\u001b[0m         obj \u001b[38;5;241m=\u001b[39m \u001b[43mobj\u001b[49m\u001b[38;5;241;43m.\u001b[39;49m\u001b[43m_drop_axis\u001b[49m\u001b[43m(\u001b[49m\u001b[43mlabels\u001b[49m\u001b[43m,\u001b[49m\u001b[43m \u001b[49m\u001b[43maxis\u001b[49m\u001b[43m,\u001b[49m\u001b[43m \u001b[49m\u001b[43mlevel\u001b[49m\u001b[38;5;241;43m=\u001b[39;49m\u001b[43mlevel\u001b[49m\u001b[43m,\u001b[49m\u001b[43m \u001b[49m\u001b[43merrors\u001b[49m\u001b[38;5;241;43m=\u001b[39;49m\u001b[43merrors\u001b[49m\u001b[43m)\u001b[49m\n\u001b[0;32m   4790\u001b[0m \u001b[38;5;28;01mif\u001b[39;00m inplace:\n\u001b[0;32m   4791\u001b[0m     \u001b[38;5;28mself\u001b[39m\u001b[38;5;241m.\u001b[39m_update_inplace(obj)\n",
      "File \u001b[1;32m~\\AppData\\Local\\Programs\\Python\\Python313\\Lib\\site-packages\\pandas\\core\\generic.py:4830\u001b[0m, in \u001b[0;36mNDFrame._drop_axis\u001b[1;34m(self, labels, axis, level, errors, only_slice)\u001b[0m\n\u001b[0;32m   4828\u001b[0m         new_axis \u001b[38;5;241m=\u001b[39m axis\u001b[38;5;241m.\u001b[39mdrop(labels, level\u001b[38;5;241m=\u001b[39mlevel, errors\u001b[38;5;241m=\u001b[39merrors)\n\u001b[0;32m   4829\u001b[0m     \u001b[38;5;28;01melse\u001b[39;00m:\n\u001b[1;32m-> 4830\u001b[0m         new_axis \u001b[38;5;241m=\u001b[39m \u001b[43maxis\u001b[49m\u001b[38;5;241;43m.\u001b[39;49m\u001b[43mdrop\u001b[49m\u001b[43m(\u001b[49m\u001b[43mlabels\u001b[49m\u001b[43m,\u001b[49m\u001b[43m \u001b[49m\u001b[43merrors\u001b[49m\u001b[38;5;241;43m=\u001b[39;49m\u001b[43merrors\u001b[49m\u001b[43m)\u001b[49m\n\u001b[0;32m   4831\u001b[0m     indexer \u001b[38;5;241m=\u001b[39m axis\u001b[38;5;241m.\u001b[39mget_indexer(new_axis)\n\u001b[0;32m   4833\u001b[0m \u001b[38;5;66;03m# Case for non-unique axis\u001b[39;00m\n\u001b[0;32m   4834\u001b[0m \u001b[38;5;28;01melse\u001b[39;00m:\n",
      "File \u001b[1;32m~\\AppData\\Local\\Programs\\Python\\Python313\\Lib\\site-packages\\pandas\\core\\indexes\\base.py:7070\u001b[0m, in \u001b[0;36mIndex.drop\u001b[1;34m(self, labels, errors)\u001b[0m\n\u001b[0;32m   7068\u001b[0m \u001b[38;5;28;01mif\u001b[39;00m mask\u001b[38;5;241m.\u001b[39many():\n\u001b[0;32m   7069\u001b[0m     \u001b[38;5;28;01mif\u001b[39;00m errors \u001b[38;5;241m!=\u001b[39m \u001b[38;5;124m\"\u001b[39m\u001b[38;5;124mignore\u001b[39m\u001b[38;5;124m\"\u001b[39m:\n\u001b[1;32m-> 7070\u001b[0m         \u001b[38;5;28;01mraise\u001b[39;00m \u001b[38;5;167;01mKeyError\u001b[39;00m(\u001b[38;5;124mf\u001b[39m\u001b[38;5;124m\"\u001b[39m\u001b[38;5;132;01m{\u001b[39;00mlabels[mask]\u001b[38;5;241m.\u001b[39mtolist()\u001b[38;5;132;01m}\u001b[39;00m\u001b[38;5;124m not found in axis\u001b[39m\u001b[38;5;124m\"\u001b[39m)\n\u001b[0;32m   7071\u001b[0m     indexer \u001b[38;5;241m=\u001b[39m indexer[\u001b[38;5;241m~\u001b[39mmask]\n\u001b[0;32m   7072\u001b[0m \u001b[38;5;28;01mreturn\u001b[39;00m \u001b[38;5;28mself\u001b[39m\u001b[38;5;241m.\u001b[39mdelete(indexer)\n",
      "\u001b[1;31mKeyError\u001b[0m: \"['Group'] not found in axis\""
     ]
    }
   ],
   "source": [
    "import pandas as pd\n",
    "from sklearn.ensemble import ExtraTreesClassifier\n",
    "\n",
    "# Step 1: Load the dataset\n",
    "df = pd.read_csv(\"C:/Users/sanja/cfDNA-Lung-Cancer-ML/data/processed/merged_labeled_light.csv\")\n",
    "\n",
    "# Step 2: Drop 'Unnamed: 0' and separate features + label\n",
    "X = df.drop(columns=['Unnamed: 0', 'Group'])  # Features\n",
    "y = df['Group']                               # Target variable\n",
    "\n",
    "# Step 3: Use ExtraTreesClassifier for feature importance\n",
    "model = ExtraTreesClassifier(n_estimators=100, random_state=42)\n",
    "model.fit(X, y)\n",
    "\n",
    "# Step 4: Create a DataFrame with feature importances\n",
    "importances = pd.DataFrame({\n",
    "    'Feature': X.columns,\n",
    "    'Importance': model.feature_importances_\n",
    "}).sort_values(by='Importance', ascending=False)\n",
    "\n",
    "# Step 5: Display top 20 features\n",
    "print(importances.head(20))\n"
   ]
  },
  {
   "cell_type": "code",
   "execution_count": 1,
   "id": "4b12f181-6768-4755-973e-b150f4199b6d",
   "metadata": {},
   "outputs": [
    {
     "ename": "NameError",
     "evalue": "name 'joblib' is not defined",
     "output_type": "error",
     "traceback": [
      "\u001b[1;31m---------------------------------------------------------------------------\u001b[0m",
      "\u001b[1;31mNameError\u001b[0m                                 Traceback (most recent call last)",
      "Cell \u001b[1;32mIn[1], line 1\u001b[0m\n\u001b[1;32m----> 1\u001b[0m \u001b[43mjoblib\u001b[49m\u001b[38;5;241m.\u001b[39mload(\u001b[38;5;124m\"\u001b[39m\u001b[38;5;124mmodels/final_model.pkl\u001b[39m\u001b[38;5;124m\"\u001b[39m)\n",
      "\u001b[1;31mNameError\u001b[0m: name 'joblib' is not defined"
     ]
    }
   ],
   "source": [
    "joblib.load(\"models/final_model.pkl\")\n"
   ]
  },
  {
   "cell_type": "code",
   "execution_count": 2,
   "id": "8c7f0900-f8c1-4453-9f80-baff31c17e8a",
   "metadata": {
    "scrolled": true
   },
   "outputs": [
    {
     "ename": "ValueError",
     "evalue": "could not convert string to float: 'TCGA.05.4384'",
     "output_type": "error",
     "traceback": [
      "\u001b[1;31m---------------------------------------------------------------------------\u001b[0m",
      "\u001b[1;31mValueError\u001b[0m                                Traceback (most recent call last)",
      "\u001b[1;32m~\\AppData\\Local\\Temp\\ipykernel_19584\\3165641337.py\u001b[0m in \u001b[0;36m?\u001b[1;34m()\u001b[0m\n\u001b[0;32m     11\u001b[0m \u001b[0my\u001b[0m \u001b[1;33m=\u001b[0m \u001b[0mdf\u001b[0m\u001b[1;33m[\u001b[0m\u001b[1;34m'Label'\u001b[0m\u001b[1;33m]\u001b[0m\u001b[1;33m\u001b[0m\u001b[1;33m\u001b[0m\u001b[0m\n\u001b[0;32m     12\u001b[0m \u001b[1;33m\u001b[0m\u001b[0m\n\u001b[0;32m     13\u001b[0m \u001b[1;31m# Feature selection using SelectKBest\u001b[0m\u001b[1;33m\u001b[0m\u001b[1;33m\u001b[0m\u001b[0m\n\u001b[0;32m     14\u001b[0m \u001b[0mselector\u001b[0m \u001b[1;33m=\u001b[0m \u001b[0mSelectKBest\u001b[0m\u001b[1;33m(\u001b[0m\u001b[0mscore_func\u001b[0m\u001b[1;33m=\u001b[0m\u001b[0mf_classif\u001b[0m\u001b[1;33m,\u001b[0m \u001b[0mk\u001b[0m\u001b[1;33m=\u001b[0m\u001b[1;36m20\u001b[0m\u001b[1;33m)\u001b[0m  \u001b[1;31m# change k as needed\u001b[0m\u001b[1;33m\u001b[0m\u001b[1;33m\u001b[0m\u001b[0m\n\u001b[1;32m---> 15\u001b[1;33m \u001b[0mselector\u001b[0m\u001b[1;33m.\u001b[0m\u001b[0mfit\u001b[0m\u001b[1;33m(\u001b[0m\u001b[0mX\u001b[0m\u001b[1;33m,\u001b[0m \u001b[0my\u001b[0m\u001b[1;33m)\u001b[0m\u001b[1;33m\u001b[0m\u001b[1;33m\u001b[0m\u001b[0m\n\u001b[0m\u001b[0;32m     16\u001b[0m \u001b[1;33m\u001b[0m\u001b[0m\n\u001b[0;32m     17\u001b[0m \u001b[0mselected_features\u001b[0m \u001b[1;33m=\u001b[0m \u001b[0mX\u001b[0m\u001b[1;33m.\u001b[0m\u001b[0mcolumns\u001b[0m\u001b[1;33m[\u001b[0m\u001b[0mselector\u001b[0m\u001b[1;33m.\u001b[0m\u001b[0mget_support\u001b[0m\u001b[1;33m(\u001b[0m\u001b[1;33m)\u001b[0m\u001b[1;33m]\u001b[0m\u001b[1;33m.\u001b[0m\u001b[0mtolist\u001b[0m\u001b[1;33m(\u001b[0m\u001b[1;33m)\u001b[0m\u001b[1;33m\u001b[0m\u001b[1;33m\u001b[0m\u001b[0m\n\u001b[0;32m     18\u001b[0m \u001b[1;33m\u001b[0m\u001b[0m\n",
      "\u001b[1;32m~\\AppData\\Local\\Programs\\Python\\Python313\\Lib\\site-packages\\sklearn\\base.py\u001b[0m in \u001b[0;36m?\u001b[1;34m(estimator, *args, **kwargs)\u001b[0m\n\u001b[0;32m   1385\u001b[0m                 skip_parameter_validation=(\n\u001b[0;32m   1386\u001b[0m                     \u001b[0mprefer_skip_nested_validation\u001b[0m \u001b[1;32mor\u001b[0m \u001b[0mglobal_skip_validation\u001b[0m\u001b[1;33m\u001b[0m\u001b[1;33m\u001b[0m\u001b[0m\n\u001b[0;32m   1387\u001b[0m                 \u001b[1;33m)\u001b[0m\u001b[1;33m\u001b[0m\u001b[1;33m\u001b[0m\u001b[0m\n\u001b[0;32m   1388\u001b[0m             \u001b[1;33m)\u001b[0m\u001b[1;33m:\u001b[0m\u001b[1;33m\u001b[0m\u001b[1;33m\u001b[0m\u001b[0m\n\u001b[1;32m-> 1389\u001b[1;33m                 \u001b[1;32mreturn\u001b[0m \u001b[0mfit_method\u001b[0m\u001b[1;33m(\u001b[0m\u001b[0mestimator\u001b[0m\u001b[1;33m,\u001b[0m \u001b[1;33m*\u001b[0m\u001b[0margs\u001b[0m\u001b[1;33m,\u001b[0m \u001b[1;33m**\u001b[0m\u001b[0mkwargs\u001b[0m\u001b[1;33m)\u001b[0m\u001b[1;33m\u001b[0m\u001b[1;33m\u001b[0m\u001b[0m\n\u001b[0m",
      "\u001b[1;32m~\\AppData\\Local\\Programs\\Python\\Python313\\Lib\\site-packages\\sklearn\\feature_selection\\_univariate_selection.py\u001b[0m in \u001b[0;36m?\u001b[1;34m(self, X, y)\u001b[0m\n\u001b[0;32m    560\u001b[0m         \"\"\"\n\u001b[0;32m    561\u001b[0m         \u001b[1;32mif\u001b[0m \u001b[0my\u001b[0m \u001b[1;32mis\u001b[0m \u001b[1;32mNone\u001b[0m\u001b[1;33m:\u001b[0m\u001b[1;33m\u001b[0m\u001b[1;33m\u001b[0m\u001b[0m\n\u001b[0;32m    562\u001b[0m             \u001b[0mX\u001b[0m \u001b[1;33m=\u001b[0m \u001b[0mvalidate_data\u001b[0m\u001b[1;33m(\u001b[0m\u001b[0mself\u001b[0m\u001b[1;33m,\u001b[0m \u001b[0mX\u001b[0m\u001b[1;33m,\u001b[0m \u001b[0maccept_sparse\u001b[0m\u001b[1;33m=\u001b[0m\u001b[1;33m[\u001b[0m\u001b[1;34m\"csr\"\u001b[0m\u001b[1;33m,\u001b[0m \u001b[1;34m\"csc\"\u001b[0m\u001b[1;33m]\u001b[0m\u001b[1;33m)\u001b[0m\u001b[1;33m\u001b[0m\u001b[1;33m\u001b[0m\u001b[0m\n\u001b[0;32m    563\u001b[0m         \u001b[1;32melse\u001b[0m\u001b[1;33m:\u001b[0m\u001b[1;33m\u001b[0m\u001b[1;33m\u001b[0m\u001b[0m\n\u001b[1;32m--> 564\u001b[1;33m             X, y = validate_data(\n\u001b[0m\u001b[0;32m    565\u001b[0m                 \u001b[0mself\u001b[0m\u001b[1;33m,\u001b[0m \u001b[0mX\u001b[0m\u001b[1;33m,\u001b[0m \u001b[0my\u001b[0m\u001b[1;33m,\u001b[0m \u001b[0maccept_sparse\u001b[0m\u001b[1;33m=\u001b[0m\u001b[1;33m[\u001b[0m\u001b[1;34m\"csr\"\u001b[0m\u001b[1;33m,\u001b[0m \u001b[1;34m\"csc\"\u001b[0m\u001b[1;33m]\u001b[0m\u001b[1;33m,\u001b[0m \u001b[0mmulti_output\u001b[0m\u001b[1;33m=\u001b[0m\u001b[1;32mTrue\u001b[0m\u001b[1;33m\u001b[0m\u001b[1;33m\u001b[0m\u001b[0m\n\u001b[0;32m    566\u001b[0m             \u001b[1;33m)\u001b[0m\u001b[1;33m\u001b[0m\u001b[1;33m\u001b[0m\u001b[0m\n\u001b[0;32m    567\u001b[0m \u001b[1;33m\u001b[0m\u001b[0m\n",
      "\u001b[1;32m~\\AppData\\Local\\Programs\\Python\\Python313\\Lib\\site-packages\\sklearn\\utils\\validation.py\u001b[0m in \u001b[0;36m?\u001b[1;34m(_estimator, X, y, reset, validate_separately, skip_check_array, **check_params)\u001b[0m\n\u001b[0;32m   2957\u001b[0m             \u001b[1;32mif\u001b[0m \u001b[1;34m\"estimator\"\u001b[0m \u001b[1;32mnot\u001b[0m \u001b[1;32min\u001b[0m \u001b[0mcheck_y_params\u001b[0m\u001b[1;33m:\u001b[0m\u001b[1;33m\u001b[0m\u001b[1;33m\u001b[0m\u001b[0m\n\u001b[0;32m   2958\u001b[0m                 \u001b[0mcheck_y_params\u001b[0m \u001b[1;33m=\u001b[0m \u001b[1;33m{\u001b[0m\u001b[1;33m**\u001b[0m\u001b[0mdefault_check_params\u001b[0m\u001b[1;33m,\u001b[0m \u001b[1;33m**\u001b[0m\u001b[0mcheck_y_params\u001b[0m\u001b[1;33m}\u001b[0m\u001b[1;33m\u001b[0m\u001b[1;33m\u001b[0m\u001b[0m\n\u001b[0;32m   2959\u001b[0m             \u001b[0my\u001b[0m \u001b[1;33m=\u001b[0m \u001b[0mcheck_array\u001b[0m\u001b[1;33m(\u001b[0m\u001b[0my\u001b[0m\u001b[1;33m,\u001b[0m \u001b[0minput_name\u001b[0m\u001b[1;33m=\u001b[0m\u001b[1;34m\"y\"\u001b[0m\u001b[1;33m,\u001b[0m \u001b[1;33m**\u001b[0m\u001b[0mcheck_y_params\u001b[0m\u001b[1;33m)\u001b[0m\u001b[1;33m\u001b[0m\u001b[1;33m\u001b[0m\u001b[0m\n\u001b[0;32m   2960\u001b[0m         \u001b[1;32melse\u001b[0m\u001b[1;33m:\u001b[0m\u001b[1;33m\u001b[0m\u001b[1;33m\u001b[0m\u001b[0m\n\u001b[1;32m-> 2961\u001b[1;33m             \u001b[0mX\u001b[0m\u001b[1;33m,\u001b[0m \u001b[0my\u001b[0m \u001b[1;33m=\u001b[0m \u001b[0mcheck_X_y\u001b[0m\u001b[1;33m(\u001b[0m\u001b[0mX\u001b[0m\u001b[1;33m,\u001b[0m \u001b[0my\u001b[0m\u001b[1;33m,\u001b[0m \u001b[1;33m**\u001b[0m\u001b[0mcheck_params\u001b[0m\u001b[1;33m)\u001b[0m\u001b[1;33m\u001b[0m\u001b[1;33m\u001b[0m\u001b[0m\n\u001b[0m\u001b[0;32m   2962\u001b[0m         \u001b[0mout\u001b[0m \u001b[1;33m=\u001b[0m \u001b[0mX\u001b[0m\u001b[1;33m,\u001b[0m \u001b[0my\u001b[0m\u001b[1;33m\u001b[0m\u001b[1;33m\u001b[0m\u001b[0m\n\u001b[0;32m   2963\u001b[0m \u001b[1;33m\u001b[0m\u001b[0m\n\u001b[0;32m   2964\u001b[0m     \u001b[1;32mif\u001b[0m \u001b[1;32mnot\u001b[0m \u001b[0mno_val_X\u001b[0m \u001b[1;32mand\u001b[0m \u001b[0mcheck_params\u001b[0m\u001b[1;33m.\u001b[0m\u001b[0mget\u001b[0m\u001b[1;33m(\u001b[0m\u001b[1;34m\"ensure_2d\"\u001b[0m\u001b[1;33m,\u001b[0m \u001b[1;32mTrue\u001b[0m\u001b[1;33m)\u001b[0m\u001b[1;33m:\u001b[0m\u001b[1;33m\u001b[0m\u001b[1;33m\u001b[0m\u001b[0m\n",
      "\u001b[1;32m~\\AppData\\Local\\Programs\\Python\\Python313\\Lib\\site-packages\\sklearn\\utils\\validation.py\u001b[0m in \u001b[0;36m?\u001b[1;34m(X, y, accept_sparse, accept_large_sparse, dtype, order, copy, force_writeable, force_all_finite, ensure_all_finite, ensure_2d, allow_nd, multi_output, ensure_min_samples, ensure_min_features, y_numeric, estimator)\u001b[0m\n\u001b[0;32m   1366\u001b[0m         \u001b[1;33m)\u001b[0m\u001b[1;33m\u001b[0m\u001b[1;33m\u001b[0m\u001b[0m\n\u001b[0;32m   1367\u001b[0m \u001b[1;33m\u001b[0m\u001b[0m\n\u001b[0;32m   1368\u001b[0m     \u001b[0mensure_all_finite\u001b[0m \u001b[1;33m=\u001b[0m \u001b[0m_deprecate_force_all_finite\u001b[0m\u001b[1;33m(\u001b[0m\u001b[0mforce_all_finite\u001b[0m\u001b[1;33m,\u001b[0m \u001b[0mensure_all_finite\u001b[0m\u001b[1;33m)\u001b[0m\u001b[1;33m\u001b[0m\u001b[1;33m\u001b[0m\u001b[0m\n\u001b[0;32m   1369\u001b[0m \u001b[1;33m\u001b[0m\u001b[0m\n\u001b[1;32m-> 1370\u001b[1;33m     X = check_array(\n\u001b[0m\u001b[0;32m   1371\u001b[0m         \u001b[0mX\u001b[0m\u001b[1;33m,\u001b[0m\u001b[1;33m\u001b[0m\u001b[1;33m\u001b[0m\u001b[0m\n\u001b[0;32m   1372\u001b[0m         \u001b[0maccept_sparse\u001b[0m\u001b[1;33m=\u001b[0m\u001b[0maccept_sparse\u001b[0m\u001b[1;33m,\u001b[0m\u001b[1;33m\u001b[0m\u001b[1;33m\u001b[0m\u001b[0m\n\u001b[0;32m   1373\u001b[0m         \u001b[0maccept_large_sparse\u001b[0m\u001b[1;33m=\u001b[0m\u001b[0maccept_large_sparse\u001b[0m\u001b[1;33m,\u001b[0m\u001b[1;33m\u001b[0m\u001b[1;33m\u001b[0m\u001b[0m\n",
      "\u001b[1;32m~\\AppData\\Local\\Programs\\Python\\Python313\\Lib\\site-packages\\sklearn\\utils\\validation.py\u001b[0m in \u001b[0;36m?\u001b[1;34m(array, accept_sparse, accept_large_sparse, dtype, order, copy, force_writeable, force_all_finite, ensure_all_finite, ensure_non_negative, ensure_2d, allow_nd, ensure_min_samples, ensure_min_features, estimator, input_name)\u001b[0m\n\u001b[0;32m   1052\u001b[0m                         \u001b[1;33m)\u001b[0m\u001b[1;33m\u001b[0m\u001b[1;33m\u001b[0m\u001b[0m\n\u001b[0;32m   1053\u001b[0m                     \u001b[0marray\u001b[0m \u001b[1;33m=\u001b[0m \u001b[0mxp\u001b[0m\u001b[1;33m.\u001b[0m\u001b[0mastype\u001b[0m\u001b[1;33m(\u001b[0m\u001b[0marray\u001b[0m\u001b[1;33m,\u001b[0m \u001b[0mdtype\u001b[0m\u001b[1;33m,\u001b[0m \u001b[0mcopy\u001b[0m\u001b[1;33m=\u001b[0m\u001b[1;32mFalse\u001b[0m\u001b[1;33m)\u001b[0m\u001b[1;33m\u001b[0m\u001b[1;33m\u001b[0m\u001b[0m\n\u001b[0;32m   1054\u001b[0m                 \u001b[1;32melse\u001b[0m\u001b[1;33m:\u001b[0m\u001b[1;33m\u001b[0m\u001b[1;33m\u001b[0m\u001b[0m\n\u001b[0;32m   1055\u001b[0m                     \u001b[0marray\u001b[0m \u001b[1;33m=\u001b[0m \u001b[0m_asarray_with_order\u001b[0m\u001b[1;33m(\u001b[0m\u001b[0marray\u001b[0m\u001b[1;33m,\u001b[0m \u001b[0morder\u001b[0m\u001b[1;33m=\u001b[0m\u001b[0morder\u001b[0m\u001b[1;33m,\u001b[0m \u001b[0mdtype\u001b[0m\u001b[1;33m=\u001b[0m\u001b[0mdtype\u001b[0m\u001b[1;33m,\u001b[0m \u001b[0mxp\u001b[0m\u001b[1;33m=\u001b[0m\u001b[0mxp\u001b[0m\u001b[1;33m)\u001b[0m\u001b[1;33m\u001b[0m\u001b[1;33m\u001b[0m\u001b[0m\n\u001b[1;32m-> 1056\u001b[1;33m             \u001b[1;32mexcept\u001b[0m \u001b[0mComplexWarning\u001b[0m \u001b[1;32mas\u001b[0m \u001b[0mcomplex_warning\u001b[0m\u001b[1;33m:\u001b[0m\u001b[1;33m\u001b[0m\u001b[1;33m\u001b[0m\u001b[0m\n\u001b[0m\u001b[0;32m   1057\u001b[0m                 raise ValueError(\n\u001b[0;32m   1058\u001b[0m                     \u001b[1;34m\"Complex data not supported\\n{}\\n\"\u001b[0m\u001b[1;33m.\u001b[0m\u001b[0mformat\u001b[0m\u001b[1;33m(\u001b[0m\u001b[0marray\u001b[0m\u001b[1;33m)\u001b[0m\u001b[1;33m\u001b[0m\u001b[1;33m\u001b[0m\u001b[0m\n\u001b[0;32m   1059\u001b[0m                 \u001b[1;33m)\u001b[0m \u001b[1;32mfrom\u001b[0m \u001b[0mcomplex_warning\u001b[0m\u001b[1;33m\u001b[0m\u001b[1;33m\u001b[0m\u001b[0m\n",
      "\u001b[1;32m~\\AppData\\Local\\Programs\\Python\\Python313\\Lib\\site-packages\\sklearn\\utils\\_array_api.py\u001b[0m in \u001b[0;36m?\u001b[1;34m(array, dtype, order, copy, xp, device)\u001b[0m\n\u001b[0;32m    835\u001b[0m         \u001b[1;31m# Use NumPy API to support order\u001b[0m\u001b[1;33m\u001b[0m\u001b[1;33m\u001b[0m\u001b[0m\n\u001b[0;32m    836\u001b[0m         \u001b[1;32mif\u001b[0m \u001b[0mcopy\u001b[0m \u001b[1;32mis\u001b[0m \u001b[1;32mTrue\u001b[0m\u001b[1;33m:\u001b[0m\u001b[1;33m\u001b[0m\u001b[1;33m\u001b[0m\u001b[0m\n\u001b[0;32m    837\u001b[0m             \u001b[0marray\u001b[0m \u001b[1;33m=\u001b[0m \u001b[0mnumpy\u001b[0m\u001b[1;33m.\u001b[0m\u001b[0marray\u001b[0m\u001b[1;33m(\u001b[0m\u001b[0marray\u001b[0m\u001b[1;33m,\u001b[0m \u001b[0morder\u001b[0m\u001b[1;33m=\u001b[0m\u001b[0morder\u001b[0m\u001b[1;33m,\u001b[0m \u001b[0mdtype\u001b[0m\u001b[1;33m=\u001b[0m\u001b[0mdtype\u001b[0m\u001b[1;33m)\u001b[0m\u001b[1;33m\u001b[0m\u001b[1;33m\u001b[0m\u001b[0m\n\u001b[0;32m    838\u001b[0m         \u001b[1;32melse\u001b[0m\u001b[1;33m:\u001b[0m\u001b[1;33m\u001b[0m\u001b[1;33m\u001b[0m\u001b[0m\n\u001b[1;32m--> 839\u001b[1;33m             \u001b[0marray\u001b[0m \u001b[1;33m=\u001b[0m \u001b[0mnumpy\u001b[0m\u001b[1;33m.\u001b[0m\u001b[0masarray\u001b[0m\u001b[1;33m(\u001b[0m\u001b[0marray\u001b[0m\u001b[1;33m,\u001b[0m \u001b[0morder\u001b[0m\u001b[1;33m=\u001b[0m\u001b[0morder\u001b[0m\u001b[1;33m,\u001b[0m \u001b[0mdtype\u001b[0m\u001b[1;33m=\u001b[0m\u001b[0mdtype\u001b[0m\u001b[1;33m)\u001b[0m\u001b[1;33m\u001b[0m\u001b[1;33m\u001b[0m\u001b[0m\n\u001b[0m\u001b[0;32m    840\u001b[0m \u001b[1;33m\u001b[0m\u001b[0m\n\u001b[0;32m    841\u001b[0m         \u001b[1;31m# At this point array is a NumPy ndarray. We convert it to an array\u001b[0m\u001b[1;33m\u001b[0m\u001b[1;33m\u001b[0m\u001b[0m\n\u001b[0;32m    842\u001b[0m         \u001b[1;31m# container that is consistent with the input's namespace.\u001b[0m\u001b[1;33m\u001b[0m\u001b[1;33m\u001b[0m\u001b[0m\n",
      "\u001b[1;32m~\\AppData\\Local\\Programs\\Python\\Python313\\Lib\\site-packages\\pandas\\core\\generic.py\u001b[0m in \u001b[0;36m?\u001b[1;34m(self, dtype, copy)\u001b[0m\n\u001b[0;32m   2149\u001b[0m     def __array__(\n\u001b[0;32m   2150\u001b[0m         \u001b[0mself\u001b[0m\u001b[1;33m,\u001b[0m \u001b[0mdtype\u001b[0m\u001b[1;33m:\u001b[0m \u001b[0mnpt\u001b[0m\u001b[1;33m.\u001b[0m\u001b[0mDTypeLike\u001b[0m \u001b[1;33m|\u001b[0m \u001b[1;32mNone\u001b[0m \u001b[1;33m=\u001b[0m \u001b[1;32mNone\u001b[0m\u001b[1;33m,\u001b[0m \u001b[0mcopy\u001b[0m\u001b[1;33m:\u001b[0m \u001b[0mbool_t\u001b[0m \u001b[1;33m|\u001b[0m \u001b[1;32mNone\u001b[0m \u001b[1;33m=\u001b[0m \u001b[1;32mNone\u001b[0m\u001b[1;33m\u001b[0m\u001b[1;33m\u001b[0m\u001b[0m\n\u001b[0;32m   2151\u001b[0m     \u001b[1;33m)\u001b[0m \u001b[1;33m->\u001b[0m \u001b[0mnp\u001b[0m\u001b[1;33m.\u001b[0m\u001b[0mndarray\u001b[0m\u001b[1;33m:\u001b[0m\u001b[1;33m\u001b[0m\u001b[1;33m\u001b[0m\u001b[0m\n\u001b[0;32m   2152\u001b[0m         \u001b[0mvalues\u001b[0m \u001b[1;33m=\u001b[0m \u001b[0mself\u001b[0m\u001b[1;33m.\u001b[0m\u001b[0m_values\u001b[0m\u001b[1;33m\u001b[0m\u001b[1;33m\u001b[0m\u001b[0m\n\u001b[1;32m-> 2153\u001b[1;33m         \u001b[0marr\u001b[0m \u001b[1;33m=\u001b[0m \u001b[0mnp\u001b[0m\u001b[1;33m.\u001b[0m\u001b[0masarray\u001b[0m\u001b[1;33m(\u001b[0m\u001b[0mvalues\u001b[0m\u001b[1;33m,\u001b[0m \u001b[0mdtype\u001b[0m\u001b[1;33m=\u001b[0m\u001b[0mdtype\u001b[0m\u001b[1;33m)\u001b[0m\u001b[1;33m\u001b[0m\u001b[1;33m\u001b[0m\u001b[0m\n\u001b[0m\u001b[0;32m   2154\u001b[0m         if (\n\u001b[0;32m   2155\u001b[0m             \u001b[0mastype_is_view\u001b[0m\u001b[1;33m(\u001b[0m\u001b[0mvalues\u001b[0m\u001b[1;33m.\u001b[0m\u001b[0mdtype\u001b[0m\u001b[1;33m,\u001b[0m \u001b[0marr\u001b[0m\u001b[1;33m.\u001b[0m\u001b[0mdtype\u001b[0m\u001b[1;33m)\u001b[0m\u001b[1;33m\u001b[0m\u001b[1;33m\u001b[0m\u001b[0m\n\u001b[0;32m   2156\u001b[0m             \u001b[1;32mand\u001b[0m \u001b[0musing_copy_on_write\u001b[0m\u001b[1;33m(\u001b[0m\u001b[1;33m)\u001b[0m\u001b[1;33m\u001b[0m\u001b[1;33m\u001b[0m\u001b[0m\n",
      "\u001b[1;31mValueError\u001b[0m: could not convert string to float: 'TCGA.05.4384'"
     ]
    }
   ],
   "source": [
    "import joblib\n",
    "import pandas as pd\n",
    "from sklearn.feature_selection import SelectKBest, f_classif\n",
    "\n",
    "# Load the dataset\n",
    "data_path = r'C:\\Users\\sanja\\cfDNA-Lung-Cancer-ML\\data\\processed\\merged_labeled_dataset.csv'\n",
    "df = pd.read_csv(data_path)\n",
    "\n",
    "# Separate features and label\n",
    "X = df.drop(columns=['Label'])  # Make sure 'Label' is your target column\n",
    "y = df['Label']\n",
    "\n",
    "# Feature selection using SelectKBest\n",
    "selector = SelectKBest(score_func=f_classif, k=20)  # change k as needed\n",
    "selector.fit(X, y)\n",
    "\n",
    "selected_features = X.columns[selector.get_support()].tolist()\n",
    "\n",
    "# Save selected features\n",
    "joblib.dump(selected_features, 'models/selected_features.pkl')\n",
    "\n",
    "print(\" selected_features.pkl saved in models/\")\n",
    "print(\"Selected features:\", selected_features)\n"
   ]
  },
  {
   "cell_type": "code",
   "execution_count": 3,
   "id": "9f2bd756-e2ac-4951-b7e6-1aa4877b9c06",
   "metadata": {},
   "outputs": [
    {
     "ename": "ValueError",
     "evalue": "Input X contains NaN.\nSelectKBest does not accept missing values encoded as NaN natively. For supervised learning, you might want to consider sklearn.ensemble.HistGradientBoostingClassifier and Regressor which accept missing values encoded as NaNs natively. Alternatively, it is possible to preprocess the data, for instance by using an imputer transformer in a pipeline or drop samples with missing values. See https://scikit-learn.org/stable/modules/impute.html You can find a list of all estimators that handle NaN values at the following page: https://scikit-learn.org/stable/modules/impute.html#estimators-that-handle-nan-values",
     "output_type": "error",
     "traceback": [
      "\u001b[1;31m---------------------------------------------------------------------------\u001b[0m",
      "\u001b[1;31mValueError\u001b[0m                                Traceback (most recent call last)",
      "Cell \u001b[1;32mIn[3], line 20\u001b[0m\n\u001b[0;32m     18\u001b[0m \u001b[38;5;66;03m# Feature selection using SelectKBest\u001b[39;00m\n\u001b[0;32m     19\u001b[0m selector \u001b[38;5;241m=\u001b[39m SelectKBest(score_func\u001b[38;5;241m=\u001b[39mf_classif, k\u001b[38;5;241m=\u001b[39m\u001b[38;5;241m20\u001b[39m)  \u001b[38;5;66;03m# Change k as needed\u001b[39;00m\n\u001b[1;32m---> 20\u001b[0m \u001b[43mselector\u001b[49m\u001b[38;5;241;43m.\u001b[39;49m\u001b[43mfit\u001b[49m\u001b[43m(\u001b[49m\u001b[43mX\u001b[49m\u001b[43m,\u001b[49m\u001b[43m \u001b[49m\u001b[43my\u001b[49m\u001b[43m)\u001b[49m\n\u001b[0;32m     22\u001b[0m selected_features \u001b[38;5;241m=\u001b[39m X\u001b[38;5;241m.\u001b[39mcolumns[selector\u001b[38;5;241m.\u001b[39mget_support()]\u001b[38;5;241m.\u001b[39mtolist()\n\u001b[0;32m     24\u001b[0m \u001b[38;5;66;03m# Save selected features\u001b[39;00m\n",
      "File \u001b[1;32m~\\AppData\\Local\\Programs\\Python\\Python313\\Lib\\site-packages\\sklearn\\base.py:1389\u001b[0m, in \u001b[0;36m_fit_context.<locals>.decorator.<locals>.wrapper\u001b[1;34m(estimator, *args, **kwargs)\u001b[0m\n\u001b[0;32m   1382\u001b[0m     estimator\u001b[38;5;241m.\u001b[39m_validate_params()\n\u001b[0;32m   1384\u001b[0m \u001b[38;5;28;01mwith\u001b[39;00m config_context(\n\u001b[0;32m   1385\u001b[0m     skip_parameter_validation\u001b[38;5;241m=\u001b[39m(\n\u001b[0;32m   1386\u001b[0m         prefer_skip_nested_validation \u001b[38;5;129;01mor\u001b[39;00m global_skip_validation\n\u001b[0;32m   1387\u001b[0m     )\n\u001b[0;32m   1388\u001b[0m ):\n\u001b[1;32m-> 1389\u001b[0m     \u001b[38;5;28;01mreturn\u001b[39;00m \u001b[43mfit_method\u001b[49m\u001b[43m(\u001b[49m\u001b[43mestimator\u001b[49m\u001b[43m,\u001b[49m\u001b[43m \u001b[49m\u001b[38;5;241;43m*\u001b[39;49m\u001b[43margs\u001b[49m\u001b[43m,\u001b[49m\u001b[43m \u001b[49m\u001b[38;5;241;43m*\u001b[39;49m\u001b[38;5;241;43m*\u001b[39;49m\u001b[43mkwargs\u001b[49m\u001b[43m)\u001b[49m\n",
      "File \u001b[1;32m~\\AppData\\Local\\Programs\\Python\\Python313\\Lib\\site-packages\\sklearn\\feature_selection\\_univariate_selection.py:564\u001b[0m, in \u001b[0;36m_BaseFilter.fit\u001b[1;34m(self, X, y)\u001b[0m\n\u001b[0;32m    562\u001b[0m     X \u001b[38;5;241m=\u001b[39m validate_data(\u001b[38;5;28mself\u001b[39m, X, accept_sparse\u001b[38;5;241m=\u001b[39m[\u001b[38;5;124m\"\u001b[39m\u001b[38;5;124mcsr\u001b[39m\u001b[38;5;124m\"\u001b[39m, \u001b[38;5;124m\"\u001b[39m\u001b[38;5;124mcsc\u001b[39m\u001b[38;5;124m\"\u001b[39m])\n\u001b[0;32m    563\u001b[0m \u001b[38;5;28;01melse\u001b[39;00m:\n\u001b[1;32m--> 564\u001b[0m     X, y \u001b[38;5;241m=\u001b[39m \u001b[43mvalidate_data\u001b[49m\u001b[43m(\u001b[49m\n\u001b[0;32m    565\u001b[0m \u001b[43m        \u001b[49m\u001b[38;5;28;43mself\u001b[39;49m\u001b[43m,\u001b[49m\u001b[43m \u001b[49m\u001b[43mX\u001b[49m\u001b[43m,\u001b[49m\u001b[43m \u001b[49m\u001b[43my\u001b[49m\u001b[43m,\u001b[49m\u001b[43m \u001b[49m\u001b[43maccept_sparse\u001b[49m\u001b[38;5;241;43m=\u001b[39;49m\u001b[43m[\u001b[49m\u001b[38;5;124;43m\"\u001b[39;49m\u001b[38;5;124;43mcsr\u001b[39;49m\u001b[38;5;124;43m\"\u001b[39;49m\u001b[43m,\u001b[49m\u001b[43m \u001b[49m\u001b[38;5;124;43m\"\u001b[39;49m\u001b[38;5;124;43mcsc\u001b[39;49m\u001b[38;5;124;43m\"\u001b[39;49m\u001b[43m]\u001b[49m\u001b[43m,\u001b[49m\u001b[43m \u001b[49m\u001b[43mmulti_output\u001b[49m\u001b[38;5;241;43m=\u001b[39;49m\u001b[38;5;28;43;01mTrue\u001b[39;49;00m\n\u001b[0;32m    566\u001b[0m \u001b[43m    \u001b[49m\u001b[43m)\u001b[49m\n\u001b[0;32m    568\u001b[0m \u001b[38;5;28mself\u001b[39m\u001b[38;5;241m.\u001b[39m_check_params(X, y)\n\u001b[0;32m    569\u001b[0m score_func_ret \u001b[38;5;241m=\u001b[39m \u001b[38;5;28mself\u001b[39m\u001b[38;5;241m.\u001b[39mscore_func(X, y)\n",
      "File \u001b[1;32m~\\AppData\\Local\\Programs\\Python\\Python313\\Lib\\site-packages\\sklearn\\utils\\validation.py:2961\u001b[0m, in \u001b[0;36mvalidate_data\u001b[1;34m(_estimator, X, y, reset, validate_separately, skip_check_array, **check_params)\u001b[0m\n\u001b[0;32m   2959\u001b[0m         y \u001b[38;5;241m=\u001b[39m check_array(y, input_name\u001b[38;5;241m=\u001b[39m\u001b[38;5;124m\"\u001b[39m\u001b[38;5;124my\u001b[39m\u001b[38;5;124m\"\u001b[39m, \u001b[38;5;241m*\u001b[39m\u001b[38;5;241m*\u001b[39mcheck_y_params)\n\u001b[0;32m   2960\u001b[0m     \u001b[38;5;28;01melse\u001b[39;00m:\n\u001b[1;32m-> 2961\u001b[0m         X, y \u001b[38;5;241m=\u001b[39m \u001b[43mcheck_X_y\u001b[49m\u001b[43m(\u001b[49m\u001b[43mX\u001b[49m\u001b[43m,\u001b[49m\u001b[43m \u001b[49m\u001b[43my\u001b[49m\u001b[43m,\u001b[49m\u001b[43m \u001b[49m\u001b[38;5;241;43m*\u001b[39;49m\u001b[38;5;241;43m*\u001b[39;49m\u001b[43mcheck_params\u001b[49m\u001b[43m)\u001b[49m\n\u001b[0;32m   2962\u001b[0m     out \u001b[38;5;241m=\u001b[39m X, y\n\u001b[0;32m   2964\u001b[0m \u001b[38;5;28;01mif\u001b[39;00m \u001b[38;5;129;01mnot\u001b[39;00m no_val_X \u001b[38;5;129;01mand\u001b[39;00m check_params\u001b[38;5;241m.\u001b[39mget(\u001b[38;5;124m\"\u001b[39m\u001b[38;5;124mensure_2d\u001b[39m\u001b[38;5;124m\"\u001b[39m, \u001b[38;5;28;01mTrue\u001b[39;00m):\n",
      "File \u001b[1;32m~\\AppData\\Local\\Programs\\Python\\Python313\\Lib\\site-packages\\sklearn\\utils\\validation.py:1370\u001b[0m, in \u001b[0;36mcheck_X_y\u001b[1;34m(X, y, accept_sparse, accept_large_sparse, dtype, order, copy, force_writeable, force_all_finite, ensure_all_finite, ensure_2d, allow_nd, multi_output, ensure_min_samples, ensure_min_features, y_numeric, estimator)\u001b[0m\n\u001b[0;32m   1364\u001b[0m     \u001b[38;5;28;01mraise\u001b[39;00m \u001b[38;5;167;01mValueError\u001b[39;00m(\n\u001b[0;32m   1365\u001b[0m         \u001b[38;5;124mf\u001b[39m\u001b[38;5;124m\"\u001b[39m\u001b[38;5;132;01m{\u001b[39;00mestimator_name\u001b[38;5;132;01m}\u001b[39;00m\u001b[38;5;124m requires y to be passed, but the target y is None\u001b[39m\u001b[38;5;124m\"\u001b[39m\n\u001b[0;32m   1366\u001b[0m     )\n\u001b[0;32m   1368\u001b[0m ensure_all_finite \u001b[38;5;241m=\u001b[39m _deprecate_force_all_finite(force_all_finite, ensure_all_finite)\n\u001b[1;32m-> 1370\u001b[0m X \u001b[38;5;241m=\u001b[39m \u001b[43mcheck_array\u001b[49m\u001b[43m(\u001b[49m\n\u001b[0;32m   1371\u001b[0m \u001b[43m    \u001b[49m\u001b[43mX\u001b[49m\u001b[43m,\u001b[49m\n\u001b[0;32m   1372\u001b[0m \u001b[43m    \u001b[49m\u001b[43maccept_sparse\u001b[49m\u001b[38;5;241;43m=\u001b[39;49m\u001b[43maccept_sparse\u001b[49m\u001b[43m,\u001b[49m\n\u001b[0;32m   1373\u001b[0m \u001b[43m    \u001b[49m\u001b[43maccept_large_sparse\u001b[49m\u001b[38;5;241;43m=\u001b[39;49m\u001b[43maccept_large_sparse\u001b[49m\u001b[43m,\u001b[49m\n\u001b[0;32m   1374\u001b[0m \u001b[43m    \u001b[49m\u001b[43mdtype\u001b[49m\u001b[38;5;241;43m=\u001b[39;49m\u001b[43mdtype\u001b[49m\u001b[43m,\u001b[49m\n\u001b[0;32m   1375\u001b[0m \u001b[43m    \u001b[49m\u001b[43morder\u001b[49m\u001b[38;5;241;43m=\u001b[39;49m\u001b[43morder\u001b[49m\u001b[43m,\u001b[49m\n\u001b[0;32m   1376\u001b[0m \u001b[43m    \u001b[49m\u001b[43mcopy\u001b[49m\u001b[38;5;241;43m=\u001b[39;49m\u001b[43mcopy\u001b[49m\u001b[43m,\u001b[49m\n\u001b[0;32m   1377\u001b[0m \u001b[43m    \u001b[49m\u001b[43mforce_writeable\u001b[49m\u001b[38;5;241;43m=\u001b[39;49m\u001b[43mforce_writeable\u001b[49m\u001b[43m,\u001b[49m\n\u001b[0;32m   1378\u001b[0m \u001b[43m    \u001b[49m\u001b[43mensure_all_finite\u001b[49m\u001b[38;5;241;43m=\u001b[39;49m\u001b[43mensure_all_finite\u001b[49m\u001b[43m,\u001b[49m\n\u001b[0;32m   1379\u001b[0m \u001b[43m    \u001b[49m\u001b[43mensure_2d\u001b[49m\u001b[38;5;241;43m=\u001b[39;49m\u001b[43mensure_2d\u001b[49m\u001b[43m,\u001b[49m\n\u001b[0;32m   1380\u001b[0m \u001b[43m    \u001b[49m\u001b[43mallow_nd\u001b[49m\u001b[38;5;241;43m=\u001b[39;49m\u001b[43mallow_nd\u001b[49m\u001b[43m,\u001b[49m\n\u001b[0;32m   1381\u001b[0m \u001b[43m    \u001b[49m\u001b[43mensure_min_samples\u001b[49m\u001b[38;5;241;43m=\u001b[39;49m\u001b[43mensure_min_samples\u001b[49m\u001b[43m,\u001b[49m\n\u001b[0;32m   1382\u001b[0m \u001b[43m    \u001b[49m\u001b[43mensure_min_features\u001b[49m\u001b[38;5;241;43m=\u001b[39;49m\u001b[43mensure_min_features\u001b[49m\u001b[43m,\u001b[49m\n\u001b[0;32m   1383\u001b[0m \u001b[43m    \u001b[49m\u001b[43mestimator\u001b[49m\u001b[38;5;241;43m=\u001b[39;49m\u001b[43mestimator\u001b[49m\u001b[43m,\u001b[49m\n\u001b[0;32m   1384\u001b[0m \u001b[43m    \u001b[49m\u001b[43minput_name\u001b[49m\u001b[38;5;241;43m=\u001b[39;49m\u001b[38;5;124;43m\"\u001b[39;49m\u001b[38;5;124;43mX\u001b[39;49m\u001b[38;5;124;43m\"\u001b[39;49m\u001b[43m,\u001b[49m\n\u001b[0;32m   1385\u001b[0m \u001b[43m\u001b[49m\u001b[43m)\u001b[49m\n\u001b[0;32m   1387\u001b[0m y \u001b[38;5;241m=\u001b[39m _check_y(y, multi_output\u001b[38;5;241m=\u001b[39mmulti_output, y_numeric\u001b[38;5;241m=\u001b[39my_numeric, estimator\u001b[38;5;241m=\u001b[39mestimator)\n\u001b[0;32m   1389\u001b[0m check_consistent_length(X, y)\n",
      "File \u001b[1;32m~\\AppData\\Local\\Programs\\Python\\Python313\\Lib\\site-packages\\sklearn\\utils\\validation.py:1107\u001b[0m, in \u001b[0;36mcheck_array\u001b[1;34m(array, accept_sparse, accept_large_sparse, dtype, order, copy, force_writeable, force_all_finite, ensure_all_finite, ensure_non_negative, ensure_2d, allow_nd, ensure_min_samples, ensure_min_features, estimator, input_name)\u001b[0m\n\u001b[0;32m   1101\u001b[0m     \u001b[38;5;28;01mraise\u001b[39;00m \u001b[38;5;167;01mValueError\u001b[39;00m(\n\u001b[0;32m   1102\u001b[0m         \u001b[38;5;124m\"\u001b[39m\u001b[38;5;124mFound array with dim \u001b[39m\u001b[38;5;132;01m%d\u001b[39;00m\u001b[38;5;124m. \u001b[39m\u001b[38;5;132;01m%s\u001b[39;00m\u001b[38;5;124m expected <= 2.\u001b[39m\u001b[38;5;124m\"\u001b[39m\n\u001b[0;32m   1103\u001b[0m         \u001b[38;5;241m%\u001b[39m (array\u001b[38;5;241m.\u001b[39mndim, estimator_name)\n\u001b[0;32m   1104\u001b[0m     )\n\u001b[0;32m   1106\u001b[0m \u001b[38;5;28;01mif\u001b[39;00m ensure_all_finite:\n\u001b[1;32m-> 1107\u001b[0m     \u001b[43m_assert_all_finite\u001b[49m\u001b[43m(\u001b[49m\n\u001b[0;32m   1108\u001b[0m \u001b[43m        \u001b[49m\u001b[43marray\u001b[49m\u001b[43m,\u001b[49m\n\u001b[0;32m   1109\u001b[0m \u001b[43m        \u001b[49m\u001b[43minput_name\u001b[49m\u001b[38;5;241;43m=\u001b[39;49m\u001b[43minput_name\u001b[49m\u001b[43m,\u001b[49m\n\u001b[0;32m   1110\u001b[0m \u001b[43m        \u001b[49m\u001b[43mestimator_name\u001b[49m\u001b[38;5;241;43m=\u001b[39;49m\u001b[43mestimator_name\u001b[49m\u001b[43m,\u001b[49m\n\u001b[0;32m   1111\u001b[0m \u001b[43m        \u001b[49m\u001b[43mallow_nan\u001b[49m\u001b[38;5;241;43m=\u001b[39;49m\u001b[43mensure_all_finite\u001b[49m\u001b[43m \u001b[49m\u001b[38;5;241;43m==\u001b[39;49m\u001b[43m \u001b[49m\u001b[38;5;124;43m\"\u001b[39;49m\u001b[38;5;124;43mallow-nan\u001b[39;49m\u001b[38;5;124;43m\"\u001b[39;49m\u001b[43m,\u001b[49m\n\u001b[0;32m   1112\u001b[0m \u001b[43m    \u001b[49m\u001b[43m)\u001b[49m\n\u001b[0;32m   1114\u001b[0m \u001b[38;5;28;01mif\u001b[39;00m copy:\n\u001b[0;32m   1115\u001b[0m     \u001b[38;5;28;01mif\u001b[39;00m _is_numpy_namespace(xp):\n\u001b[0;32m   1116\u001b[0m         \u001b[38;5;66;03m# only make a copy if `array` and `array_orig` may share memory`\u001b[39;00m\n",
      "File \u001b[1;32m~\\AppData\\Local\\Programs\\Python\\Python313\\Lib\\site-packages\\sklearn\\utils\\validation.py:120\u001b[0m, in \u001b[0;36m_assert_all_finite\u001b[1;34m(X, allow_nan, msg_dtype, estimator_name, input_name)\u001b[0m\n\u001b[0;32m    117\u001b[0m \u001b[38;5;28;01mif\u001b[39;00m first_pass_isfinite:\n\u001b[0;32m    118\u001b[0m     \u001b[38;5;28;01mreturn\u001b[39;00m\n\u001b[1;32m--> 120\u001b[0m \u001b[43m_assert_all_finite_element_wise\u001b[49m\u001b[43m(\u001b[49m\n\u001b[0;32m    121\u001b[0m \u001b[43m    \u001b[49m\u001b[43mX\u001b[49m\u001b[43m,\u001b[49m\n\u001b[0;32m    122\u001b[0m \u001b[43m    \u001b[49m\u001b[43mxp\u001b[49m\u001b[38;5;241;43m=\u001b[39;49m\u001b[43mxp\u001b[49m\u001b[43m,\u001b[49m\n\u001b[0;32m    123\u001b[0m \u001b[43m    \u001b[49m\u001b[43mallow_nan\u001b[49m\u001b[38;5;241;43m=\u001b[39;49m\u001b[43mallow_nan\u001b[49m\u001b[43m,\u001b[49m\n\u001b[0;32m    124\u001b[0m \u001b[43m    \u001b[49m\u001b[43mmsg_dtype\u001b[49m\u001b[38;5;241;43m=\u001b[39;49m\u001b[43mmsg_dtype\u001b[49m\u001b[43m,\u001b[49m\n\u001b[0;32m    125\u001b[0m \u001b[43m    \u001b[49m\u001b[43mestimator_name\u001b[49m\u001b[38;5;241;43m=\u001b[39;49m\u001b[43mestimator_name\u001b[49m\u001b[43m,\u001b[49m\n\u001b[0;32m    126\u001b[0m \u001b[43m    \u001b[49m\u001b[43minput_name\u001b[49m\u001b[38;5;241;43m=\u001b[39;49m\u001b[43minput_name\u001b[49m\u001b[43m,\u001b[49m\n\u001b[0;32m    127\u001b[0m \u001b[43m\u001b[49m\u001b[43m)\u001b[49m\n",
      "File \u001b[1;32m~\\AppData\\Local\\Programs\\Python\\Python313\\Lib\\site-packages\\sklearn\\utils\\validation.py:169\u001b[0m, in \u001b[0;36m_assert_all_finite_element_wise\u001b[1;34m(X, xp, allow_nan, msg_dtype, estimator_name, input_name)\u001b[0m\n\u001b[0;32m    152\u001b[0m \u001b[38;5;28;01mif\u001b[39;00m estimator_name \u001b[38;5;129;01mand\u001b[39;00m input_name \u001b[38;5;241m==\u001b[39m \u001b[38;5;124m\"\u001b[39m\u001b[38;5;124mX\u001b[39m\u001b[38;5;124m\"\u001b[39m \u001b[38;5;129;01mand\u001b[39;00m has_nan_error:\n\u001b[0;32m    153\u001b[0m     \u001b[38;5;66;03m# Improve the error message on how to handle missing values in\u001b[39;00m\n\u001b[0;32m    154\u001b[0m     \u001b[38;5;66;03m# scikit-learn.\u001b[39;00m\n\u001b[0;32m    155\u001b[0m     msg_err \u001b[38;5;241m+\u001b[39m\u001b[38;5;241m=\u001b[39m (\n\u001b[0;32m    156\u001b[0m         \u001b[38;5;124mf\u001b[39m\u001b[38;5;124m\"\u001b[39m\u001b[38;5;130;01m\\n\u001b[39;00m\u001b[38;5;132;01m{\u001b[39;00mestimator_name\u001b[38;5;132;01m}\u001b[39;00m\u001b[38;5;124m does not accept missing values\u001b[39m\u001b[38;5;124m\"\u001b[39m\n\u001b[0;32m    157\u001b[0m         \u001b[38;5;124m\"\u001b[39m\u001b[38;5;124m encoded as NaN natively. For supervised learning, you might want\u001b[39m\u001b[38;5;124m\"\u001b[39m\n\u001b[1;32m   (...)\u001b[0m\n\u001b[0;32m    167\u001b[0m         \u001b[38;5;124m\"\u001b[39m\u001b[38;5;124m#estimators-that-handle-nan-values\u001b[39m\u001b[38;5;124m\"\u001b[39m\n\u001b[0;32m    168\u001b[0m     )\n\u001b[1;32m--> 169\u001b[0m \u001b[38;5;28;01mraise\u001b[39;00m \u001b[38;5;167;01mValueError\u001b[39;00m(msg_err)\n",
      "\u001b[1;31mValueError\u001b[0m: Input X contains NaN.\nSelectKBest does not accept missing values encoded as NaN natively. For supervised learning, you might want to consider sklearn.ensemble.HistGradientBoostingClassifier and Regressor which accept missing values encoded as NaNs natively. Alternatively, it is possible to preprocess the data, for instance by using an imputer transformer in a pipeline or drop samples with missing values. See https://scikit-learn.org/stable/modules/impute.html You can find a list of all estimators that handle NaN values at the following page: https://scikit-learn.org/stable/modules/impute.html#estimators-that-handle-nan-values"
     ]
    }
   ],
   "source": [
    "import joblib\n",
    "import pandas as pd\n",
    "from sklearn.feature_selection import SelectKBest, f_classif\n",
    "\n",
    "# Load the dataset\n",
    "data_path = r'C:\\Users\\sanja\\cfDNA-Lung-Cancer-ML\\data\\processed\\merged_labeled_dataset.csv'\n",
    "df = pd.read_csv(data_path)\n",
    "\n",
    "# Separate features and label\n",
    "X = df.drop(columns=['Label'])\n",
    "\n",
    "# Drop non-numeric columns (e.g., sample IDs, strings)\n",
    "X = X.select_dtypes(include=['number'])\n",
    "\n",
    "# Extract label\n",
    "y = df['Label']\n",
    "\n",
    "# Feature selection using SelectKBest\n",
    "selector = SelectKBest(score_func=f_classif, k=20)  # Change k as needed\n",
    "selector.fit(X, y)\n",
    "\n",
    "selected_features = X.columns[selector.get_support()].tolist()\n",
    "\n",
    "# Save selected features\n",
    "joblib.dump(selected_features, 'models/selected_features.pkl')\n",
    "\n",
    "print(\"✅ selected_features.pkl saved in models/\")\n",
    "print(\"Selected features:\", selected_features)\n"
   ]
  },
  {
   "cell_type": "code",
   "execution_count": 4,
   "id": "348c07cd-bcf6-4187-a504-ef23c5d191b7",
   "metadata": {},
   "outputs": [
    {
     "ename": "FileNotFoundError",
     "evalue": "[Errno 2] No such file or directory: 'models/selected_features.pkl'",
     "output_type": "error",
     "traceback": [
      "\u001b[1;31m---------------------------------------------------------------------------\u001b[0m",
      "\u001b[1;31mFileNotFoundError\u001b[0m                         Traceback (most recent call last)",
      "Cell \u001b[1;32mIn[4], line 27\u001b[0m\n\u001b[0;32m     24\u001b[0m selected_features \u001b[38;5;241m=\u001b[39m X\u001b[38;5;241m.\u001b[39mcolumns[selector\u001b[38;5;241m.\u001b[39mget_support()]\u001b[38;5;241m.\u001b[39mtolist()\n\u001b[0;32m     26\u001b[0m \u001b[38;5;66;03m# Save selected features\u001b[39;00m\n\u001b[1;32m---> 27\u001b[0m \u001b[43mjoblib\u001b[49m\u001b[38;5;241;43m.\u001b[39;49m\u001b[43mdump\u001b[49m\u001b[43m(\u001b[49m\u001b[43mselected_features\u001b[49m\u001b[43m,\u001b[49m\u001b[43m \u001b[49m\u001b[38;5;124;43m'\u001b[39;49m\u001b[38;5;124;43mmodels/selected_features.pkl\u001b[39;49m\u001b[38;5;124;43m'\u001b[39;49m\u001b[43m)\u001b[49m\n\u001b[0;32m     29\u001b[0m \u001b[38;5;28mprint\u001b[39m(\u001b[38;5;124m\"\u001b[39m\u001b[38;5;124m✅ selected_features.pkl saved in models/\u001b[39m\u001b[38;5;124m\"\u001b[39m)\n\u001b[0;32m     30\u001b[0m \u001b[38;5;28mprint\u001b[39m(\u001b[38;5;124m\"\u001b[39m\u001b[38;5;124mSelected features:\u001b[39m\u001b[38;5;124m\"\u001b[39m, selected_features)\n",
      "File \u001b[1;32m~\\AppData\\Local\\Programs\\Python\\Python313\\Lib\\site-packages\\joblib\\numpy_pickle.py:552\u001b[0m, in \u001b[0;36mdump\u001b[1;34m(value, filename, compress, protocol, cache_size)\u001b[0m\n\u001b[0;32m    550\u001b[0m         NumpyPickler(f, protocol\u001b[38;5;241m=\u001b[39mprotocol)\u001b[38;5;241m.\u001b[39mdump(value)\n\u001b[0;32m    551\u001b[0m \u001b[38;5;28;01melif\u001b[39;00m is_filename:\n\u001b[1;32m--> 552\u001b[0m     \u001b[38;5;28;01mwith\u001b[39;00m \u001b[38;5;28;43mopen\u001b[39;49m\u001b[43m(\u001b[49m\u001b[43mfilename\u001b[49m\u001b[43m,\u001b[49m\u001b[43m \u001b[49m\u001b[38;5;124;43m'\u001b[39;49m\u001b[38;5;124;43mwb\u001b[39;49m\u001b[38;5;124;43m'\u001b[39;49m\u001b[43m)\u001b[49m \u001b[38;5;28;01mas\u001b[39;00m f:\n\u001b[0;32m    553\u001b[0m         NumpyPickler(f, protocol\u001b[38;5;241m=\u001b[39mprotocol)\u001b[38;5;241m.\u001b[39mdump(value)\n\u001b[0;32m    554\u001b[0m \u001b[38;5;28;01melse\u001b[39;00m:\n",
      "\u001b[1;31mFileNotFoundError\u001b[0m: [Errno 2] No such file or directory: 'models/selected_features.pkl'"
     ]
    }
   ],
   "source": [
    "import joblib\n",
    "import pandas as pd\n",
    "from sklearn.feature_selection import SelectKBest, f_classif\n",
    "from sklearn.impute import SimpleImputer\n",
    "\n",
    "# Load the dataset\n",
    "data_path = r'C:\\Users\\sanja\\cfDNA-Lung-Cancer-ML\\data\\processed\\merged_labeled_dataset.csv'\n",
    "df = pd.read_csv(data_path)\n",
    "\n",
    "# Separate label\n",
    "y = df['Label']\n",
    "\n",
    "# Drop label column and non-numeric columns\n",
    "X = df.drop(columns=['Label']).select_dtypes(include=['number'])\n",
    "\n",
    "# Impute missing values\n",
    "imputer = SimpleImputer(strategy='mean')  # or 'median'\n",
    "X_imputed = imputer.fit_transform(X)\n",
    "\n",
    "# Feature selection\n",
    "selector = SelectKBest(score_func=f_classif, k=20)\n",
    "selector.fit(X_imputed, y)\n",
    "\n",
    "selected_features = X.columns[selector.get_support()].tolist()\n",
    "\n",
    "# Save selected features\n",
    "joblib.dump(selected_features, 'models/selected_features.pkl')\n",
    "\n",
    "print(\"✅ selected_features.pkl saved in models/\")\n",
    "print(\"Selected features:\", selected_features)\n"
   ]
  },
  {
   "cell_type": "code",
   "execution_count": 6,
   "id": "f9c958e0-7580-44ce-bb09-6514aca22e77",
   "metadata": {},
   "outputs": [
    {
     "name": "stdout",
     "output_type": "stream",
     "text": [
      "Shape of dataset: (450, 1002)\n",
      "Columns: Index(['Unnamed: 0', 'hsa-let-7a-1', 'hsa-let-7a-2', 'hsa-let-7a-3',\n",
      "       'hsa-let-7b', 'hsa-let-7c', 'hsa-let-7d', 'hsa-let-7e', 'hsa-let-7f-1',\n",
      "       'hsa-let-7f-2',\n",
      "       ...\n",
      "       'NUP107_cg00036115', 'A2BP1_cg00036119', 'GALP_cg00036137',\n",
      "       'ADCY9_cg00036258', 'KIF26B_cg00036263', 'GRIN2A_cg00036299',\n",
      "       'ARL6IP4_cg00036328', 'ATXN7_cg00036369', 'MOGS_cg00036386', 'Label'],\n",
      "      dtype='object', length=1002)\n"
     ]
    },
    {
     "ename": "ValueError",
     "evalue": "Input X contains NaN.\nSelectKBest does not accept missing values encoded as NaN natively. For supervised learning, you might want to consider sklearn.ensemble.HistGradientBoostingClassifier and Regressor which accept missing values encoded as NaNs natively. Alternatively, it is possible to preprocess the data, for instance by using an imputer transformer in a pipeline or drop samples with missing values. See https://scikit-learn.org/stable/modules/impute.html You can find a list of all estimators that handle NaN values at the following page: https://scikit-learn.org/stable/modules/impute.html#estimators-that-handle-nan-values",
     "output_type": "error",
     "traceback": [
      "\u001b[1;31m---------------------------------------------------------------------------\u001b[0m",
      "\u001b[1;31mValueError\u001b[0m                                Traceback (most recent call last)",
      "Cell \u001b[1;32mIn[6], line 29\u001b[0m\n\u001b[0;32m     27\u001b[0m k \u001b[38;5;241m=\u001b[39m \u001b[38;5;28mmin\u001b[39m(\u001b[38;5;241m20\u001b[39m, X\u001b[38;5;241m.\u001b[39mshape[\u001b[38;5;241m1\u001b[39m])  \u001b[38;5;66;03m# Pick top 20 or less if fewer features exist\u001b[39;00m\n\u001b[0;32m     28\u001b[0m selector \u001b[38;5;241m=\u001b[39m SelectKBest(score_func\u001b[38;5;241m=\u001b[39mf_classif, k\u001b[38;5;241m=\u001b[39mk)\n\u001b[1;32m---> 29\u001b[0m \u001b[43mselector\u001b[49m\u001b[38;5;241;43m.\u001b[39;49m\u001b[43mfit\u001b[49m\u001b[43m(\u001b[49m\u001b[43mX\u001b[49m\u001b[43m,\u001b[49m\u001b[43m \u001b[49m\u001b[43my\u001b[49m\u001b[43m)\u001b[49m\n\u001b[0;32m     31\u001b[0m selected_features \u001b[38;5;241m=\u001b[39m X\u001b[38;5;241m.\u001b[39mcolumns[selector\u001b[38;5;241m.\u001b[39mget_support()]\u001b[38;5;241m.\u001b[39mtolist()\n\u001b[0;32m     33\u001b[0m \u001b[38;5;66;03m# Save selected features\u001b[39;00m\n",
      "File \u001b[1;32m~\\AppData\\Local\\Programs\\Python\\Python313\\Lib\\site-packages\\sklearn\\base.py:1389\u001b[0m, in \u001b[0;36m_fit_context.<locals>.decorator.<locals>.wrapper\u001b[1;34m(estimator, *args, **kwargs)\u001b[0m\n\u001b[0;32m   1382\u001b[0m     estimator\u001b[38;5;241m.\u001b[39m_validate_params()\n\u001b[0;32m   1384\u001b[0m \u001b[38;5;28;01mwith\u001b[39;00m config_context(\n\u001b[0;32m   1385\u001b[0m     skip_parameter_validation\u001b[38;5;241m=\u001b[39m(\n\u001b[0;32m   1386\u001b[0m         prefer_skip_nested_validation \u001b[38;5;129;01mor\u001b[39;00m global_skip_validation\n\u001b[0;32m   1387\u001b[0m     )\n\u001b[0;32m   1388\u001b[0m ):\n\u001b[1;32m-> 1389\u001b[0m     \u001b[38;5;28;01mreturn\u001b[39;00m \u001b[43mfit_method\u001b[49m\u001b[43m(\u001b[49m\u001b[43mestimator\u001b[49m\u001b[43m,\u001b[49m\u001b[43m \u001b[49m\u001b[38;5;241;43m*\u001b[39;49m\u001b[43margs\u001b[49m\u001b[43m,\u001b[49m\u001b[43m \u001b[49m\u001b[38;5;241;43m*\u001b[39;49m\u001b[38;5;241;43m*\u001b[39;49m\u001b[43mkwargs\u001b[49m\u001b[43m)\u001b[49m\n",
      "File \u001b[1;32m~\\AppData\\Local\\Programs\\Python\\Python313\\Lib\\site-packages\\sklearn\\feature_selection\\_univariate_selection.py:564\u001b[0m, in \u001b[0;36m_BaseFilter.fit\u001b[1;34m(self, X, y)\u001b[0m\n\u001b[0;32m    562\u001b[0m     X \u001b[38;5;241m=\u001b[39m validate_data(\u001b[38;5;28mself\u001b[39m, X, accept_sparse\u001b[38;5;241m=\u001b[39m[\u001b[38;5;124m\"\u001b[39m\u001b[38;5;124mcsr\u001b[39m\u001b[38;5;124m\"\u001b[39m, \u001b[38;5;124m\"\u001b[39m\u001b[38;5;124mcsc\u001b[39m\u001b[38;5;124m\"\u001b[39m])\n\u001b[0;32m    563\u001b[0m \u001b[38;5;28;01melse\u001b[39;00m:\n\u001b[1;32m--> 564\u001b[0m     X, y \u001b[38;5;241m=\u001b[39m \u001b[43mvalidate_data\u001b[49m\u001b[43m(\u001b[49m\n\u001b[0;32m    565\u001b[0m \u001b[43m        \u001b[49m\u001b[38;5;28;43mself\u001b[39;49m\u001b[43m,\u001b[49m\u001b[43m \u001b[49m\u001b[43mX\u001b[49m\u001b[43m,\u001b[49m\u001b[43m \u001b[49m\u001b[43my\u001b[49m\u001b[43m,\u001b[49m\u001b[43m \u001b[49m\u001b[43maccept_sparse\u001b[49m\u001b[38;5;241;43m=\u001b[39;49m\u001b[43m[\u001b[49m\u001b[38;5;124;43m\"\u001b[39;49m\u001b[38;5;124;43mcsr\u001b[39;49m\u001b[38;5;124;43m\"\u001b[39;49m\u001b[43m,\u001b[49m\u001b[43m \u001b[49m\u001b[38;5;124;43m\"\u001b[39;49m\u001b[38;5;124;43mcsc\u001b[39;49m\u001b[38;5;124;43m\"\u001b[39;49m\u001b[43m]\u001b[49m\u001b[43m,\u001b[49m\u001b[43m \u001b[49m\u001b[43mmulti_output\u001b[49m\u001b[38;5;241;43m=\u001b[39;49m\u001b[38;5;28;43;01mTrue\u001b[39;49;00m\n\u001b[0;32m    566\u001b[0m \u001b[43m    \u001b[49m\u001b[43m)\u001b[49m\n\u001b[0;32m    568\u001b[0m \u001b[38;5;28mself\u001b[39m\u001b[38;5;241m.\u001b[39m_check_params(X, y)\n\u001b[0;32m    569\u001b[0m score_func_ret \u001b[38;5;241m=\u001b[39m \u001b[38;5;28mself\u001b[39m\u001b[38;5;241m.\u001b[39mscore_func(X, y)\n",
      "File \u001b[1;32m~\\AppData\\Local\\Programs\\Python\\Python313\\Lib\\site-packages\\sklearn\\utils\\validation.py:2961\u001b[0m, in \u001b[0;36mvalidate_data\u001b[1;34m(_estimator, X, y, reset, validate_separately, skip_check_array, **check_params)\u001b[0m\n\u001b[0;32m   2959\u001b[0m         y \u001b[38;5;241m=\u001b[39m check_array(y, input_name\u001b[38;5;241m=\u001b[39m\u001b[38;5;124m\"\u001b[39m\u001b[38;5;124my\u001b[39m\u001b[38;5;124m\"\u001b[39m, \u001b[38;5;241m*\u001b[39m\u001b[38;5;241m*\u001b[39mcheck_y_params)\n\u001b[0;32m   2960\u001b[0m     \u001b[38;5;28;01melse\u001b[39;00m:\n\u001b[1;32m-> 2961\u001b[0m         X, y \u001b[38;5;241m=\u001b[39m \u001b[43mcheck_X_y\u001b[49m\u001b[43m(\u001b[49m\u001b[43mX\u001b[49m\u001b[43m,\u001b[49m\u001b[43m \u001b[49m\u001b[43my\u001b[49m\u001b[43m,\u001b[49m\u001b[43m \u001b[49m\u001b[38;5;241;43m*\u001b[39;49m\u001b[38;5;241;43m*\u001b[39;49m\u001b[43mcheck_params\u001b[49m\u001b[43m)\u001b[49m\n\u001b[0;32m   2962\u001b[0m     out \u001b[38;5;241m=\u001b[39m X, y\n\u001b[0;32m   2964\u001b[0m \u001b[38;5;28;01mif\u001b[39;00m \u001b[38;5;129;01mnot\u001b[39;00m no_val_X \u001b[38;5;129;01mand\u001b[39;00m check_params\u001b[38;5;241m.\u001b[39mget(\u001b[38;5;124m\"\u001b[39m\u001b[38;5;124mensure_2d\u001b[39m\u001b[38;5;124m\"\u001b[39m, \u001b[38;5;28;01mTrue\u001b[39;00m):\n",
      "File \u001b[1;32m~\\AppData\\Local\\Programs\\Python\\Python313\\Lib\\site-packages\\sklearn\\utils\\validation.py:1370\u001b[0m, in \u001b[0;36mcheck_X_y\u001b[1;34m(X, y, accept_sparse, accept_large_sparse, dtype, order, copy, force_writeable, force_all_finite, ensure_all_finite, ensure_2d, allow_nd, multi_output, ensure_min_samples, ensure_min_features, y_numeric, estimator)\u001b[0m\n\u001b[0;32m   1364\u001b[0m     \u001b[38;5;28;01mraise\u001b[39;00m \u001b[38;5;167;01mValueError\u001b[39;00m(\n\u001b[0;32m   1365\u001b[0m         \u001b[38;5;124mf\u001b[39m\u001b[38;5;124m\"\u001b[39m\u001b[38;5;132;01m{\u001b[39;00mestimator_name\u001b[38;5;132;01m}\u001b[39;00m\u001b[38;5;124m requires y to be passed, but the target y is None\u001b[39m\u001b[38;5;124m\"\u001b[39m\n\u001b[0;32m   1366\u001b[0m     )\n\u001b[0;32m   1368\u001b[0m ensure_all_finite \u001b[38;5;241m=\u001b[39m _deprecate_force_all_finite(force_all_finite, ensure_all_finite)\n\u001b[1;32m-> 1370\u001b[0m X \u001b[38;5;241m=\u001b[39m \u001b[43mcheck_array\u001b[49m\u001b[43m(\u001b[49m\n\u001b[0;32m   1371\u001b[0m \u001b[43m    \u001b[49m\u001b[43mX\u001b[49m\u001b[43m,\u001b[49m\n\u001b[0;32m   1372\u001b[0m \u001b[43m    \u001b[49m\u001b[43maccept_sparse\u001b[49m\u001b[38;5;241;43m=\u001b[39;49m\u001b[43maccept_sparse\u001b[49m\u001b[43m,\u001b[49m\n\u001b[0;32m   1373\u001b[0m \u001b[43m    \u001b[49m\u001b[43maccept_large_sparse\u001b[49m\u001b[38;5;241;43m=\u001b[39;49m\u001b[43maccept_large_sparse\u001b[49m\u001b[43m,\u001b[49m\n\u001b[0;32m   1374\u001b[0m \u001b[43m    \u001b[49m\u001b[43mdtype\u001b[49m\u001b[38;5;241;43m=\u001b[39;49m\u001b[43mdtype\u001b[49m\u001b[43m,\u001b[49m\n\u001b[0;32m   1375\u001b[0m \u001b[43m    \u001b[49m\u001b[43morder\u001b[49m\u001b[38;5;241;43m=\u001b[39;49m\u001b[43morder\u001b[49m\u001b[43m,\u001b[49m\n\u001b[0;32m   1376\u001b[0m \u001b[43m    \u001b[49m\u001b[43mcopy\u001b[49m\u001b[38;5;241;43m=\u001b[39;49m\u001b[43mcopy\u001b[49m\u001b[43m,\u001b[49m\n\u001b[0;32m   1377\u001b[0m \u001b[43m    \u001b[49m\u001b[43mforce_writeable\u001b[49m\u001b[38;5;241;43m=\u001b[39;49m\u001b[43mforce_writeable\u001b[49m\u001b[43m,\u001b[49m\n\u001b[0;32m   1378\u001b[0m \u001b[43m    \u001b[49m\u001b[43mensure_all_finite\u001b[49m\u001b[38;5;241;43m=\u001b[39;49m\u001b[43mensure_all_finite\u001b[49m\u001b[43m,\u001b[49m\n\u001b[0;32m   1379\u001b[0m \u001b[43m    \u001b[49m\u001b[43mensure_2d\u001b[49m\u001b[38;5;241;43m=\u001b[39;49m\u001b[43mensure_2d\u001b[49m\u001b[43m,\u001b[49m\n\u001b[0;32m   1380\u001b[0m \u001b[43m    \u001b[49m\u001b[43mallow_nd\u001b[49m\u001b[38;5;241;43m=\u001b[39;49m\u001b[43mallow_nd\u001b[49m\u001b[43m,\u001b[49m\n\u001b[0;32m   1381\u001b[0m \u001b[43m    \u001b[49m\u001b[43mensure_min_samples\u001b[49m\u001b[38;5;241;43m=\u001b[39;49m\u001b[43mensure_min_samples\u001b[49m\u001b[43m,\u001b[49m\n\u001b[0;32m   1382\u001b[0m \u001b[43m    \u001b[49m\u001b[43mensure_min_features\u001b[49m\u001b[38;5;241;43m=\u001b[39;49m\u001b[43mensure_min_features\u001b[49m\u001b[43m,\u001b[49m\n\u001b[0;32m   1383\u001b[0m \u001b[43m    \u001b[49m\u001b[43mestimator\u001b[49m\u001b[38;5;241;43m=\u001b[39;49m\u001b[43mestimator\u001b[49m\u001b[43m,\u001b[49m\n\u001b[0;32m   1384\u001b[0m \u001b[43m    \u001b[49m\u001b[43minput_name\u001b[49m\u001b[38;5;241;43m=\u001b[39;49m\u001b[38;5;124;43m\"\u001b[39;49m\u001b[38;5;124;43mX\u001b[39;49m\u001b[38;5;124;43m\"\u001b[39;49m\u001b[43m,\u001b[49m\n\u001b[0;32m   1385\u001b[0m \u001b[43m\u001b[49m\u001b[43m)\u001b[49m\n\u001b[0;32m   1387\u001b[0m y \u001b[38;5;241m=\u001b[39m _check_y(y, multi_output\u001b[38;5;241m=\u001b[39mmulti_output, y_numeric\u001b[38;5;241m=\u001b[39my_numeric, estimator\u001b[38;5;241m=\u001b[39mestimator)\n\u001b[0;32m   1389\u001b[0m check_consistent_length(X, y)\n",
      "File \u001b[1;32m~\\AppData\\Local\\Programs\\Python\\Python313\\Lib\\site-packages\\sklearn\\utils\\validation.py:1107\u001b[0m, in \u001b[0;36mcheck_array\u001b[1;34m(array, accept_sparse, accept_large_sparse, dtype, order, copy, force_writeable, force_all_finite, ensure_all_finite, ensure_non_negative, ensure_2d, allow_nd, ensure_min_samples, ensure_min_features, estimator, input_name)\u001b[0m\n\u001b[0;32m   1101\u001b[0m     \u001b[38;5;28;01mraise\u001b[39;00m \u001b[38;5;167;01mValueError\u001b[39;00m(\n\u001b[0;32m   1102\u001b[0m         \u001b[38;5;124m\"\u001b[39m\u001b[38;5;124mFound array with dim \u001b[39m\u001b[38;5;132;01m%d\u001b[39;00m\u001b[38;5;124m. \u001b[39m\u001b[38;5;132;01m%s\u001b[39;00m\u001b[38;5;124m expected <= 2.\u001b[39m\u001b[38;5;124m\"\u001b[39m\n\u001b[0;32m   1103\u001b[0m         \u001b[38;5;241m%\u001b[39m (array\u001b[38;5;241m.\u001b[39mndim, estimator_name)\n\u001b[0;32m   1104\u001b[0m     )\n\u001b[0;32m   1106\u001b[0m \u001b[38;5;28;01mif\u001b[39;00m ensure_all_finite:\n\u001b[1;32m-> 1107\u001b[0m     \u001b[43m_assert_all_finite\u001b[49m\u001b[43m(\u001b[49m\n\u001b[0;32m   1108\u001b[0m \u001b[43m        \u001b[49m\u001b[43marray\u001b[49m\u001b[43m,\u001b[49m\n\u001b[0;32m   1109\u001b[0m \u001b[43m        \u001b[49m\u001b[43minput_name\u001b[49m\u001b[38;5;241;43m=\u001b[39;49m\u001b[43minput_name\u001b[49m\u001b[43m,\u001b[49m\n\u001b[0;32m   1110\u001b[0m \u001b[43m        \u001b[49m\u001b[43mestimator_name\u001b[49m\u001b[38;5;241;43m=\u001b[39;49m\u001b[43mestimator_name\u001b[49m\u001b[43m,\u001b[49m\n\u001b[0;32m   1111\u001b[0m \u001b[43m        \u001b[49m\u001b[43mallow_nan\u001b[49m\u001b[38;5;241;43m=\u001b[39;49m\u001b[43mensure_all_finite\u001b[49m\u001b[43m \u001b[49m\u001b[38;5;241;43m==\u001b[39;49m\u001b[43m \u001b[49m\u001b[38;5;124;43m\"\u001b[39;49m\u001b[38;5;124;43mallow-nan\u001b[39;49m\u001b[38;5;124;43m\"\u001b[39;49m\u001b[43m,\u001b[49m\n\u001b[0;32m   1112\u001b[0m \u001b[43m    \u001b[49m\u001b[43m)\u001b[49m\n\u001b[0;32m   1114\u001b[0m \u001b[38;5;28;01mif\u001b[39;00m copy:\n\u001b[0;32m   1115\u001b[0m     \u001b[38;5;28;01mif\u001b[39;00m _is_numpy_namespace(xp):\n\u001b[0;32m   1116\u001b[0m         \u001b[38;5;66;03m# only make a copy if `array` and `array_orig` may share memory`\u001b[39;00m\n",
      "File \u001b[1;32m~\\AppData\\Local\\Programs\\Python\\Python313\\Lib\\site-packages\\sklearn\\utils\\validation.py:120\u001b[0m, in \u001b[0;36m_assert_all_finite\u001b[1;34m(X, allow_nan, msg_dtype, estimator_name, input_name)\u001b[0m\n\u001b[0;32m    117\u001b[0m \u001b[38;5;28;01mif\u001b[39;00m first_pass_isfinite:\n\u001b[0;32m    118\u001b[0m     \u001b[38;5;28;01mreturn\u001b[39;00m\n\u001b[1;32m--> 120\u001b[0m \u001b[43m_assert_all_finite_element_wise\u001b[49m\u001b[43m(\u001b[49m\n\u001b[0;32m    121\u001b[0m \u001b[43m    \u001b[49m\u001b[43mX\u001b[49m\u001b[43m,\u001b[49m\n\u001b[0;32m    122\u001b[0m \u001b[43m    \u001b[49m\u001b[43mxp\u001b[49m\u001b[38;5;241;43m=\u001b[39;49m\u001b[43mxp\u001b[49m\u001b[43m,\u001b[49m\n\u001b[0;32m    123\u001b[0m \u001b[43m    \u001b[49m\u001b[43mallow_nan\u001b[49m\u001b[38;5;241;43m=\u001b[39;49m\u001b[43mallow_nan\u001b[49m\u001b[43m,\u001b[49m\n\u001b[0;32m    124\u001b[0m \u001b[43m    \u001b[49m\u001b[43mmsg_dtype\u001b[49m\u001b[38;5;241;43m=\u001b[39;49m\u001b[43mmsg_dtype\u001b[49m\u001b[43m,\u001b[49m\n\u001b[0;32m    125\u001b[0m \u001b[43m    \u001b[49m\u001b[43mestimator_name\u001b[49m\u001b[38;5;241;43m=\u001b[39;49m\u001b[43mestimator_name\u001b[49m\u001b[43m,\u001b[49m\n\u001b[0;32m    126\u001b[0m \u001b[43m    \u001b[49m\u001b[43minput_name\u001b[49m\u001b[38;5;241;43m=\u001b[39;49m\u001b[43minput_name\u001b[49m\u001b[43m,\u001b[49m\n\u001b[0;32m    127\u001b[0m \u001b[43m\u001b[49m\u001b[43m)\u001b[49m\n",
      "File \u001b[1;32m~\\AppData\\Local\\Programs\\Python\\Python313\\Lib\\site-packages\\sklearn\\utils\\validation.py:169\u001b[0m, in \u001b[0;36m_assert_all_finite_element_wise\u001b[1;34m(X, xp, allow_nan, msg_dtype, estimator_name, input_name)\u001b[0m\n\u001b[0;32m    152\u001b[0m \u001b[38;5;28;01mif\u001b[39;00m estimator_name \u001b[38;5;129;01mand\u001b[39;00m input_name \u001b[38;5;241m==\u001b[39m \u001b[38;5;124m\"\u001b[39m\u001b[38;5;124mX\u001b[39m\u001b[38;5;124m\"\u001b[39m \u001b[38;5;129;01mand\u001b[39;00m has_nan_error:\n\u001b[0;32m    153\u001b[0m     \u001b[38;5;66;03m# Improve the error message on how to handle missing values in\u001b[39;00m\n\u001b[0;32m    154\u001b[0m     \u001b[38;5;66;03m# scikit-learn.\u001b[39;00m\n\u001b[0;32m    155\u001b[0m     msg_err \u001b[38;5;241m+\u001b[39m\u001b[38;5;241m=\u001b[39m (\n\u001b[0;32m    156\u001b[0m         \u001b[38;5;124mf\u001b[39m\u001b[38;5;124m\"\u001b[39m\u001b[38;5;130;01m\\n\u001b[39;00m\u001b[38;5;132;01m{\u001b[39;00mestimator_name\u001b[38;5;132;01m}\u001b[39;00m\u001b[38;5;124m does not accept missing values\u001b[39m\u001b[38;5;124m\"\u001b[39m\n\u001b[0;32m    157\u001b[0m         \u001b[38;5;124m\"\u001b[39m\u001b[38;5;124m encoded as NaN natively. For supervised learning, you might want\u001b[39m\u001b[38;5;124m\"\u001b[39m\n\u001b[1;32m   (...)\u001b[0m\n\u001b[0;32m    167\u001b[0m         \u001b[38;5;124m\"\u001b[39m\u001b[38;5;124m#estimators-that-handle-nan-values\u001b[39m\u001b[38;5;124m\"\u001b[39m\n\u001b[0;32m    168\u001b[0m     )\n\u001b[1;32m--> 169\u001b[0m \u001b[38;5;28;01mraise\u001b[39;00m \u001b[38;5;167;01mValueError\u001b[39;00m(msg_err)\n",
      "\u001b[1;31mValueError\u001b[0m: Input X contains NaN.\nSelectKBest does not accept missing values encoded as NaN natively. For supervised learning, you might want to consider sklearn.ensemble.HistGradientBoostingClassifier and Regressor which accept missing values encoded as NaNs natively. Alternatively, it is possible to preprocess the data, for instance by using an imputer transformer in a pipeline or drop samples with missing values. See https://scikit-learn.org/stable/modules/impute.html You can find a list of all estimators that handle NaN values at the following page: https://scikit-learn.org/stable/modules/impute.html#estimators-that-handle-nan-values"
     ]
    }
   ],
   "source": [
    "import joblib\n",
    "import pandas as pd\n",
    "from sklearn.feature_selection import SelectKBest, f_classif\n",
    "\n",
    "# ✅ 1. Load your dataset\n",
    "data_path = r'C:\\Users\\sanja\\cfDNA-Lung-Cancer-ML\\data\\processed\\merged_labeled_dataset.csv'\n",
    "df = pd.read_csv(data_path)\n",
    "\n",
    "# ✅ 2. Sanity check\n",
    "print(\"Shape of dataset:\", df.shape)\n",
    "print(\"Columns:\", df.columns)\n",
    "\n",
    "import pandas as pd\n",
    "from sklearn.feature_selection import SelectKBest, f_classif\n",
    "\n",
    "# Load your full dataset\n",
    "df = pd.read_csv( r'C:\\Users\\sanja\\cfDNA-Lung-Cancer-ML\\data\\processed\\merged_labeled_dataset.csv')  # replace with your actual merged dataset path\n",
    "\n",
    "# Separate features and target\n",
    "X = df.drop(columns=['Label', 'Sample_ID', 'Patient_ID'], errors='ignore')  # Drop any non-feature columns\n",
    "y = df['Label']\n",
    "\n",
    "# Keep only numeric columns\n",
    "X = X.select_dtypes(include='number')\n",
    "\n",
    "# Feature selection\n",
    "k = min(20, X.shape[1])  # Pick top 20 or less if fewer features exist\n",
    "selector = SelectKBest(score_func=f_classif, k=k)\n",
    "selector.fit(X, y)\n",
    "\n",
    "selected_features = X.columns[selector.get_support()].tolist()\n",
    "\n",
    "# Save selected features\n",
    "import pickle\n",
    "with open(\"selected_features.pkl\", \"wb\") as f:\n",
    "    pickle.dump(selected_features, f)\n",
    "\n",
    "print(\"✅ Selected features saved to selected_features.pkl:\", selected_features)\n"
   ]
  },
  {
   "cell_type": "code",
   "execution_count": 9,
   "id": "a8cc1d70-9e61-4e1b-9697-6ae1e58c81e5",
   "metadata": {},
   "outputs": [
    {
     "ename": "AttributeError",
     "evalue": "'numpy.ndarray' object has no attribute 'loc'",
     "output_type": "error",
     "traceback": [
      "\u001b[1;31m---------------------------------------------------------------------------\u001b[0m",
      "\u001b[1;31mAttributeError\u001b[0m                            Traceback (most recent call last)",
      "Cell \u001b[1;32mIn[9], line 20\u001b[0m\n\u001b[0;32m     18\u001b[0m \u001b[38;5;66;03m# Drop rows where target y is NaN\u001b[39;00m\n\u001b[0;32m     19\u001b[0m non_nan_indices \u001b[38;5;241m=\u001b[39m y\u001b[38;5;241m.\u001b[39mdropna()\u001b[38;5;241m.\u001b[39mindex\n\u001b[1;32m---> 20\u001b[0m X_imputed \u001b[38;5;241m=\u001b[39m \u001b[43mX_imputed\u001b[49m\u001b[38;5;241;43m.\u001b[39;49m\u001b[43mloc\u001b[49m[non_nan_indices]\n\u001b[0;32m     21\u001b[0m y \u001b[38;5;241m=\u001b[39m y\u001b[38;5;241m.\u001b[39mloc[non_nan_indices]\n\u001b[0;32m     23\u001b[0m \u001b[38;5;66;03m# 4. Impute missing values\u001b[39;00m\n",
      "\u001b[1;31mAttributeError\u001b[0m: 'numpy.ndarray' object has no attribute 'loc'"
     ]
    }
   ],
   "source": [
    "import pandas as pd\n",
    "import numpy as np\n",
    "import joblib\n",
    "from sklearn.impute import SimpleImputer\n",
    "from sklearn.feature_selection import SelectKBest, f_classif\n",
    "\n",
    "# 1. Load dataset\n",
    "data_path = r'C:\\Users\\sanja\\cfDNA-Lung-Cancer-ML\\data\\processed\\merged_labeled_dataset.csv'\n",
    "df = pd.read_csv(r'C:\\Users\\sanja\\cfDNA-Lung-Cancer-ML\\data\\processed\\merged_labeled_dataset.csv')\n",
    "\n",
    "# 2. Clean and prepare data\n",
    "df['Label'] = df['Label'].map({'Cancer': 1, 'Normal': 0})  # adjust if needed\n",
    "X = df.drop(columns=['Label', 'Sample_ID', 'Patient_ID'], errors='ignore')  # drop IDs\n",
    "y = df['Label']\n",
    "\n",
    "# 3. Keep only numeric features\n",
    "X = X.select_dtypes(include=[np.number])\n",
    "# Drop rows where target y is NaN\n",
    "non_nan_indices = y.dropna().index\n",
    "X_imputed = X_imputed.loc[non_nan_indices]\n",
    "y = y.loc[non_nan_indices]\n",
    "\n",
    "# 4. Impute missing values\n",
    "imputer = SimpleImputer(strategy='mean')\n",
    "X_imputed = imputer.fit_transform(X)\n",
    "\n",
    "# 5. Feature selection\n",
    "k = min(20, X.shape[1])\n",
    "selector = SelectKBest(score_func=f_classif, k=k)\n",
    "selector.fit(X_imputed, y)\n",
    "\n",
    "selected_features = X.columns[selector.get_support()].tolist()\n",
    "\n",
    "# 6. Save selected features\n",
    "joblib.dump(selected_features, 'models/selected_features.pkl')\n",
    "print(\"✅ Selected features saved:\", selected_features)\n"
   ]
  },
  {
   "cell_type": "code",
   "execution_count": 10,
   "id": "650c1ed1-cfed-4d4d-84b6-54d0ce6925b5",
   "metadata": {},
   "outputs": [
    {
     "ename": "ValueError",
     "evalue": "Cannot use mean strategy with non-numeric data:\ncould not convert string to float: 'TCGA.05.4384'",
     "output_type": "error",
     "traceback": [
      "\u001b[1;31m---------------------------------------------------------------------------\u001b[0m",
      "\u001b[1;31mValueError\u001b[0m                                Traceback (most recent call last)",
      "Cell \u001b[1;32mIn[10], line 21\u001b[0m\n\u001b[0;32m     19\u001b[0m \u001b[38;5;66;03m# 4. Impute missing values in X\u001b[39;00m\n\u001b[0;32m     20\u001b[0m imputer \u001b[38;5;241m=\u001b[39m SimpleImputer(strategy\u001b[38;5;241m=\u001b[39m\u001b[38;5;124m'\u001b[39m\u001b[38;5;124mmean\u001b[39m\u001b[38;5;124m'\u001b[39m)\n\u001b[1;32m---> 21\u001b[0m X_imputed \u001b[38;5;241m=\u001b[39m \u001b[43mimputer\u001b[49m\u001b[38;5;241;43m.\u001b[39;49m\u001b[43mfit_transform\u001b[49m\u001b[43m(\u001b[49m\u001b[43mX\u001b[49m\u001b[43m)\u001b[49m\n\u001b[0;32m     23\u001b[0m \u001b[38;5;66;03m# 5. Select top-k features\u001b[39;00m\n\u001b[0;32m     24\u001b[0m k \u001b[38;5;241m=\u001b[39m \u001b[38;5;28mmin\u001b[39m(\u001b[38;5;241m20\u001b[39m, X\u001b[38;5;241m.\u001b[39mshape[\u001b[38;5;241m1\u001b[39m])\n",
      "File \u001b[1;32m~\\AppData\\Local\\Programs\\Python\\Python313\\Lib\\site-packages\\sklearn\\utils\\_set_output.py:319\u001b[0m, in \u001b[0;36m_wrap_method_output.<locals>.wrapped\u001b[1;34m(self, X, *args, **kwargs)\u001b[0m\n\u001b[0;32m    317\u001b[0m \u001b[38;5;129m@wraps\u001b[39m(f)\n\u001b[0;32m    318\u001b[0m \u001b[38;5;28;01mdef\u001b[39;00m\u001b[38;5;250m \u001b[39m\u001b[38;5;21mwrapped\u001b[39m(\u001b[38;5;28mself\u001b[39m, X, \u001b[38;5;241m*\u001b[39margs, \u001b[38;5;241m*\u001b[39m\u001b[38;5;241m*\u001b[39mkwargs):\n\u001b[1;32m--> 319\u001b[0m     data_to_wrap \u001b[38;5;241m=\u001b[39m \u001b[43mf\u001b[49m\u001b[43m(\u001b[49m\u001b[38;5;28;43mself\u001b[39;49m\u001b[43m,\u001b[49m\u001b[43m \u001b[49m\u001b[43mX\u001b[49m\u001b[43m,\u001b[49m\u001b[43m \u001b[49m\u001b[38;5;241;43m*\u001b[39;49m\u001b[43margs\u001b[49m\u001b[43m,\u001b[49m\u001b[43m \u001b[49m\u001b[38;5;241;43m*\u001b[39;49m\u001b[38;5;241;43m*\u001b[39;49m\u001b[43mkwargs\u001b[49m\u001b[43m)\u001b[49m\n\u001b[0;32m    320\u001b[0m     \u001b[38;5;28;01mif\u001b[39;00m \u001b[38;5;28misinstance\u001b[39m(data_to_wrap, \u001b[38;5;28mtuple\u001b[39m):\n\u001b[0;32m    321\u001b[0m         \u001b[38;5;66;03m# only wrap the first output for cross decomposition\u001b[39;00m\n\u001b[0;32m    322\u001b[0m         return_tuple \u001b[38;5;241m=\u001b[39m (\n\u001b[0;32m    323\u001b[0m             _wrap_data_with_container(method, data_to_wrap[\u001b[38;5;241m0\u001b[39m], X, \u001b[38;5;28mself\u001b[39m),\n\u001b[0;32m    324\u001b[0m             \u001b[38;5;241m*\u001b[39mdata_to_wrap[\u001b[38;5;241m1\u001b[39m:],\n\u001b[0;32m    325\u001b[0m         )\n",
      "File \u001b[1;32m~\\AppData\\Local\\Programs\\Python\\Python313\\Lib\\site-packages\\sklearn\\base.py:918\u001b[0m, in \u001b[0;36mTransformerMixin.fit_transform\u001b[1;34m(self, X, y, **fit_params)\u001b[0m\n\u001b[0;32m    903\u001b[0m         warnings\u001b[38;5;241m.\u001b[39mwarn(\n\u001b[0;32m    904\u001b[0m             (\n\u001b[0;32m    905\u001b[0m                 \u001b[38;5;124mf\u001b[39m\u001b[38;5;124m\"\u001b[39m\u001b[38;5;124mThis object (\u001b[39m\u001b[38;5;132;01m{\u001b[39;00m\u001b[38;5;28mself\u001b[39m\u001b[38;5;241m.\u001b[39m\u001b[38;5;18m__class__\u001b[39m\u001b[38;5;241m.\u001b[39m\u001b[38;5;18m__name__\u001b[39m\u001b[38;5;132;01m}\u001b[39;00m\u001b[38;5;124m) has a `transform`\u001b[39m\u001b[38;5;124m\"\u001b[39m\n\u001b[1;32m   (...)\u001b[0m\n\u001b[0;32m    913\u001b[0m             \u001b[38;5;167;01mUserWarning\u001b[39;00m,\n\u001b[0;32m    914\u001b[0m         )\n\u001b[0;32m    916\u001b[0m \u001b[38;5;28;01mif\u001b[39;00m y \u001b[38;5;129;01mis\u001b[39;00m \u001b[38;5;28;01mNone\u001b[39;00m:\n\u001b[0;32m    917\u001b[0m     \u001b[38;5;66;03m# fit method of arity 1 (unsupervised transformation)\u001b[39;00m\n\u001b[1;32m--> 918\u001b[0m     \u001b[38;5;28;01mreturn\u001b[39;00m \u001b[38;5;28;43mself\u001b[39;49m\u001b[38;5;241;43m.\u001b[39;49m\u001b[43mfit\u001b[49m\u001b[43m(\u001b[49m\u001b[43mX\u001b[49m\u001b[43m,\u001b[49m\u001b[43m \u001b[49m\u001b[38;5;241;43m*\u001b[39;49m\u001b[38;5;241;43m*\u001b[39;49m\u001b[43mfit_params\u001b[49m\u001b[43m)\u001b[49m\u001b[38;5;241m.\u001b[39mtransform(X)\n\u001b[0;32m    919\u001b[0m \u001b[38;5;28;01melse\u001b[39;00m:\n\u001b[0;32m    920\u001b[0m     \u001b[38;5;66;03m# fit method of arity 2 (supervised transformation)\u001b[39;00m\n\u001b[0;32m    921\u001b[0m     \u001b[38;5;28;01mreturn\u001b[39;00m \u001b[38;5;28mself\u001b[39m\u001b[38;5;241m.\u001b[39mfit(X, y, \u001b[38;5;241m*\u001b[39m\u001b[38;5;241m*\u001b[39mfit_params)\u001b[38;5;241m.\u001b[39mtransform(X)\n",
      "File \u001b[1;32m~\\AppData\\Local\\Programs\\Python\\Python313\\Lib\\site-packages\\sklearn\\base.py:1389\u001b[0m, in \u001b[0;36m_fit_context.<locals>.decorator.<locals>.wrapper\u001b[1;34m(estimator, *args, **kwargs)\u001b[0m\n\u001b[0;32m   1382\u001b[0m     estimator\u001b[38;5;241m.\u001b[39m_validate_params()\n\u001b[0;32m   1384\u001b[0m \u001b[38;5;28;01mwith\u001b[39;00m config_context(\n\u001b[0;32m   1385\u001b[0m     skip_parameter_validation\u001b[38;5;241m=\u001b[39m(\n\u001b[0;32m   1386\u001b[0m         prefer_skip_nested_validation \u001b[38;5;129;01mor\u001b[39;00m global_skip_validation\n\u001b[0;32m   1387\u001b[0m     )\n\u001b[0;32m   1388\u001b[0m ):\n\u001b[1;32m-> 1389\u001b[0m     \u001b[38;5;28;01mreturn\u001b[39;00m \u001b[43mfit_method\u001b[49m\u001b[43m(\u001b[49m\u001b[43mestimator\u001b[49m\u001b[43m,\u001b[49m\u001b[43m \u001b[49m\u001b[38;5;241;43m*\u001b[39;49m\u001b[43margs\u001b[49m\u001b[43m,\u001b[49m\u001b[43m \u001b[49m\u001b[38;5;241;43m*\u001b[39;49m\u001b[38;5;241;43m*\u001b[39;49m\u001b[43mkwargs\u001b[49m\u001b[43m)\u001b[49m\n",
      "File \u001b[1;32m~\\AppData\\Local\\Programs\\Python\\Python313\\Lib\\site-packages\\sklearn\\impute\\_base.py:434\u001b[0m, in \u001b[0;36mSimpleImputer.fit\u001b[1;34m(self, X, y)\u001b[0m\n\u001b[0;32m    416\u001b[0m \u001b[38;5;129m@_fit_context\u001b[39m(prefer_skip_nested_validation\u001b[38;5;241m=\u001b[39m\u001b[38;5;28;01mTrue\u001b[39;00m)\n\u001b[0;32m    417\u001b[0m \u001b[38;5;28;01mdef\u001b[39;00m\u001b[38;5;250m \u001b[39m\u001b[38;5;21mfit\u001b[39m(\u001b[38;5;28mself\u001b[39m, X, y\u001b[38;5;241m=\u001b[39m\u001b[38;5;28;01mNone\u001b[39;00m):\n\u001b[0;32m    418\u001b[0m \u001b[38;5;250m    \u001b[39m\u001b[38;5;124;03m\"\"\"Fit the imputer on `X`.\u001b[39;00m\n\u001b[0;32m    419\u001b[0m \n\u001b[0;32m    420\u001b[0m \u001b[38;5;124;03m    Parameters\u001b[39;00m\n\u001b[1;32m   (...)\u001b[0m\n\u001b[0;32m    432\u001b[0m \u001b[38;5;124;03m        Fitted estimator.\u001b[39;00m\n\u001b[0;32m    433\u001b[0m \u001b[38;5;124;03m    \"\"\"\u001b[39;00m\n\u001b[1;32m--> 434\u001b[0m     X \u001b[38;5;241m=\u001b[39m \u001b[38;5;28;43mself\u001b[39;49m\u001b[38;5;241;43m.\u001b[39;49m\u001b[43m_validate_input\u001b[49m\u001b[43m(\u001b[49m\u001b[43mX\u001b[49m\u001b[43m,\u001b[49m\u001b[43m \u001b[49m\u001b[43min_fit\u001b[49m\u001b[38;5;241;43m=\u001b[39;49m\u001b[38;5;28;43;01mTrue\u001b[39;49;00m\u001b[43m)\u001b[49m\n\u001b[0;32m    436\u001b[0m     \u001b[38;5;66;03m# default fill_value is 0 for numerical input and \"missing_value\"\u001b[39;00m\n\u001b[0;32m    437\u001b[0m     \u001b[38;5;66;03m# otherwise\u001b[39;00m\n\u001b[0;32m    438\u001b[0m     \u001b[38;5;28;01mif\u001b[39;00m \u001b[38;5;28mself\u001b[39m\u001b[38;5;241m.\u001b[39mfill_value \u001b[38;5;129;01mis\u001b[39;00m \u001b[38;5;28;01mNone\u001b[39;00m:\n",
      "File \u001b[1;32m~\\AppData\\Local\\Programs\\Python\\Python313\\Lib\\site-packages\\sklearn\\impute\\_base.py:361\u001b[0m, in \u001b[0;36mSimpleImputer._validate_input\u001b[1;34m(self, X, in_fit)\u001b[0m\n\u001b[0;32m    355\u001b[0m \u001b[38;5;28;01mif\u001b[39;00m \u001b[38;5;124m\"\u001b[39m\u001b[38;5;124mcould not convert\u001b[39m\u001b[38;5;124m\"\u001b[39m \u001b[38;5;129;01min\u001b[39;00m \u001b[38;5;28mstr\u001b[39m(ve):\n\u001b[0;32m    356\u001b[0m     new_ve \u001b[38;5;241m=\u001b[39m \u001b[38;5;167;01mValueError\u001b[39;00m(\n\u001b[0;32m    357\u001b[0m         \u001b[38;5;124m\"\u001b[39m\u001b[38;5;124mCannot use \u001b[39m\u001b[38;5;132;01m{}\u001b[39;00m\u001b[38;5;124m strategy with non-numeric data:\u001b[39m\u001b[38;5;130;01m\\n\u001b[39;00m\u001b[38;5;132;01m{}\u001b[39;00m\u001b[38;5;124m\"\u001b[39m\u001b[38;5;241m.\u001b[39mformat(\n\u001b[0;32m    358\u001b[0m             \u001b[38;5;28mself\u001b[39m\u001b[38;5;241m.\u001b[39mstrategy, ve\n\u001b[0;32m    359\u001b[0m         )\n\u001b[0;32m    360\u001b[0m     )\n\u001b[1;32m--> 361\u001b[0m     \u001b[38;5;28;01mraise\u001b[39;00m new_ve \u001b[38;5;28;01mfrom\u001b[39;00m\u001b[38;5;250m \u001b[39m\u001b[38;5;28;01mNone\u001b[39;00m\n\u001b[0;32m    362\u001b[0m \u001b[38;5;28;01melse\u001b[39;00m:\n\u001b[0;32m    363\u001b[0m     \u001b[38;5;28;01mraise\u001b[39;00m ve\n",
      "\u001b[1;31mValueError\u001b[0m: Cannot use mean strategy with non-numeric data:\ncould not convert string to float: 'TCGA.05.4384'"
     ]
    }
   ],
   "source": [
    "import joblib\n",
    "import pandas as pd\n",
    "from sklearn.feature_selection import SelectKBest, f_classif\n",
    "from sklearn.impute import SimpleImputer\n",
    "\n",
    "# 1. Load the dataset\n",
    "data_path = r'C:\\Users\\sanja\\cfDNA-Lung-Cancer-ML\\data\\processed\\merged_labeled_dataset.csv'\n",
    "df = pd.read_csv(data_path)\n",
    "\n",
    "# 2. Separate features and label\n",
    "X = df.drop(columns=['Label'])\n",
    "y = df['Label']\n",
    "\n",
    "# 3. Drop rows where y is NaN (do this before imputation)\n",
    "non_nan_indices = y.dropna().index\n",
    "X = X.loc[non_nan_indices]\n",
    "y = y.loc[non_nan_indices]\n",
    "\n",
    "# 4. Impute missing values in X\n",
    "imputer = SimpleImputer(strategy='mean')\n",
    "X_imputed = imputer.fit_transform(X)\n",
    "\n",
    "# 5. Select top-k features\n",
    "k = min(20, X.shape[1])\n",
    "selector = SelectKBest(score_func=f_classif, k=k)\n",
    "selector.fit(X_imputed, y)\n",
    "selected_features = X.columns[selector.get_support()].tolist()\n",
    "\n",
    "# 6. Save selected features\n",
    "joblib.dump(selected_features, 'models/selected_features.pkl')\n",
    "\n",
    "print(\"✅ selected_features.pkl saved in models/\")\n",
    "print(\"Selected features:\", selected_features)\n"
   ]
  },
  {
   "cell_type": "code",
   "execution_count": 11,
   "id": "71d8367e-7a28-4381-8c26-a449ee6d49f2",
   "metadata": {},
   "outputs": [
    {
     "name": "stdout",
     "output_type": "stream",
     "text": [
      "✅ selected_features.pkl saved in models/\n",
      "Selected features: ['hsa-mir-1243', 'hsa-mir-152', 'hsa-mir-181a-1', 'hsa-mir-181b-2', 'hsa-mir-19a', 'hsa-mir-19b-2', 'hsa-mir-20a', 'hsa-mir-212', 'hsa-mir-30c-2', 'hsa-mir-3160-1', 'hsa-mir-330', 'hsa-mir-338', 'DDX55_cg00000769', 'C1orf65_cg00002808', 'DERA_cg00009214', 'GJB6_cg00012692', 'TRIM56_cg00013374', 'ASAP2_cg00013804', 'FECH_cg00026731', 'HPCAL4_cg00036110']\n"
     ]
    }
   ],
   "source": [
    "import joblib\n",
    "import pandas as pd\n",
    "from sklearn.impute import SimpleImputer\n",
    "from sklearn.feature_selection import SelectKBest, f_classif\n",
    "import os\n",
    "\n",
    "# 1. Load the dataset\n",
    "data_path = r'C:\\Users\\sanja\\cfDNA-Lung-Cancer-ML\\data\\processed\\merged_labeled_dataset.csv'\n",
    "df = pd.read_csv(data_path)\n",
    "\n",
    "# 2. Separate features and label\n",
    "X = df.drop(columns=['Label'])\n",
    "y = df['Label']\n",
    "\n",
    "# 3. Drop non-numeric columns (like sample IDs)\n",
    "X_numeric = X.select_dtypes(include=['number'])\n",
    "\n",
    "# 4. Drop rows where target y is NaN\n",
    "non_nan_indices = y.dropna().index\n",
    "X_numeric = X_numeric.loc[non_nan_indices]\n",
    "y = y.loc[non_nan_indices]\n",
    "\n",
    "# 5. Impute missing values in X_numeric\n",
    "imputer = SimpleImputer(strategy='mean')\n",
    "X_imputed = imputer.fit_transform(X_numeric)\n",
    "\n",
    "# 6. Select top-k features\n",
    "k = min(20, X_imputed.shape[1])  # Avoid error if < 20 features\n",
    "selector = SelectKBest(score_func=f_classif, k=k)\n",
    "selector.fit(X_imputed, y)\n",
    "\n",
    "selected_feature_names = X_numeric.columns[selector.get_support()].tolist()\n",
    "\n",
    "# 7. Save selected features\n",
    "os.makedirs('models', exist_ok=True)\n",
    "joblib.dump(selected_feature_names, 'models/selected_features.pkl')\n",
    "\n",
    "# 8. Print the results\n",
    "print(\"✅ selected_features.pkl saved in models/\")\n",
    "print(\"Selected features:\", selected_feature_names)\n"
   ]
  },
  {
   "cell_type": "code",
   "execution_count": 14,
   "id": "a11e7eac-3d16-4544-a753-6ced2cc06671",
   "metadata": {},
   "outputs": [
    {
     "name": "stdout",
     "output_type": "stream",
     "text": [
      "✅ Folder structure for cfDNA_LungCancer_App created successfully.\n"
     ]
    }
   ],
   "source": [
    "import os\n",
    "\n",
    "# Define the root folder\n",
    "root_folder = \"cfDNA_LungCancer_App\"\n",
    "\n",
    "# Define the structure\n",
    "structure = [\n",
    "    os.path.join(root_folder, \"model\"),\n",
    "    os.path.join(root_folder, \"data\"),\n",
    "    os.path.join(root_folder, \"assets\"),\n",
    "]\n",
    "\n",
    "# Create folders\n",
    "for folder in structure:\n",
    "    os.makedirs(folder, exist_ok=True)\n",
    "\n",
    "# Create empty files or placeholders\n",
    "open(os.path.join(root_folder, \"app.py\"), \"a\", encoding=\"utf-8\").close()\n",
    "open(os.path.join(root_folder, \"requirements.txt\"), \"a\", encoding=\"utf-8\").close()\n",
    "\n",
    "# Create placeholder model files\n",
    "open(os.path.join(root_folder, \"model\", \"trained_model.pkl\"), \"a\").close()\n",
    "open(os.path.join(root_folder, \"model\", \"selected_features.pkl\"), \"a\").close()\n",
    "\n",
    "# Create a sample input CSV in data folder\n",
    "with open(os.path.join(root_folder, \"data\", \"sample_input.csv\"), \"w\", encoding=\"utf-8\") as f:\n",
    "    f.write(\"feature1,feature2,feature3\\nvalue1,value2,value3\\n\")\n",
    "\n",
    "# Optional logo\n",
    "open(os.path.join(root_folder, \"assets\", \"logo.png\"), \"a\").close()\n",
    "\n",
    "print(f\"✅ Folder structure for {root_folder} created successfully.\")\n"
   ]
  },
  {
   "cell_type": "code",
   "execution_count": 15,
   "id": "f12d2563-1f23-49cb-aa1b-1ec5608d5bdd",
   "metadata": {},
   "outputs": [
    {
     "name": "stdout",
     "output_type": "stream",
     "text": [
      "✅ All required files have been saved in the correct structure.\n"
     ]
    }
   ],
   "source": [
    "import pickle\n",
    "import pandas as pd\n",
    "import os\n",
    "\n",
    "# Paths\n",
    "model_dir = \"cfDNA_LungCancer_App/model\"\n",
    "data_dir = \"cfDNA_LungCancer_App/data\"\n",
    "\n",
    "os.makedirs(model_dir, exist_ok=True)\n",
    "os.makedirs(data_dir, exist_ok=True)\n",
    "\n",
    "# 🧠 Your trained model (replace with your actual model variable)\n",
    "# Example: trained_model = RandomForestClassifier().fit(X_train, y_train)\n",
    "# Replace this dummy with your actual trained model object\n",
    "trained_model = \"Your_Trained_Model_Object_Here\"\n",
    "\n",
    "# 🧬 Your selected features (a list of feature names)\n",
    "selected_features = ['gene1', 'gene2', 'gene3', 'miRNA_21', 'miRNA_34a']  # Example list\n",
    "\n",
    "# 1. Save the trained model\n",
    "with open(os.path.join(model_dir, \"trained_model.pkl\"), \"wb\") as f:\n",
    "    pickle.dump(trained_model, f)\n",
    "\n",
    "# 2. Save the selected features list\n",
    "with open(os.path.join(model_dir, \"selected_features.pkl\"), \"wb\") as f:\n",
    "    pickle.dump(selected_features, f)\n",
    "\n",
    "# 3. Create a sample input CSV with placeholders\n",
    "sample_df = pd.DataFrame([[\"\"] * len(selected_features)], columns=selected_features)\n",
    "sample_df.to_csv(os.path.join(data_dir, \"sample_input.csv\"), index=False)\n",
    "\n",
    "print(\"✅ All required files have been saved in the correct structure.\")\n"
   ]
  },
  {
   "cell_type": "code",
   "execution_count": null,
   "id": "9b573c37-bacd-4194-8fdf-9016e3ea1e33",
   "metadata": {},
   "outputs": [],
   "source": []
  }
 ],
 "metadata": {
  "kernelspec": {
   "display_name": "Python 3 (ipykernel)",
   "language": "python",
   "name": "python3"
  },
  "language_info": {
   "codemirror_mode": {
    "name": "ipython",
    "version": 3
   },
   "file_extension": ".py",
   "mimetype": "text/x-python",
   "name": "python",
   "nbconvert_exporter": "python",
   "pygments_lexer": "ipython3",
   "version": "3.13.0"
  }
 },
 "nbformat": 4,
 "nbformat_minor": 5
}
