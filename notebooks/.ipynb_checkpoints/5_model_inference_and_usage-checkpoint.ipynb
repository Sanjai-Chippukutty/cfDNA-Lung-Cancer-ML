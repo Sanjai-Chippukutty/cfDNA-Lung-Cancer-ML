{
 "cells": [
  {
   "cell_type": "markdown",
   "id": "1c4a894c-b8d2-46ae-84ad-203b1edde791",
   "metadata": {},
   "source": [
    "### Step 5: Inference and Deployment\n",
    "\n",
    "We exported the trained model using Joblib and tested it on a single sample input. This section lays the foundation for integrating the model into a user-friendly interface like a Streamlit web app.\n"
   ]
  },
  {
   "cell_type": "markdown",
   "id": "e9d4ce23-137e-4e9c-9ae3-14c594707561",
   "metadata": {},
   "source": [
    "#  Step 5: Model Inference and Usage\n",
    "\n",
    "This section demonstrates how to use the trained models in real-world settings for lung cancer prediction.\n",
    "\n",
    "\n",
    "\n",
    "##  Saving the Models\n",
    "\n",
    "All trained models are serialized using `joblib` and stored in the `models/` directory. This enables reusability without retraining and supports deployment into web or API frameworks like Streamlit or Flask.\n",
    "\n",
    "Saved assets include:\n",
    "- `logistic_model.pkl`\n",
    "- `random_forest_model.pkl`\n",
    "- `svm_model.pkl`\n",
    "- `scaler.pkl` (for feature scaling)\n",
    "- `imputer.pkl` (for handling missing values)\n",
    "\n",
    "\n",
    "\n",
    "##  Loading and Making Predictions\n",
    "\n",
    "We load the saved models and apply them to new sample inputs. For this demonstration, we select a few samples from the test set and predict their labels.\n",
    "\n",
    "We also show how the prediction can be integrated into an interactive application for end users (e.g., doctors or lab technicians).\n",
    "\n",
    "\n",
    "##  Example Output\n",
    "\n",
    "- Input: Normalized feature vector from an unseen patient sample  \n",
    "- Output: `Prediction: Lung Cancer` or `Prediction: Normal`\n",
    "\n",
    "This simple interface will later be enhanced into a user-friendly app using **Streamlit**.\n",
    "\n",
    "\n",
    "\n",
    "##  Ready for Deployment\n",
    "\n",
    "With the models and preprocessing pipeline saved, this notebook serves as the foundation for:\n",
    "- Building a diagnostic app using **Streamlit**\n",
    "- Hosting a REST API endpoint\n",
    "- Integrating into clinical decision support systems\n",
    "\n",
    "\n"
   ]
  },
  {
   "cell_type": "markdown",
   "id": "0ac85097-12c3-405c-9253-f586eb733640",
   "metadata": {},
   "source": [
    "### Saving and Reloading Imputer\n",
    "\n",
    "To handle missing values consistently across training and inference, we use `SimpleImputer` with the \"mean\" strategy. This imputer is fitted on the training data and saved using `joblib`. It can be reloaded later to ensure the same transformation logic is applied during model deployment.\n"
   ]
  },
  {
   "cell_type": "code",
   "execution_count": 7,
   "id": "51d8f758-fcfc-4c5e-b93e-7917622a2d25",
   "metadata": {},
   "outputs": [
    {
     "name": "stdout",
     "output_type": "stream",
     "text": [
      "['Unnamed: 0', 'gene 1', 'gene 2', 'gene 3', 'miRNA_21', 'miRNA_34a', 'Label']\n"
     ]
    }
   ],
   "source": [
    "import pandas as pd\n",
    "print(df.columns.tolist())\n"
   ]
  },
  {
   "cell_type": "code",
   "execution_count": 11,
   "id": "14908365-9154-43ef-a150-557413a749db",
   "metadata": {},
   "outputs": [
    {
     "name": "stdout",
     "output_type": "stream",
     "text": [
      "✅ Retrained model with 5 features saved successfully.\n"
     ]
    }
   ],
   "source": [
    "import pandas as pd\n",
    "from sklearn.impute import SimpleImputer\n",
    "from sklearn.preprocessing import StandardScaler\n",
    "from sklearn.ensemble import RandomForestClassifier\n",
    "from sklearn.model_selection import train_test_split\n",
    "import joblib\n",
    "import os\n",
    "\n",
    "# Load your cleaned data\n",
    "df = pd.read_csv(\"C:/Users/sanja/cfDNA-Lung-Cancer-ML/data/processed/merged_labeled_light.csv\")\n",
    "\n",
    "# Rename columns if needed\n",
    "df = df.rename(columns={\n",
    "    'gene 1': 'gene1',\n",
    "    'gene 2': 'gene2',\n",
    "    'gene 3': 'gene3'\n",
    "})\n",
    "df = df.drop(columns=['Unnamed: 0'], errors='ignore')\n",
    "\n",
    "# Select only the 5 required features\n",
    "features = ['gene1', 'gene2', 'gene3', 'miRNA_21', 'miRNA_34a']\n",
    "X = df[features]\n",
    "y = df['Label']\n",
    "\n",
    "# Preprocess: impute and scale\n",
    "imputer = SimpleImputer(strategy='mean')\n",
    "X_imputed = imputer.fit_transform(X)\n",
    "\n",
    "scaler = StandardScaler()\n",
    "X_scaled = scaler.fit_transform(X_imputed)\n",
    "\n",
    "# Train-test split\n",
    "X_train, X_test, y_train, y_test = train_test_split(X_scaled, y, test_size=0.2, random_state=42)\n",
    "\n",
    "# Train Random Forest model\n",
    "model = RandomForestClassifier(random_state=42)\n",
    "model.fit(X_train, y_train)\n",
    "\n",
    "# Save model, imputer, scaler\n",
    "os.makedirs(\"models\", exist_ok=True)\n",
    "joblib.dump(model, \"models/random_forest_model.pkl\")\n",
    "joblib.dump(imputer, \"models/imputer.pkl\")\n",
    "joblib.dump(scaler, \"models/scaler.pkl\")\n",
    "\n",
    "print(\"✅ Retrained model with 5 features saved successfully.\")\n",
    "\n",
    "\n"
   ]
  },
  {
   "cell_type": "markdown",
   "id": "a3af2a55-e919-4c4a-b261-346cf92dc5b8",
   "metadata": {},
   "source": [
    ">  **Note:** If you try to run `joblib.load('imputer.pkl')` in a new notebook without first defining or saving the `imputer` object, it will throw a `NameError`.  \n",
    "> The imputer must first be **fitted on your dataset** using `SimpleImputer` and then **saved** using `joblib.dump()` before it can be reused across notebooks.\n",
    "> \n",
    "> Additionally, `.pkl` files like `imputer.pkl` are **binary files** and should not be opened directly in Jupyter. Always load them through code using `joblib.load()`.\n"
   ]
  }
 ],
 "metadata": {
  "kernelspec": {
   "display_name": "Python 3 (ipykernel)",
   "language": "python",
   "name": "python3"
  },
  "language_info": {
   "codemirror_mode": {
    "name": "ipython",
    "version": 3
   },
   "file_extension": ".py",
   "mimetype": "text/x-python",
   "name": "python",
   "nbconvert_exporter": "python",
   "pygments_lexer": "ipython3",
   "version": "3.11.0"
  }
 },
 "nbformat": 4,
 "nbformat_minor": 5
}
